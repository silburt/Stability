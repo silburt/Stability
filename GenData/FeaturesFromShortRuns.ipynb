{
 "cells": [
  {
   "cell_type": "code",
   "execution_count": 1,
   "metadata": {
    "collapsed": false
   },
   "outputs": [
    {
     "data": {
      "text/html": [
       "<div>\n",
       "<table border=\"1\" class=\"dataframe\">\n",
       "  <thead>\n",
       "    <tr style=\"text-align: right;\">\n",
       "      <th></th>\n",
       "      <th>Stable</th>\n",
       "      <th>Norbits_instability</th>\n",
       "      <th>Norbits</th>\n",
       "      <th>Mplanet</th>\n",
       "      <th>RH/a</th>\n",
       "      <th>a1</th>\n",
       "      <th>P1</th>\n",
       "      <th>e1</th>\n",
       "      <th>pomega1</th>\n",
       "      <th>inc1</th>\n",
       "      <th>...</th>\n",
       "      <th>Omega3</th>\n",
       "      <th>f3</th>\n",
       "      <th>x3</th>\n",
       "      <th>y3</th>\n",
       "      <th>z3</th>\n",
       "      <th>vx3</th>\n",
       "      <th>vy3</th>\n",
       "      <th>vz3</th>\n",
       "      <th>Rel_Eerr</th>\n",
       "      <th>integ_time</th>\n",
       "    </tr>\n",
       "    <tr>\n",
       "      <th>Sim_ID</th>\n",
       "      <th></th>\n",
       "      <th></th>\n",
       "      <th></th>\n",
       "      <th></th>\n",
       "      <th></th>\n",
       "      <th></th>\n",
       "      <th></th>\n",
       "      <th></th>\n",
       "      <th></th>\n",
       "      <th></th>\n",
       "      <th></th>\n",
       "      <th></th>\n",
       "      <th></th>\n",
       "      <th></th>\n",
       "      <th></th>\n",
       "      <th></th>\n",
       "      <th></th>\n",
       "      <th></th>\n",
       "      <th></th>\n",
       "      <th></th>\n",
       "      <th></th>\n",
       "    </tr>\n",
       "  </thead>\n",
       "  <tbody>\n",
       "    <tr>\n",
       "      <th>4995</th>\n",
       "      <td>True</td>\n",
       "      <td>1.000000e+07</td>\n",
       "      <td>10000000.0</td>\n",
       "      <td>0.000015</td>\n",
       "      <td>0.021544</td>\n",
       "      <td>0.053729</td>\n",
       "      <td>0.012454</td>\n",
       "      <td>0.005642</td>\n",
       "      <td>-1.657512</td>\n",
       "      <td>0.012805</td>\n",
       "      <td>...</td>\n",
       "      <td>-2.455928</td>\n",
       "      <td>-0.162476</td>\n",
       "      <td>0.008390</td>\n",
       "      <td>-0.073445</td>\n",
       "      <td>0.000225</td>\n",
       "      <td>23.145675</td>\n",
       "      <td>2.707954</td>\n",
       "      <td>0.045366</td>\n",
       "      <td>2.622256e-09</td>\n",
       "      <td>1437.494908</td>\n",
       "    </tr>\n",
       "    <tr>\n",
       "      <th>4996</th>\n",
       "      <td>True</td>\n",
       "      <td>1.000000e+07</td>\n",
       "      <td>10000000.0</td>\n",
       "      <td>0.000015</td>\n",
       "      <td>0.021544</td>\n",
       "      <td>0.056524</td>\n",
       "      <td>0.013439</td>\n",
       "      <td>0.003143</td>\n",
       "      <td>0.454508</td>\n",
       "      <td>0.016073</td>\n",
       "      <td>...</td>\n",
       "      <td>2.849398</td>\n",
       "      <td>1.906923</td>\n",
       "      <td>-0.025937</td>\n",
       "      <td>0.072181</td>\n",
       "      <td>-0.000593</td>\n",
       "      <td>-21.424946</td>\n",
       "      <td>-7.242948</td>\n",
       "      <td>0.126097</td>\n",
       "      <td>1.469989e-08</td>\n",
       "      <td>1502.892072</td>\n",
       "    </tr>\n",
       "    <tr>\n",
       "      <th>4997</th>\n",
       "      <td>True</td>\n",
       "      <td>1.000000e+07</td>\n",
       "      <td>10000000.0</td>\n",
       "      <td>0.000015</td>\n",
       "      <td>0.021544</td>\n",
       "      <td>0.058060</td>\n",
       "      <td>0.013990</td>\n",
       "      <td>0.009825</td>\n",
       "      <td>-0.543930</td>\n",
       "      <td>0.013198</td>\n",
       "      <td>...</td>\n",
       "      <td>1.792055</td>\n",
       "      <td>0.982644</td>\n",
       "      <td>-0.007582</td>\n",
       "      <td>0.076548</td>\n",
       "      <td>-0.000043</td>\n",
       "      <td>-22.647292</td>\n",
       "      <td>-2.002117</td>\n",
       "      <td>0.103816</td>\n",
       "      <td>7.680985e-09</td>\n",
       "      <td>1408.293117</td>\n",
       "    </tr>\n",
       "    <tr>\n",
       "      <th>4998</th>\n",
       "      <td>False</td>\n",
       "      <td>2.365555e+05</td>\n",
       "      <td>10000000.0</td>\n",
       "      <td>0.000015</td>\n",
       "      <td>0.021544</td>\n",
       "      <td>0.052558</td>\n",
       "      <td>0.012049</td>\n",
       "      <td>0.003733</td>\n",
       "      <td>-3.677540</td>\n",
       "      <td>0.004648</td>\n",
       "      <td>...</td>\n",
       "      <td>-3.022916</td>\n",
       "      <td>0.840517</td>\n",
       "      <td>0.031328</td>\n",
       "      <td>-0.060568</td>\n",
       "      <td>0.000609</td>\n",
       "      <td>21.634522</td>\n",
       "      <td>10.844146</td>\n",
       "      <td>-0.078264</td>\n",
       "      <td>6.473084e-07</td>\n",
       "      <td>33.453553</td>\n",
       "    </tr>\n",
       "    <tr>\n",
       "      <th>4999</th>\n",
       "      <td>False</td>\n",
       "      <td>1.997705e+04</td>\n",
       "      <td>10000000.0</td>\n",
       "      <td>0.000015</td>\n",
       "      <td>0.021544</td>\n",
       "      <td>0.051719</td>\n",
       "      <td>0.011762</td>\n",
       "      <td>0.015866</td>\n",
       "      <td>1.766786</td>\n",
       "      <td>0.011312</td>\n",
       "      <td>...</td>\n",
       "      <td>-1.104623</td>\n",
       "      <td>2.694640</td>\n",
       "      <td>0.067710</td>\n",
       "      <td>0.016891</td>\n",
       "      <td>0.000328</td>\n",
       "      <td>-5.630598</td>\n",
       "      <td>22.998094</td>\n",
       "      <td>0.025569</td>\n",
       "      <td>8.613444e-07</td>\n",
       "      <td>3.079377</td>\n",
       "    </tr>\n",
       "  </tbody>\n",
       "</table>\n",
       "<p>5 rows × 46 columns</p>\n",
       "</div>"
      ],
      "text/plain": [
       "       Stable  Norbits_instability     Norbits   Mplanet      RH/a        a1  \\\n",
       "Sim_ID                                                                         \n",
       "4995     True         1.000000e+07  10000000.0  0.000015  0.021544  0.053729   \n",
       "4996     True         1.000000e+07  10000000.0  0.000015  0.021544  0.056524   \n",
       "4997     True         1.000000e+07  10000000.0  0.000015  0.021544  0.058060   \n",
       "4998    False         2.365555e+05  10000000.0  0.000015  0.021544  0.052558   \n",
       "4999    False         1.997705e+04  10000000.0  0.000015  0.021544  0.051719   \n",
       "\n",
       "              P1        e1   pomega1      inc1     ...         Omega3  \\\n",
       "Sim_ID                                             ...                  \n",
       "4995    0.012454  0.005642 -1.657512  0.012805     ...      -2.455928   \n",
       "4996    0.013439  0.003143  0.454508  0.016073     ...       2.849398   \n",
       "4997    0.013990  0.009825 -0.543930  0.013198     ...       1.792055   \n",
       "4998    0.012049  0.003733 -3.677540  0.004648     ...      -3.022916   \n",
       "4999    0.011762  0.015866  1.766786  0.011312     ...      -1.104623   \n",
       "\n",
       "              f3        x3        y3        z3        vx3        vy3  \\\n",
       "Sim_ID                                                                 \n",
       "4995   -0.162476  0.008390 -0.073445  0.000225  23.145675   2.707954   \n",
       "4996    1.906923 -0.025937  0.072181 -0.000593 -21.424946  -7.242948   \n",
       "4997    0.982644 -0.007582  0.076548 -0.000043 -22.647292  -2.002117   \n",
       "4998    0.840517  0.031328 -0.060568  0.000609  21.634522  10.844146   \n",
       "4999    2.694640  0.067710  0.016891  0.000328  -5.630598  22.998094   \n",
       "\n",
       "             vz3      Rel_Eerr   integ_time  \n",
       "Sim_ID                                       \n",
       "4995    0.045366  2.622256e-09  1437.494908  \n",
       "4996    0.126097  1.469989e-08  1502.892072  \n",
       "4997    0.103816  7.680985e-09  1408.293117  \n",
       "4998   -0.078264  6.473084e-07    33.453553  \n",
       "4999    0.025569  8.613444e-07     3.079377  \n",
       "\n",
       "[5 rows x 46 columns]"
      ]
     },
     "execution_count": 1,
     "metadata": {},
     "output_type": "execute_result"
    }
   ],
   "source": [
    "import pandas as pd\n",
    "import numpy as np\n",
    "df = pd.read_csv('../data/1e7datasetcorr.csv', index_col=0)\n",
    "df.tail()"
   ]
  },
  {
   "cell_type": "code",
   "execution_count": 2,
   "metadata": {
    "collapsed": false
   },
   "outputs": [],
   "source": [
    "df['Pratio21'] = df['P2']/df['P1']\n",
    "df['Pratio32'] = df['P3']/df['P2']"
   ]
  },
  {
   "cell_type": "code",
   "execution_count": 203,
   "metadata": {
    "collapsed": true
   },
   "outputs": [],
   "source": [
    "dflonginstability = df.loc[(df['Norbits_instability'] > 1.e6) & (df['Norbits_instability'] < 1.e7)]"
   ]
  },
  {
   "cell_type": "code",
   "execution_count": 204,
   "metadata": {
    "collapsed": true
   },
   "outputs": [],
   "source": [
    "longinstabilityids = dflonginstability.index.values"
   ]
  },
  {
   "cell_type": "code",
   "execution_count": 206,
   "metadata": {
    "collapsed": false
   },
   "outputs": [
    {
     "data": {
      "text/plain": [
       "3"
      ]
     },
     "execution_count": 206,
     "metadata": {},
     "output_type": "execute_result"
    }
   ],
   "source": [
    "longinstabilityids[0]"
   ]
  },
  {
   "cell_type": "code",
   "execution_count": 11,
   "metadata": {
    "collapsed": false
   },
   "outputs": [],
   "source": [
    "df5to4 = df.loc[(df['Pratio21'] > 1.249) & (df['Pratio21'] < 1.251)]"
   ]
  },
  {
   "cell_type": "code",
   "execution_count": 19,
   "metadata": {
    "collapsed": false
   },
   "outputs": [],
   "source": [
    "simids = df5to4.index.values"
   ]
  },
  {
   "cell_type": "code",
   "execution_count": 24,
   "metadata": {
    "collapsed": false
   },
   "outputs": [
    {
     "name": "stdout",
     "output_type": "stream",
     "text": [
      "85\n"
     ]
    }
   ],
   "source": [
    "sim_id = simids[0]\n",
    "print(sim_id)\n",
    "s = df.loc[sim_id]"
   ]
  },
  {
   "cell_type": "code",
   "execution_count": 28,
   "metadata": {
    "collapsed": false
   },
   "outputs": [
    {
     "data": {
      "text/plain": [
       "Stable                       False\n",
       "Norbits_instability        6691.12\n",
       "Norbits                      1e+07\n",
       "Mplanet                    1.5e-05\n",
       "RH/a                     0.0215443\n",
       "a1                       0.0439918\n",
       "P1                      0.00922686\n",
       "e1                       0.0181036\n",
       "pomega1                    1.20685\n",
       "inc1                    0.00804983\n",
       "Omega1                    -1.43736\n",
       "f1                        -0.57868\n",
       "x1                       0.0350492\n",
       "y1                       0.0254587\n",
       "z1                     0.000306894\n",
       "vx1                       -18.1143\n",
       "vy1                        24.4349\n",
       "vz1                      -0.118356\n",
       "a2                       0.0510624\n",
       "P2                       0.0115384\n",
       "e2                       0.0116444\n",
       "pomega2                   -2.00294\n",
       "inc2                    0.00936161\n",
       "Omega2                   -0.965771\n",
       "f2                          1.4111\n",
       "x2                       0.0422926\n",
       "y2                      -0.0284303\n",
       "z2                     0.000174253\n",
       "vx2                        15.8063\n",
       "vy2                        22.9417\n",
       "vz2                        0.24387\n",
       "a3                       0.0570342\n",
       "P3                       0.0136205\n",
       "e3                       0.0136814\n",
       "pomega3                    3.77805\n",
       "inc3                    0.00813214\n",
       "Omega3                     2.70615\n",
       "f3                       0.0338617\n",
       "x3                      -0.0440809\n",
       "y3                      -0.0349452\n",
       "z3                     0.000408878\n",
       "vx3                        16.5602\n",
       "vy3                       -20.9079\n",
       "vz3                      0.0973566\n",
       "Rel_Eerr               8.73668e-07\n",
       "integ_time                 1.56664\n",
       "Pratio21                   1.25052\n",
       "Pratio32                   1.18045\n",
       "Name: 85, dtype: object"
      ]
     },
     "execution_count": 28,
     "metadata": {},
     "output_type": "execute_result"
    }
   ],
   "source": [
    "s"
   ]
  },
  {
   "cell_type": "code",
   "execution_count": 2,
   "metadata": {
    "collapsed": true
   },
   "outputs": [],
   "source": [
    "maxorbs = 1.e4\n",
    "Noutputs = 2000"
   ]
  },
  {
   "cell_type": "code",
   "execution_count": 3,
   "metadata": {
    "collapsed": false
   },
   "outputs": [],
   "source": [
    "import numpy as np\n",
    "import rebound\n",
    "import time\n",
    "\n",
    "def system(sim_id):\n",
    "    s = df.loc[sim_id]\n",
    "    sim = rebound.Simulation()\n",
    "    sim.add(m=1.)\n",
    "    sim.G = 4*np.pi**2\n",
    "    mp = s['Mplanet']\n",
    "    gamma = s['RH/a']\n",
    "    for i in ['1', '2', '3']:\n",
    "        sim.add(m=mp, x=s['x'+i], y=s['y'+i], z=s['z'+i], vx=s['vx'+i], vy=s['vy'+i], vz=s['vz'+i])\n",
    "    sim.move_to_com()\n",
    "    ps = sim.particles\n",
    "\n",
    "    sim.integrator=\"whfast\"\n",
    "    P0 = ps[1].P\n",
    "    tmax = maxorbs * P0 # number of inner planet orbital periods to integrate\n",
    "    sim.dt = P0*0.09\n",
    "    sim.exit_min_distance = ps[1].a*gamma # use smaller hill radius as exit condition\n",
    "\n",
    "    sim.init_megno()\n",
    "\n",
    "    features = [maxorbs, mp, gamma]\n",
    "    for p in ps[1:sim.N_real]:\n",
    "        features = features + [p.a, p.P, p.e, p.pomega, p.inc, p.Omega, p.f]\n",
    "\n",
    "    stable = [True] # assume it's stable and update if not\n",
    "\n",
    "    E0 = sim.calculate_energy()\n",
    "    t0 = time.time()\n",
    "\n",
    "    times = np.linspace(0,tmax,Noutputs)\n",
    "    outputs = '/mnt/raid-cita/dtamayo/Stability/data/featuresfromshortruns/output'+str(sim_id)+'.csv'\n",
    "\n",
    "    with open(outputs, 'w') as f:\n",
    "        try:\n",
    "            for t in times:\n",
    "                sim.integrate(t)\n",
    "                f.write(str(sim.t))\n",
    "                try:\n",
    "                    outs = [1./sim.calculate_lyapunov()]\n",
    "                except: \n",
    "                    outs = [np.inf]\n",
    "                for p in ps[1:sim.N_real]:\n",
    "                    outs = outs + [p.a, p.P, p.e, p.pomega, p.inc, p.Omega, p.f]\n",
    "\n",
    "                for out in outs:\n",
    "                    f.write(',{0}'.format(out))\n",
    "                f.write('\\n')\n",
    "        except rebound.Encounter as error:\n",
    "            stable = [False]\n",
    "            f.write(str(sim.t)) # this block added after the 1e7 dataset was generated for future use\n",
    "            try:\n",
    "                outs = [1./sim.calculate_lyapunov()]\n",
    "            except: \n",
    "                outs = [np.inf]\n",
    "            for p in ps[1:sim.N_real]:\n",
    "                outs = outs + [p.a, p.P, p.e, p.pomega, p.inc, p.Omega, p.f]\n",
    "\n",
    "            for out in outs:\n",
    "                f.write(',{0}'.format(out))\n",
    "            f.write('\\n')\n",
    "\n",
    "    features = [sim_id] + stable+[sim.t/P0]+features+[np.abs((sim.calculate_energy()-E0)/E0), time.time()-t0]\n",
    "    return features"
   ]
  },
  {
   "cell_type": "code",
   "execution_count": null,
   "metadata": {
    "collapsed": false
   },
   "outputs": [],
   "source": [
    "for sim_id in range(5000):\n",
    "    system(sim_id)"
   ]
  },
  {
   "cell_type": "code",
   "execution_count": 4,
   "metadata": {
    "collapsed": true
   },
   "outputs": [],
   "source": [
    "sim_id = 2414"
   ]
  },
  {
   "cell_type": "code",
   "execution_count": 219,
   "metadata": {
    "collapsed": false
   },
   "outputs": [
    {
     "data": {
      "text/plain": [
       "Stable                       False\n",
       "Norbits_instability    1.11828e+06\n",
       "Norbits                      1e+07\n",
       "Mplanet                    1.5e-05\n",
       "RH/a                     0.0215443\n",
       "a1                       0.0447593\n",
       "P1                      0.00946938\n",
       "e1                       0.0120784\n",
       "pomega1                   -2.35167\n",
       "inc1                    0.00114369\n",
       "Omega1                   0.0827369\n",
       "f1                         5.26197\n",
       "x1                      -0.0432872\n",
       "y1                        0.010194\n",
       "z1                     1.57203e-05\n",
       "vx1                       -6.55336\n",
       "vy1                       -29.1623\n",
       "vz1                     -0.0326142\n",
       "a2                       0.0516801\n",
       "P2                       0.0117484\n",
       "e2                      0.00518708\n",
       "pomega2                    1.47234\n",
       "inc2                     0.0173773\n",
       "Omega2                     2.95475\n",
       "f2                        -1.02754\n",
       "x2                       0.0465247\n",
       "y2                        0.022172\n",
       "z2                    -0.000528809\n",
       "vx2                       -12.0359\n",
       "vy2                        24.9609\n",
       "vz2                      -0.387386\n",
       "a3                       0.0588948\n",
       "P3                       0.0142924\n",
       "e3                      0.00952706\n",
       "pomega3                    -2.2678\n",
       "inc3                    0.00262875\n",
       "Omega3                    -2.29424\n",
       "f3                       -0.829096\n",
       "x3                      -0.0584534\n",
       "y3                     -0.00261442\n",
       "z3                    -0.000110624\n",
       "vx3                        1.34595\n",
       "vy3                       -26.0244\n",
       "vz3                      0.0479384\n",
       "Rel_Eerr               1.08943e-06\n",
       "integ_time                 248.878\n",
       "Pratio21                   1.24067\n",
       "Pratio32                   1.21654\n",
       "Name: 3, dtype: object"
      ]
     },
     "execution_count": 219,
     "metadata": {},
     "output_type": "execute_result"
    }
   ],
   "source": [
    "df.loc[3]"
   ]
  },
  {
   "cell_type": "code",
   "execution_count": 95,
   "metadata": {
    "collapsed": false
   },
   "outputs": [
    {
     "data": {
      "text/html": [
       "<div>\n",
       "<table border=\"1\" class=\"dataframe\">\n",
       "  <thead>\n",
       "    <tr style=\"text-align: right;\">\n",
       "      <th></th>\n",
       "      <th>Time</th>\n",
       "      <th>Lyapunov Time</th>\n",
       "      <th>a1</th>\n",
       "      <th>P1</th>\n",
       "      <th>e1</th>\n",
       "      <th>pomega1</th>\n",
       "      <th>inc1</th>\n",
       "      <th>Omega1</th>\n",
       "      <th>f1</th>\n",
       "      <th>a2</th>\n",
       "      <th>...</th>\n",
       "      <th>inc2</th>\n",
       "      <th>Omega2</th>\n",
       "      <th>f2</th>\n",
       "      <th>a3</th>\n",
       "      <th>P3</th>\n",
       "      <th>e3</th>\n",
       "      <th>pomega3</th>\n",
       "      <th>inc3</th>\n",
       "      <th>Omega3</th>\n",
       "      <th>f3</th>\n",
       "    </tr>\n",
       "  </thead>\n",
       "  <tbody>\n",
       "    <tr>\n",
       "      <th>0</th>\n",
       "      <td>0.000000</td>\n",
       "      <td>inf</td>\n",
       "      <td>0.056881</td>\n",
       "      <td>0.013566</td>\n",
       "      <td>0.005216</td>\n",
       "      <td>-3.088293</td>\n",
       "      <td>0.007068</td>\n",
       "      <td>-1.358398</td>\n",
       "      <td>1.923325</td>\n",
       "      <td>0.066725</td>\n",
       "      <td>...</td>\n",
       "      <td>0.015850</td>\n",
       "      <td>-3.112129</td>\n",
       "      <td>1.779466</td>\n",
       "      <td>0.076334</td>\n",
       "      <td>0.021090</td>\n",
       "      <td>0.015063</td>\n",
       "      <td>-2.398046</td>\n",
       "      <td>0.004372</td>\n",
       "      <td>-0.567135</td>\n",
       "      <td>-0.107999</td>\n",
       "    </tr>\n",
       "    <tr>\n",
       "      <th>1</th>\n",
       "      <td>0.067863</td>\n",
       "      <td>-0.503330</td>\n",
       "      <td>0.056914</td>\n",
       "      <td>0.013578</td>\n",
       "      <td>0.005973</td>\n",
       "      <td>-2.847616</td>\n",
       "      <td>0.007138</td>\n",
       "      <td>-1.367602</td>\n",
       "      <td>1.699237</td>\n",
       "      <td>0.066739</td>\n",
       "      <td>...</td>\n",
       "      <td>0.015803</td>\n",
       "      <td>-3.118137</td>\n",
       "      <td>1.444774</td>\n",
       "      <td>0.076279</td>\n",
       "      <td>0.021067</td>\n",
       "      <td>0.014250</td>\n",
       "      <td>-2.437014</td>\n",
       "      <td>0.004385</td>\n",
       "      <td>-0.570110</td>\n",
       "      <td>1.333740</td>\n",
       "    </tr>\n",
       "    <tr>\n",
       "      <th>2</th>\n",
       "      <td>0.135726</td>\n",
       "      <td>-0.688529</td>\n",
       "      <td>0.056876</td>\n",
       "      <td>0.013564</td>\n",
       "      <td>0.005950</td>\n",
       "      <td>-3.072441</td>\n",
       "      <td>0.007167</td>\n",
       "      <td>-1.368827</td>\n",
       "      <td>1.935987</td>\n",
       "      <td>0.066739</td>\n",
       "      <td>...</td>\n",
       "      <td>0.015823</td>\n",
       "      <td>-3.122376</td>\n",
       "      <td>0.865252</td>\n",
       "      <td>0.076322</td>\n",
       "      <td>0.021085</td>\n",
       "      <td>0.012731</td>\n",
       "      <td>-2.437054</td>\n",
       "      <td>0.004423</td>\n",
       "      <td>-0.574628</td>\n",
       "      <td>2.696141</td>\n",
       "    </tr>\n",
       "    <tr>\n",
       "      <th>3</th>\n",
       "      <td>0.203589</td>\n",
       "      <td>-1.029903</td>\n",
       "      <td>0.056873</td>\n",
       "      <td>0.013563</td>\n",
       "      <td>0.004775</td>\n",
       "      <td>-2.942920</td>\n",
       "      <td>0.007202</td>\n",
       "      <td>-1.375138</td>\n",
       "      <td>1.821911</td>\n",
       "      <td>0.066740</td>\n",
       "      <td>...</td>\n",
       "      <td>0.015817</td>\n",
       "      <td>-3.129253</td>\n",
       "      <td>0.642454</td>\n",
       "      <td>0.076327</td>\n",
       "      <td>0.021087</td>\n",
       "      <td>0.015158</td>\n",
       "      <td>-2.419583</td>\n",
       "      <td>0.004482</td>\n",
       "      <td>-0.583294</td>\n",
       "      <td>4.020210</td>\n",
       "    </tr>\n",
       "    <tr>\n",
       "      <th>4</th>\n",
       "      <td>0.271452</td>\n",
       "      <td>-1.438369</td>\n",
       "      <td>0.056876</td>\n",
       "      <td>0.013564</td>\n",
       "      <td>0.006413</td>\n",
       "      <td>-2.812365</td>\n",
       "      <td>0.007249</td>\n",
       "      <td>-1.376436</td>\n",
       "      <td>1.711192</td>\n",
       "      <td>0.066738</td>\n",
       "      <td>...</td>\n",
       "      <td>0.015846</td>\n",
       "      <td>-3.136356</td>\n",
       "      <td>0.131849</td>\n",
       "      <td>0.076323</td>\n",
       "      <td>0.021085</td>\n",
       "      <td>0.012801</td>\n",
       "      <td>-2.473977</td>\n",
       "      <td>0.004541</td>\n",
       "      <td>-0.591500</td>\n",
       "      <td>-0.827657</td>\n",
       "    </tr>\n",
       "  </tbody>\n",
       "</table>\n",
       "<p>5 rows × 23 columns</p>\n",
       "</div>"
      ],
      "text/plain": [
       "       Time  Lyapunov Time        a1        P1        e1   pomega1      inc1  \\\n",
       "0  0.000000            inf  0.056881  0.013566  0.005216 -3.088293  0.007068   \n",
       "1  0.067863      -0.503330  0.056914  0.013578  0.005973 -2.847616  0.007138   \n",
       "2  0.135726      -0.688529  0.056876  0.013564  0.005950 -3.072441  0.007167   \n",
       "3  0.203589      -1.029903  0.056873  0.013563  0.004775 -2.942920  0.007202   \n",
       "4  0.271452      -1.438369  0.056876  0.013564  0.006413 -2.812365  0.007249   \n",
       "\n",
       "     Omega1        f1        a2    ...         inc2    Omega2        f2  \\\n",
       "0 -1.358398  1.923325  0.066725    ...     0.015850 -3.112129  1.779466   \n",
       "1 -1.367602  1.699237  0.066739    ...     0.015803 -3.118137  1.444774   \n",
       "2 -1.368827  1.935987  0.066739    ...     0.015823 -3.122376  0.865252   \n",
       "3 -1.375138  1.821911  0.066740    ...     0.015817 -3.129253  0.642454   \n",
       "4 -1.376436  1.711192  0.066738    ...     0.015846 -3.136356  0.131849   \n",
       "\n",
       "         a3        P3        e3   pomega3      inc3    Omega3        f3  \n",
       "0  0.076334  0.021090  0.015063 -2.398046  0.004372 -0.567135 -0.107999  \n",
       "1  0.076279  0.021067  0.014250 -2.437014  0.004385 -0.570110  1.333740  \n",
       "2  0.076322  0.021085  0.012731 -2.437054  0.004423 -0.574628  2.696141  \n",
       "3  0.076327  0.021087  0.015158 -2.419583  0.004482 -0.583294  4.020210  \n",
       "4  0.076323  0.021085  0.012801 -2.473977  0.004541 -0.591500 -0.827657  \n",
       "\n",
       "[5 rows x 23 columns]"
      ]
     },
     "execution_count": 95,
     "metadata": {},
     "output_type": "execute_result"
    }
   ],
   "source": [
    "import pandas as pd\n",
    "import numpy as np\n",
    "sim_id = 0\n",
    "columns = ['Time', 'Lyapunov Time']\n",
    "for i in ['1', '2', '3']:\n",
    "    columns += ['a'+i, 'P'+i, 'e'+i, 'pomega'+i, 'inc'+i, 'Omega'+i, 'f'+i]\n",
    "            \n",
    "filename = '/mnt/raid-cita/dtamayo/Stability/data/featuresfromshortruns/output'+str(sim_id)+'.csv'\n",
    "run = pd.read_csv(filename, names=columns)\n",
    "run.head()"
   ]
  },
  {
   "cell_type": "code",
   "execution_count": 94,
   "metadata": {
    "collapsed": false
   },
   "outputs": [
    {
     "data": {
      "text/plain": [
       "[<matplotlib.lines.Line2D at 0x7f57e9117c10>]"
      ]
     },
     "execution_count": 94,
     "metadata": {},
     "output_type": "execute_result"
    },
    {
     "data": {
      "image/png": "[encoded data removed]",
      "text/plain": [
       "<matplotlib.figure.Figure at 0x7f57e92eda90>"
      ]
     },
     "metadata": {},
     "output_type": "display_data"
    }
   ],
   "source": [
    "%matplotlib inline\n",
    "import matplotlib.pyplot as plt\n",
    "\n",
    "fig, ax = plt.subplots()\n",
    "mean = run['a1'].mean()\n",
    "ax.plot(run['Time'], (run['a1']-mean)/mean, ',')\n",
    "#ax.set_xlim([0,20])"
   ]
  },
  {
   "cell_type": "code",
   "execution_count": 85,
   "metadata": {
    "collapsed": false
   },
   "outputs": [
    {
     "data": {
      "text/plain": [
       "(0, 0.02)"
      ]
     },
     "execution_count": 85,
     "metadata": {},
     "output_type": "execute_result"
    },
    {
     "data": {
      "image/png": "[encoded data removed]",
      "text/plain": [
       "<matplotlib.figure.Figure at 0x7f57e9167b50>"
      ]
     },
     "metadata": {},
     "output_type": "display_data"
    }
   ],
   "source": [
    "%matplotlib inline\n",
    "import matplotlib.pyplot as plt\n",
    "\n",
    "fig, ax = plt.subplots()\n",
    "ax.plot(run['Time'], run['e3'], ',')\n",
    "ax.set_ylim([0,0.02])"
   ]
  },
  {
   "cell_type": "code",
   "execution_count": 86,
   "metadata": {
    "collapsed": false
   },
   "outputs": [
    {
     "data": {
      "text/plain": [
       "(0, 20)"
      ]
     },
     "execution_count": 86,
     "metadata": {},
     "output_type": "execute_result"
    },
    {
     "data": {
      "image/png": "[encoded data removed]",
      "text/plain": [
       "<matplotlib.figure.Figure at 0x7f57e9908bd0>"
      ]
     },
     "metadata": {},
     "output_type": "display_data"
    }
   ],
   "source": [
    "%matplotlib inline\n",
    "import matplotlib.pyplot as plt\n",
    "\n",
    "fig, ax = plt.subplots()\n",
    "ax.plot(run['Time'], run['Lyapunov Time'], ',')\n",
    "ax.set_ylim([0, 20])"
   ]
  },
  {
   "cell_type": "code",
   "execution_count": 96,
   "metadata": {
    "collapsed": false
   },
   "outputs": [
    {
     "data": {
      "text/plain": [
       "[<matplotlib.lines.Line2D at 0x7f57e8e0ac90>]"
      ]
     },
     "execution_count": 96,
     "metadata": {},
     "output_type": "execute_result"
    },
    {
     "data": {
      "image/png": "[encoded data removed]",
      "text/plain": [
       "<matplotlib.figure.Figure at 0x7f57e91eac90>"
      ]
     },
     "metadata": {},
     "output_type": "display_data"
    }
   ],
   "source": [
    "%matplotlib inline\n",
    "import matplotlib.pyplot as plt\n",
    "\n",
    "fig, ax = plt.subplots()\n",
    "ax.plot(run['Time'], run['a1'], ',')\n",
    "#ax.set_xlim([0,20])"
   ]
  },
  {
   "cell_type": "code",
   "execution_count": 217,
   "metadata": {
    "collapsed": true
   },
   "outputs": [],
   "source": [
    "dfnonres = df.loc[(df['Pratio21'] > 1.269) & (df['Pratio21'] < 1.271)]\n",
    "simnonresids = dfnonres.index.values"
   ]
  },
  {
   "cell_type": "code",
   "execution_count": 187,
   "metadata": {
    "collapsed": false
   },
   "outputs": [
    {
     "data": {
      "text/plain": [
       "[183,\n",
       " False,\n",
       " 9590.244897448729,\n",
       " 10000.0,\n",
       " 1.4999999999999999e-05,\n",
       " 0.021544346900299997,\n",
       " 0.04215845920679021,\n",
       " 0.00865613134987766,\n",
       " 0.006031181910250666,\n",
       " -4.904101878502302,\n",
       " 0.014265108440325384,\n",
       " -3.0197203190848136,\n",
       " 0.5796889130474594,\n",
       " 0.049415615293136345,\n",
       " 0.010984740370857721,\n",
       " 0.012915350483452711,\n",
       " -0.6611543892033798,\n",
       " 0.0012638159117220927,\n",
       " -2.3579490506336263,\n",
       " -1.8889205086785934,\n",
       " 0.054745354095975966,\n",
       " 0.012808879272779024,\n",
       " 0.01930673377195614,\n",
       " -0.5056582255337514,\n",
       " 0.01708792129604345,\n",
       " 0.09546657669605506,\n",
       " 0.29359576538705234,\n",
       " 0.0048577638025218669,\n",
       " 0.7868459224700928]"
      ]
     },
     "execution_count": 187,
     "metadata": {},
     "output_type": "execute_result"
    }
   ],
   "source": [
    "sim_id = simnonresids[2]\n",
    "system(sim_id)"
   ]
  },
  {
   "cell_type": "code",
   "execution_count": 153,
   "metadata": {
    "collapsed": true
   },
   "outputs": [],
   "source": [
    "columns = ['Sim_ID', 'Stable', 'Norbits_instability', 'Norbits', 'Mplanet', 'RH/a']\n",
    "for i in ['1', '2', '3']:\n",
    "    columns += ['a'+i, 'P'+i, 'e'+i, 'pomega'+i, 'inc'+i, 'Omega'+i, 'f'+i]\n",
    "columns += ['Rel_Eerr', 'integ_time']"
   ]
  },
  {
   "cell_type": "code",
   "execution_count": null,
   "metadata": {
    "collapsed": true
   },
   "outputs": [],
   "source": []
  }
 ],
 "metadata": {
  "kernelspec": {
   "display_name": "Python 2",
   "language": "python",
   "name": "python2"
  },
  "language_info": {
   "codemirror_mode": {
    "name": "ipython",
    "version": 2
   },
   "file_extension": ".py",
   "mimetype": "text/x-python",
   "name": "python",
   "nbconvert_exporter": "python",
   "pygments_lexer": "ipython2",
   "version": "2.7.11"
  }
 },
 "nbformat": 4,
 "nbformat_minor": 0
}
