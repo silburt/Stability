{
 "cells": [
  {
   "cell_type": "markdown",
   "metadata": {},
   "source": [
    "# Analysis of Orbits in Fourier Space\n",
    "\n",
    "Here we simulate Dan's Machine Learning system with rebound and then do a basic Fourier analysis. "
   ]
  },
  {
   "cell_type": "code",
   "execution_count": 1,
   "metadata": {
    "collapsed": true
   },
   "outputs": [],
   "source": [
    "import numpy as np\n",
    "import pandas as pd\n",
    "import numpy as np\n",
    "import glob\n",
    "import matplotlib.pyplot as plt\n",
    "%matplotlib inline"
   ]
  },
  {
   "cell_type": "markdown",
   "metadata": {},
   "source": [
    "# Functions\n",
    "Here are the functions we need to create to do a Fourier analysis"
   ]
  },
  {
   "cell_type": "code",
   "execution_count": 2,
   "metadata": {
    "collapsed": true
   },
   "outputs": [],
   "source": [
    "#extra variables that we might want to plot\n",
    "def get_var(data,i,var):\n",
    "    if var == \"LCE\":\n",
    "        return data[\"LCE\"]\n",
    "    if var == \"z\":\n",
    "        e = data[\"e\"+i].values\n",
    "        pomega = data[\"pomega\"+i].values\n",
    "        return e*np.exp(pomega*1j)\n",
    "    if var == \"h\":\n",
    "        e = data[\"e\"+i].values\n",
    "        pomega = data[\"pomega\"+i].values\n",
    "        return e*np.cos(pomega)\n",
    "    if var == \"k\":\n",
    "        e = data[\"e\"+i].values\n",
    "        pomega = data[\"pomega\"+i].values\n",
    "        return e*np.sin(pomega)\n",
    "    else:\n",
    "        return data[var+i].values"
   ]
  },
  {
   "cell_type": "code",
   "execution_count": 3,
   "metadata": {
    "collapsed": false
   },
   "outputs": [],
   "source": [
    "#1-D frequency map\n",
    "import scipy.signal as signal\n",
    "def fourier(data,var,tmax,N_outputs,output_name):\n",
    "    lomb_analysis = 0\n",
    "    fig, ax = plt.subplots(2, figsize=(8,6))\n",
    "        \n",
    "    t=data[\"Time\"].values\n",
    "    window = np.hanning(N_outputs)\n",
    "    if lomb_analysis == 1:\n",
    "        N_freq = 500\n",
    "        Period = np.logspace(np.log10(tmax/N_outputs),np.log10(tmax),N_freq)\n",
    "        freq = np.asarray([2*np.pi/P for P in Period])\n",
    "    else:\n",
    "        freq = np.fft.fftfreq(N_outputs, tmax/N_outputs)\n",
    "    names = ['Planet 1','Planet 2','Planet 3']\n",
    "    for i,num in enumerate(['1', '2', '3']):\n",
    "        y = get_var(data,num,var)\n",
    "        if lomb_analysis == 1:\n",
    "            power = signal.lombscargle(t,np.absolute(y)*window,freq)\n",
    "            ax[0].plot(Period,np.sqrt(4*power/N_outputs),label=names[i],alpha=1-0.2*i)\n",
    "        else:\n",
    "            power = np.absolute(np.fft.fft(y)/N_outputs)\n",
    "            ax[0].plot(1./freq,power,label=names[i],alpha=1-0.2*i)\n",
    "        ax[1].plot(t,y,label=num,alpha=1-0.2*i)\n",
    "\n",
    "    plt.subplots_adjust(hspace=0.4)\n",
    "    ax[0].set_ylabel(\"power of: \"+var, fontsize=13)\n",
    "    #ax[0].set_legend(loc=\"upper left\")\n",
    "    ax[0].set_xlabel('Period', fontsize=13)\n",
    "    ax[0].set_xscale('log')\n",
    "    ax[1].set_ylabel(var, fontsize=13)\n",
    "    ax[1].set_xlabel('time', fontsize=13)\n",
    "    if var == \"LCE\":\n",
    "        ax[1].set_yscale('log')\n",
    "    out = output_name.split(\".csv\")[0].split(\"data\")[1]\n",
    "    plt.savefig(\"Fourier/images\"+out+\"_fft-\"+var+\".png\")\n",
    "    plt.clf()"
   ]
  },
  {
   "cell_type": "code",
   "execution_count": 4,
   "metadata": {
    "collapsed": false
   },
   "outputs": [],
   "source": [
    "from matplotlib.colors import LogNorm\n",
    "def fourier_map(files,columns,var,tmax,N_outputs):    \n",
    "    freq = np.fft.fftfreq(N_outputs, tmax/N_outputs)\n",
    "    power = np.zeros((1,3,N_outputs))\n",
    "    window = np.hanning(N_outputs)\n",
    "    for f in files:\n",
    "        try:\n",
    "            data = pd.read_csv(f,header=None,names=columns)\n",
    "            t=data[\"Time\"].values\n",
    "            p = []\n",
    "            for num in ['1', '2', '3']:\n",
    "                y = get_var(data,num,var)\n",
    "                p.append(np.absolute(np.fft.fft(y)/N_outputs))\n",
    "            p = np.asarray(p)\n",
    "            p = p.reshape((1,3,N_outputs))\n",
    "            power = np.append(power, p, axis=0)\n",
    "        except:\n",
    "            print \"File \"+f+\" has different number of N_outputs and/or tmax. Skipping.\"\n",
    "    \n",
    "    power = power[1:,:,:] #remove original np.zeros array used as a base for appending\n",
    "    \n",
    "    #plotting\n",
    "    fig, ax = plt.subplots(3, sharex=True, figsize=(10,8))\n",
    "    plt.subplots_adjust(hspace=0.1)\n",
    "    ax[0].set_title(\"Power of \"+str(var)+\" for \"+str(len(files))+\" runs.\",fontsize=20)\n",
    "    ax[0].set_ylabel(\"Planet 1 (Run No.)\")\n",
    "    ax[1].set_ylabel(\"Planet 2 (Run No.)\")\n",
    "    ax[2].set_ylabel(\"Planet 3 (Run No.)\")\n",
    "    ax[2].set_xlabel(\"Frequency\")\n",
    "    im1 = ax[0].imshow(power[:,0,:],aspect=\"auto\",interpolation=\"nearest\",norm=LogNorm())\n",
    "    im2 = ax[1].imshow(power[:,1,:],aspect=\"auto\",interpolation=\"nearest\",norm=LogNorm())\n",
    "    im3 = ax[2].imshow(power[:,2,:],aspect=\"auto\",interpolation=\"nearest\",norm=LogNorm())\n",
    "    fig.subplots_adjust(right=0.8)\n",
    "    cbar_ax = fig.add_axes([0.85, 0.15, 0.05, 0.7])\n",
    "    fig.colorbar(im1, cax=cbar_ax, label='power')\n",
    "    out = files[0].split(\".csv\")[0].split(\"data\")[1].split(\"sd\")[0]\n",
    "    plt.savefig(\"Fourier/images\"+out+\"fftmap-\"+var+\".png\")"
   ]
  },
  {
   "cell_type": "markdown",
   "metadata": {},
   "source": [
    "# Fourier Map\n",
    "Here we create a Fourier map. \n",
    "\n",
    "**Note**: The x-axis is not correct, since in reality its log scale, not linear scale as shown. Needs to be fixed."
   ]
  },
  {
   "cell_type": "code",
   "execution_count": 5,
   "metadata": {
    "collapsed": true
   },
   "outputs": [],
   "source": [
    "#Parameters\n",
    "file_location = 'Fourier/data/DTtestp_t1.0e+03_aouter1.5'  #Location of where data is stored. \n",
    "var = \"z\"      #choices are h,k,z or any of the orbital elements (e.g. a,P,e,pomega,etc.)"
   ]
  },
  {
   "cell_type": "code",
   "execution_count": 6,
   "metadata": {
    "collapsed": false
   },
   "outputs": [
    {
     "name": "stdout",
     "output_type": "stream",
     "text": [
      "File Fourier/data/DT_1e6_testp/DTtestp_t1.0e+06_atestp1.082_sd289.csv has different number of N_outputs and/or tmax. Skipping.\n",
      "File Fourier/data/DT_1e6_testp/DTtestp_t1.0e+06_atestp1.082_sd612.csv has different number of N_outputs and/or tmax. Skipping.\n"
     ]
    },
    {
     "data": {
      "image/png": "[encoded data removed]",
      "text/plain": [
       "<matplotlib.figure.Figure at 0x110684ed0>"
      ]
     },
     "metadata": {},
     "output_type": "display_data"
    }
   ],
   "source": [
    "#Create 2D Fourier map - x-axis is not right, in reality its log scale, not linear as shown\n",
    "#columns = ['Time','LCE']\n",
    "columns = ['Time']\n",
    "for i in ['1', '2', '3']:\n",
    "    columns += ['a'+i, 'P'+i, 'e'+i, 'pomega'+i, 'inc'+i, 'Omega'+i, 'f'+i]\n",
    "files = glob.glob(file_location+\"*.csv\")\n",
    "tmax = float(files[0].split(\"_\")[-3].split(\"t\")[1])\n",
    "data = pd.read_csv(files[0],header=None,names=columns)\n",
    "N_outputs = len(data.index)\n",
    "fourier_map(files,columns,var,tmax,N_outputs)"
   ]
  },
  {
   "cell_type": "code",
   "execution_count": 8,
   "metadata": {
    "collapsed": false
   },
   "outputs": [
    {
     "data": {
      "text/plain": [
       "<matplotlib.figure.Figure at 0x10c6b6190>"
      ]
     },
     "metadata": {},
     "output_type": "display_data"
    }
   ],
   "source": [
    "#batch analyze individual runs (note you may have to change the file_location variable).\n",
    "import glob\n",
    "files = glob.glob(file_location+\"*.csv\")\n",
    "#columns = ['Time','LCE']\n",
    "columns = ['Time']\n",
    "for i in ['1', '2', '3']:\n",
    "    columns += ['a'+i, 'P'+i, 'e'+i, 'pomega'+i, 'inc'+i, 'Omega'+i, 'f'+i]\n",
    "\n",
    "for f in files:\n",
    "    data = pd.read_csv(f,header=None,names=columns)\n",
    "    tmax = float(f.split(\"_\")[-3].split(\"t\")[1])\n",
    "    N_outputs = len(data.index)\n",
    "    fourier(data,var,tmax,N_outputs,f)"
   ]
  },
  {
   "cell_type": "code",
   "execution_count": null,
   "metadata": {
    "collapsed": true
   },
   "outputs": [],
   "source": []
  }
 ],
 "metadata": {
  "kernelspec": {
   "display_name": "Python 2",
   "language": "python",
   "name": "python2"
  },
  "language_info": {
   "codemirror_mode": {
    "name": "ipython",
    "version": 2
   },
   "file_extension": ".py",
   "mimetype": "text/x-python",
   "name": "python",
   "nbconvert_exporter": "python",
   "pygments_lexer": "ipython2",
   "version": "2.7.11"
  }
 },
 "nbformat": 4,
 "nbformat_minor": 0
}
