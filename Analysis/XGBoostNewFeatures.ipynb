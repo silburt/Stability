{
 "cells": [
  {
   "cell_type": "code",
   "execution_count": 1,
   "metadata": {
    "collapsed": false
   },
   "outputs": [
    {
     "data": {
      "text/html": [
       "<div>\n",
       "<table border=\"1\" class=\"dataframe\">\n",
       "  <thead>\n",
       "    <tr style=\"text-align: right;\">\n",
       "      <th></th>\n",
       "      <th>Stable</th>\n",
       "      <th>Norbits_instability</th>\n",
       "      <th>Norbits</th>\n",
       "      <th>Mplanet</th>\n",
       "      <th>RH/a</th>\n",
       "      <th>a1</th>\n",
       "      <th>P1</th>\n",
       "      <th>e1</th>\n",
       "      <th>pomega1</th>\n",
       "      <th>inc1</th>\n",
       "      <th>...</th>\n",
       "      <th>norm_std_window10_e3</th>\n",
       "      <th>norm_max_window10_e3</th>\n",
       "      <th>daOvera1</th>\n",
       "      <th>daOvera2</th>\n",
       "      <th>daOverRH1</th>\n",
       "      <th>daOverRH2</th>\n",
       "      <th>mindaOvera</th>\n",
       "      <th>maxdaOvera</th>\n",
       "      <th>mindaOverRH</th>\n",
       "      <th>maxdaOverRH</th>\n",
       "    </tr>\n",
       "    <tr>\n",
       "      <th>Sim_ID</th>\n",
       "      <th></th>\n",
       "      <th></th>\n",
       "      <th></th>\n",
       "      <th></th>\n",
       "      <th></th>\n",
       "      <th></th>\n",
       "      <th></th>\n",
       "      <th></th>\n",
       "      <th></th>\n",
       "      <th></th>\n",
       "      <th></th>\n",
       "      <th></th>\n",
       "      <th></th>\n",
       "      <th></th>\n",
       "      <th></th>\n",
       "      <th></th>\n",
       "      <th></th>\n",
       "      <th></th>\n",
       "      <th></th>\n",
       "      <th></th>\n",
       "      <th></th>\n",
       "    </tr>\n",
       "  </thead>\n",
       "  <tbody>\n",
       "    <tr>\n",
       "      <th>4465</th>\n",
       "      <td>True</td>\n",
       "      <td>1.000000e+07</td>\n",
       "      <td>10000000.0</td>\n",
       "      <td>0.000015</td>\n",
       "      <td>0.021544</td>\n",
       "      <td>0.049234</td>\n",
       "      <td>0.010924</td>\n",
       "      <td>0.011821</td>\n",
       "      <td>2.166832</td>\n",
       "      <td>0.011453</td>\n",
       "      <td>...</td>\n",
       "      <td>0.173276</td>\n",
       "      <td>0.240914</td>\n",
       "      <td>0.154759</td>\n",
       "      <td>0.159187</td>\n",
       "      <td>7.183274</td>\n",
       "      <td>7.388800</td>\n",
       "      <td>0.154759</td>\n",
       "      <td>0.159187</td>\n",
       "      <td>7.183274</td>\n",
       "      <td>7.388800</td>\n",
       "    </tr>\n",
       "    <tr>\n",
       "      <th>4231</th>\n",
       "      <td>False</td>\n",
       "      <td>5.556366e+05</td>\n",
       "      <td>10000000.0</td>\n",
       "      <td>0.000015</td>\n",
       "      <td>0.021544</td>\n",
       "      <td>0.043888</td>\n",
       "      <td>0.009194</td>\n",
       "      <td>0.004916</td>\n",
       "      <td>-1.426257</td>\n",
       "      <td>0.007699</td>\n",
       "      <td>...</td>\n",
       "      <td>0.368905</td>\n",
       "      <td>0.681410</td>\n",
       "      <td>0.163014</td>\n",
       "      <td>0.120583</td>\n",
       "      <td>7.566440</td>\n",
       "      <td>5.596948</td>\n",
       "      <td>0.120583</td>\n",
       "      <td>0.163014</td>\n",
       "      <td>5.596948</td>\n",
       "      <td>7.566440</td>\n",
       "    </tr>\n",
       "    <tr>\n",
       "      <th>487</th>\n",
       "      <td>False</td>\n",
       "      <td>1.955824e+06</td>\n",
       "      <td>10000000.0</td>\n",
       "      <td>0.000015</td>\n",
       "      <td>0.021544</td>\n",
       "      <td>0.056372</td>\n",
       "      <td>0.013384</td>\n",
       "      <td>0.006294</td>\n",
       "      <td>-0.410190</td>\n",
       "      <td>0.003253</td>\n",
       "      <td>...</td>\n",
       "      <td>0.037577</td>\n",
       "      <td>0.072097</td>\n",
       "      <td>0.180285</td>\n",
       "      <td>0.159681</td>\n",
       "      <td>8.368098</td>\n",
       "      <td>7.411750</td>\n",
       "      <td>0.159681</td>\n",
       "      <td>0.180285</td>\n",
       "      <td>7.411750</td>\n",
       "      <td>8.368098</td>\n",
       "    </tr>\n",
       "    <tr>\n",
       "      <th>2210</th>\n",
       "      <td>False</td>\n",
       "      <td>4.607903e+03</td>\n",
       "      <td>10000000.0</td>\n",
       "      <td>0.000015</td>\n",
       "      <td>0.021544</td>\n",
       "      <td>0.054535</td>\n",
       "      <td>0.012735</td>\n",
       "      <td>0.007372</td>\n",
       "      <td>-1.748617</td>\n",
       "      <td>0.015612</td>\n",
       "      <td>...</td>\n",
       "      <td>0.050473</td>\n",
       "      <td>0.078675</td>\n",
       "      <td>0.116543</td>\n",
       "      <td>0.141214</td>\n",
       "      <td>5.409426</td>\n",
       "      <td>6.554595</td>\n",
       "      <td>0.116543</td>\n",
       "      <td>0.141214</td>\n",
       "      <td>5.409426</td>\n",
       "      <td>6.554595</td>\n",
       "    </tr>\n",
       "    <tr>\n",
       "      <th>4390</th>\n",
       "      <td>True</td>\n",
       "      <td>1.000000e+07</td>\n",
       "      <td>10000000.0</td>\n",
       "      <td>0.000015</td>\n",
       "      <td>0.021544</td>\n",
       "      <td>0.042994</td>\n",
       "      <td>0.008915</td>\n",
       "      <td>0.009054</td>\n",
       "      <td>2.988464</td>\n",
       "      <td>0.013263</td>\n",
       "      <td>...</td>\n",
       "      <td>0.035847</td>\n",
       "      <td>0.059259</td>\n",
       "      <td>0.178482</td>\n",
       "      <td>0.174287</td>\n",
       "      <td>8.284378</td>\n",
       "      <td>8.089708</td>\n",
       "      <td>0.174287</td>\n",
       "      <td>0.178482</td>\n",
       "      <td>8.089708</td>\n",
       "      <td>8.284378</td>\n",
       "    </tr>\n",
       "  </tbody>\n",
       "</table>\n",
       "<p>5 rows × 102 columns</p>\n",
       "</div>"
      ],
      "text/plain": [
       "       Stable  Norbits_instability     Norbits   Mplanet      RH/a        a1  \\\n",
       "Sim_ID                                                                         \n",
       "4465     True         1.000000e+07  10000000.0  0.000015  0.021544  0.049234   \n",
       "4231    False         5.556366e+05  10000000.0  0.000015  0.021544  0.043888   \n",
       "487     False         1.955824e+06  10000000.0  0.000015  0.021544  0.056372   \n",
       "2210    False         4.607903e+03  10000000.0  0.000015  0.021544  0.054535   \n",
       "4390     True         1.000000e+07  10000000.0  0.000015  0.021544  0.042994   \n",
       "\n",
       "              P1        e1   pomega1      inc1     ...       \\\n",
       "Sim_ID                                             ...        \n",
       "4465    0.010924  0.011821  2.166832  0.011453     ...        \n",
       "4231    0.009194  0.004916 -1.426257  0.007699     ...        \n",
       "487     0.013384  0.006294 -0.410190  0.003253     ...        \n",
       "2210    0.012735  0.007372 -1.748617  0.015612     ...        \n",
       "4390    0.008915  0.009054  2.988464  0.013263     ...        \n",
       "\n",
       "        norm_std_window10_e3  norm_max_window10_e3  daOvera1  daOvera2  \\\n",
       "Sim_ID                                                                   \n",
       "4465                0.173276              0.240914  0.154759  0.159187   \n",
       "4231                0.368905              0.681410  0.163014  0.120583   \n",
       "487                 0.037577              0.072097  0.180285  0.159681   \n",
       "2210                0.050473              0.078675  0.116543  0.141214   \n",
       "4390                0.035847              0.059259  0.178482  0.174287   \n",
       "\n",
       "        daOverRH1  daOverRH2  mindaOvera  maxdaOvera  mindaOverRH  maxdaOverRH  \n",
       "Sim_ID                                                                          \n",
       "4465     7.183274   7.388800    0.154759    0.159187     7.183274     7.388800  \n",
       "4231     7.566440   5.596948    0.120583    0.163014     5.596948     7.566440  \n",
       "487      8.368098   7.411750    0.159681    0.180285     7.411750     8.368098  \n",
       "2210     5.409426   6.554595    0.116543    0.141214     5.409426     6.554595  \n",
       "4390     8.284378   8.089708    0.174287    0.178482     8.089708     8.284378  \n",
       "\n",
       "[5 rows x 102 columns]"
      ]
     },
     "execution_count": 1,
     "metadata": {},
     "output_type": "execute_result"
    }
   ],
   "source": [
    "# Reading in the data:\n",
    "import pandas as pd\n",
    "import numpy as np\n",
    "import matplotlib.pyplot as plt\n",
    "%matplotlib inline\n",
    "from scipy.interpolate import interp1d\n",
    "trainData = pd.read_csv('../data/1e7data_train.csv', index_col=0)\n",
    "testData = pd.read_csv('../data/1e7data_holdout.csv', index_col=0)\n",
    "df = trainData\n",
    "dftest = testData\n",
    "df.tail()"
   ]
  },
  {
   "cell_type": "code",
   "execution_count": 2,
   "metadata": {
    "collapsed": false
   },
   "outputs": [
    {
     "data": {
      "text/html": [
       "<div>\n",
       "<table border=\"1\" class=\"dataframe\">\n",
       "  <thead>\n",
       "    <tr style=\"text-align: right;\">\n",
       "      <th></th>\n",
       "      <th>avg_a1</th>\n",
       "      <th>std_a1</th>\n",
       "      <th>max_a1</th>\n",
       "      <th>min_a1</th>\n",
       "      <th>norm_std_a1</th>\n",
       "      <th>norm_max_a1</th>\n",
       "      <th>norm_std_window10_a1</th>\n",
       "      <th>norm_max_window10_a1</th>\n",
       "      <th>avg_a2</th>\n",
       "      <th>std_a2</th>\n",
       "      <th>...</th>\n",
       "      <th>norm_std_window10_e3</th>\n",
       "      <th>norm_max_window10_e3</th>\n",
       "      <th>daOvera1</th>\n",
       "      <th>daOvera2</th>\n",
       "      <th>daOverRH1</th>\n",
       "      <th>daOverRH2</th>\n",
       "      <th>mindaOvera</th>\n",
       "      <th>maxdaOvera</th>\n",
       "      <th>mindaOverRH</th>\n",
       "      <th>maxdaOverRH</th>\n",
       "    </tr>\n",
       "    <tr>\n",
       "      <th>Sim_ID</th>\n",
       "      <th></th>\n",
       "      <th></th>\n",
       "      <th></th>\n",
       "      <th></th>\n",
       "      <th></th>\n",
       "      <th></th>\n",
       "      <th></th>\n",
       "      <th></th>\n",
       "      <th></th>\n",
       "      <th></th>\n",
       "      <th></th>\n",
       "      <th></th>\n",
       "      <th></th>\n",
       "      <th></th>\n",
       "      <th></th>\n",
       "      <th></th>\n",
       "      <th></th>\n",
       "      <th></th>\n",
       "      <th></th>\n",
       "      <th></th>\n",
       "      <th></th>\n",
       "    </tr>\n",
       "  </thead>\n",
       "  <tbody>\n",
       "    <tr>\n",
       "      <th>2414</th>\n",
       "      <td>0.056538</td>\n",
       "      <td>0.000006</td>\n",
       "      <td>0.056570</td>\n",
       "      <td>0.056528</td>\n",
       "      <td>0.000112</td>\n",
       "      <td>0.000557</td>\n",
       "      <td>0.000091</td>\n",
       "      <td>0.000193</td>\n",
       "      <td>0.067515</td>\n",
       "      <td>0.000014</td>\n",
       "      <td>...</td>\n",
       "      <td>0.114586</td>\n",
       "      <td>0.196496</td>\n",
       "      <td>0.193670</td>\n",
       "      <td>0.150145</td>\n",
       "      <td>8.989360</td>\n",
       "      <td>6.969123</td>\n",
       "      <td>0.150145</td>\n",
       "      <td>0.193670</td>\n",
       "      <td>6.969123</td>\n",
       "      <td>8.989360</td>\n",
       "    </tr>\n",
       "    <tr>\n",
       "      <th>4056</th>\n",
       "      <td>0.050704</td>\n",
       "      <td>0.000062</td>\n",
       "      <td>0.050873</td>\n",
       "      <td>0.050535</td>\n",
       "      <td>0.001214</td>\n",
       "      <td>0.003334</td>\n",
       "      <td>0.001208</td>\n",
       "      <td>0.001626</td>\n",
       "      <td>0.057336</td>\n",
       "      <td>0.000090</td>\n",
       "      <td>...</td>\n",
       "      <td>0.240935</td>\n",
       "      <td>0.389639</td>\n",
       "      <td>0.127645</td>\n",
       "      <td>0.109779</td>\n",
       "      <td>5.924768</td>\n",
       "      <td>5.095487</td>\n",
       "      <td>0.109779</td>\n",
       "      <td>0.127645</td>\n",
       "      <td>5.095487</td>\n",
       "      <td>5.924768</td>\n",
       "    </tr>\n",
       "    <tr>\n",
       "      <th>4855</th>\n",
       "      <td>0.053119</td>\n",
       "      <td>0.000009</td>\n",
       "      <td>0.053164</td>\n",
       "      <td>0.053108</td>\n",
       "      <td>0.000166</td>\n",
       "      <td>0.000862</td>\n",
       "      <td>0.000054</td>\n",
       "      <td>0.000086</td>\n",
       "      <td>0.061394</td>\n",
       "      <td>0.000012</td>\n",
       "      <td>...</td>\n",
       "      <td>0.069629</td>\n",
       "      <td>0.086331</td>\n",
       "      <td>0.156020</td>\n",
       "      <td>0.180944</td>\n",
       "      <td>7.241825</td>\n",
       "      <td>8.398691</td>\n",
       "      <td>0.156020</td>\n",
       "      <td>0.180944</td>\n",
       "      <td>7.241825</td>\n",
       "      <td>8.398691</td>\n",
       "    </tr>\n",
       "    <tr>\n",
       "      <th>517</th>\n",
       "      <td>0.056245</td>\n",
       "      <td>0.000006</td>\n",
       "      <td>0.056277</td>\n",
       "      <td>0.056235</td>\n",
       "      <td>0.000115</td>\n",
       "      <td>0.000579</td>\n",
       "      <td>0.000076</td>\n",
       "      <td>0.000190</td>\n",
       "      <td>0.066963</td>\n",
       "      <td>0.000010</td>\n",
       "      <td>...</td>\n",
       "      <td>0.030994</td>\n",
       "      <td>0.051202</td>\n",
       "      <td>0.190471</td>\n",
       "      <td>0.192685</td>\n",
       "      <td>8.840869</td>\n",
       "      <td>8.943640</td>\n",
       "      <td>0.190471</td>\n",
       "      <td>0.192685</td>\n",
       "      <td>8.840869</td>\n",
       "      <td>8.943640</td>\n",
       "    </tr>\n",
       "    <tr>\n",
       "      <th>1520</th>\n",
       "      <td>0.048167</td>\n",
       "      <td>0.000040</td>\n",
       "      <td>0.048313</td>\n",
       "      <td>0.048075</td>\n",
       "      <td>0.000833</td>\n",
       "      <td>0.003023</td>\n",
       "      <td>0.001136</td>\n",
       "      <td>0.001878</td>\n",
       "      <td>0.054468</td>\n",
       "      <td>0.000068</td>\n",
       "      <td>...</td>\n",
       "      <td>0.075764</td>\n",
       "      <td>0.127401</td>\n",
       "      <td>0.127295</td>\n",
       "      <td>0.109568</td>\n",
       "      <td>5.908519</td>\n",
       "      <td>5.085694</td>\n",
       "      <td>0.109568</td>\n",
       "      <td>0.127295</td>\n",
       "      <td>5.085694</td>\n",
       "      <td>5.908519</td>\n",
       "    </tr>\n",
       "  </tbody>\n",
       "</table>\n",
       "<p>5 rows × 56 columns</p>\n",
       "</div>"
      ],
      "text/plain": [
       "          avg_a1    std_a1    max_a1    min_a1  norm_std_a1  norm_max_a1  \\\n",
       "Sim_ID                                                                     \n",
       "2414    0.056538  0.000006  0.056570  0.056528     0.000112     0.000557   \n",
       "4056    0.050704  0.000062  0.050873  0.050535     0.001214     0.003334   \n",
       "4855    0.053119  0.000009  0.053164  0.053108     0.000166     0.000862   \n",
       "517     0.056245  0.000006  0.056277  0.056235     0.000115     0.000579   \n",
       "1520    0.048167  0.000040  0.048313  0.048075     0.000833     0.003023   \n",
       "\n",
       "        norm_std_window10_a1  norm_max_window10_a1    avg_a2    std_a2  \\\n",
       "Sim_ID                                                                   \n",
       "2414                0.000091              0.000193  0.067515  0.000014   \n",
       "4056                0.001208              0.001626  0.057336  0.000090   \n",
       "4855                0.000054              0.000086  0.061394  0.000012   \n",
       "517                 0.000076              0.000190  0.066963  0.000010   \n",
       "1520                0.001136              0.001878  0.054468  0.000068   \n",
       "\n",
       "           ...       norm_std_window10_e3  norm_max_window10_e3  daOvera1  \\\n",
       "Sim_ID     ...                                                              \n",
       "2414       ...                   0.114586              0.196496  0.193670   \n",
       "4056       ...                   0.240935              0.389639  0.127645   \n",
       "4855       ...                   0.069629              0.086331  0.156020   \n",
       "517        ...                   0.030994              0.051202  0.190471   \n",
       "1520       ...                   0.075764              0.127401  0.127295   \n",
       "\n",
       "        daOvera2  daOverRH1  daOverRH2  mindaOvera  maxdaOvera  mindaOverRH  \\\n",
       "Sim_ID                                                                        \n",
       "2414    0.150145   8.989360   6.969123    0.150145    0.193670     6.969123   \n",
       "4056    0.109779   5.924768   5.095487    0.109779    0.127645     5.095487   \n",
       "4855    0.180944   7.241825   8.398691    0.156020    0.180944     7.241825   \n",
       "517     0.192685   8.840869   8.943640    0.190471    0.192685     8.840869   \n",
       "1520    0.109568   5.908519   5.085694    0.109568    0.127295     5.085694   \n",
       "\n",
       "        maxdaOverRH  \n",
       "Sim_ID               \n",
       "2414       8.989360  \n",
       "4056       5.924768  \n",
       "4855       8.398691  \n",
       "517        8.943640  \n",
       "1520       5.908519  \n",
       "\n",
       "[5 rows x 56 columns]"
      ]
     },
     "execution_count": 2,
     "metadata": {},
     "output_type": "execute_result"
    }
   ],
   "source": [
    "features = ['avg_a1', 'std_a1', 'max_a1', 'min_a1', 'norm_std_a1', 'norm_max_a1', 'norm_std_window10_a1', 'norm_max_window10_a1', 'avg_a2', 'std_a2', 'max_a2', 'min_a2', 'norm_std_a2', 'norm_max_a2', 'norm_std_window10_a2', 'norm_max_window10_a2', 'avg_a3', 'std_a3', 'max_a3', 'min_a3', 'norm_std_a3', 'norm_max_a3', 'norm_std_window10_a3', 'norm_max_window10_a3', 'avg_e1', 'std_e1', 'max_e1', 'min_e1', 'norm_std_e1', 'norm_max_e1', 'norm_std_window10_e1', 'norm_max_window10_e1', 'avg_e2', 'std_e2', 'max_e2', 'min_e2', 'norm_std_e2', 'norm_max_e2', 'norm_std_window10_e2', 'norm_max_window10_e2', 'avg_e3', 'std_e3', 'max_e3', 'min_e3', 'norm_std_e3', 'norm_max_e3', 'norm_std_window10_e3', 'norm_max_window10_e3', 'daOvera1', 'daOvera2', 'daOverRH1', 'daOverRH2', 'mindaOvera', 'maxdaOvera', 'mindaOverRH', 'maxdaOverRH']\n",
    "\n",
    "y = df['Stable']\n",
    "X = df[features]\n",
    "X.head()"
   ]
  },
  {
   "cell_type": "code",
   "execution_count": 3,
   "metadata": {
    "collapsed": false
   },
   "outputs": [],
   "source": [
    "#Import libraries:\n",
    "import pandas as pd\n",
    "import numpy as np\n",
    "import xgboost as xgb\n",
    "from xgboost.sklearn import XGBClassifier\n",
    "from sklearn import cross_validation, metrics   #Additional scklearn functions\n",
    "from sklearn.grid_search import GridSearchCV   #Perforing grid search\n",
    "import ipywidgets as widgets\n",
    "from ipywidgets import FloatSlider, fixed\n",
    "from ipywidgets.widgets.widget_selection import SelectionSlider"
   ]
  },
  {
   "cell_type": "markdown",
   "metadata": {},
   "source": [
    "This function, adapted from Diana's notebook, does CV on the passed model, and prints out the optimal number of iterations for the adopted hyperparameters (`xgb.cv` will run up to `n_estimators` rounds, but if the CV score doesn't improve in `early_stopping_rounds` rounds, it will stop, and will return the sequence of CV scores with the last 50 cut out)."
   ]
  },
  {
   "cell_type": "code",
   "execution_count": 4,
   "metadata": {
    "collapsed": false
   },
   "outputs": [],
   "source": [
    "def optimize_n_estimators(model, df, features, cv_folds=5, early_stopping_rounds=50):\n",
    "    # xgb.cv performs CV at each boosting iteration, and stops when CV score doesn't improve, \n",
    "    # so we can use it to set the optimal number of boosting rounds num_boost_round (n_estimators)\n",
    "    xgb_param = model.get_xgb_params()\n",
    "    xgtrain = xgb.DMatrix(df[features].values, label=df['Stable'].values)\n",
    "    cvresult = xgb.cv(xgb_param, xgtrain, num_boost_round=model.get_params()['n_estimators'], nfold=cv_folds,\n",
    "        metrics='auc', early_stopping_rounds=early_stopping_rounds)\n",
    "    \n",
    "    testmeanauc = cvresult.tail(1).values[0,0]\n",
    "    teststdauc = cvresult.tail(1).values[0,1]\n",
    "    optimal_n_estimators = cvresult.index.values[-1]\n",
    "    \n",
    "    print(\"Learning Rate: {0}\".format(model.learning_rate))\n",
    "    print(\"CV score: {0} +/ {1}\".format(testmeanauc, teststdauc/np.sqrt(cv_folds)))\n",
    "    print(\"Optimal number of iterations (n_estimators) = {0}.\".format(optimal_n_estimators))"
   ]
  },
  {
   "cell_type": "markdown",
   "metadata": {},
   "source": [
    "The lower `n_estimators` is, the faster the models will train, so we want to pick a reasonably small value at first to optimize in the high dimensional hyperparameter space.  The lower the `learning_rate`, the more rounds (`n_estimators`) it needs to run.  `learning_rate` goes from [0,1], so let's see how many rounds we have to run at the high end of that range:"
   ]
  },
  {
   "cell_type": "code",
   "execution_count": 5,
   "metadata": {
    "collapsed": false
   },
   "outputs": [
    {
     "name": "stdout",
     "output_type": "stream",
     "text": [
      "Learning Rate: 0.05\n",
      "CV score: 0.945987 +/ 0.00222734769625\n",
      "Optimal number of iterations (n_estimators) = 280.\n",
      "Learning Rate: 0.1\n",
      "CV score: 0.9479046 +/ 0.00283470871308\n",
      "Optimal number of iterations (n_estimators) = 440.\n",
      "Learning Rate: 0.15\n",
      "CV score: 0.9468482 +/ 0.00226176713921\n",
      "Optimal number of iterations (n_estimators) = 110.\n",
      "Learning Rate: 0.2\n",
      "CV score: 0.9461646 +/ 0.00193716856468\n",
      "Optimal number of iterations (n_estimators) = 111.\n",
      "Learning Rate: 0.25\n",
      "CV score: 0.9468878 +/ 0.00219092760994\n",
      "Optimal number of iterations (n_estimators) = 61.\n",
      "Learning Rate: 0.3\n",
      "CV score: 0.9447176 +/ 0.00206189878704\n",
      "Optimal number of iterations (n_estimators) = 29.\n",
      "Learning Rate: 0.35\n",
      "CV score: 0.9453514 +/ 0.00321242982927\n",
      "Optimal number of iterations (n_estimators) = 150.\n",
      "Learning Rate: 0.4\n",
      "CV score: 0.9434814 +/ 0.00173895328517\n",
      "Optimal number of iterations (n_estimators) = 20.\n",
      "Learning Rate: 0.45\n",
      "CV score: 0.9439126 +/ 0.00216757738685\n",
      "Optimal number of iterations (n_estimators) = 103.\n",
      "Learning Rate: 0.5\n",
      "CV score: 0.9434272 +/ 0.00262425726483\n",
      "Optimal number of iterations (n_estimators) = 17.\n"
     ]
    }
   ],
   "source": [
    "model = XGBClassifier(seed=27, n_estimators=10000)\n",
    "learning_rates = np.linspace(0.05, 0.5, 10)\n",
    "for learning_rate in learning_rates:\n",
    "    model.set_params(learning_rate=learning_rate)\n",
    "    optimize_n_estimators(model, df, features)"
   ]
  },
  {
   "cell_type": "markdown",
   "metadata": {},
   "source": [
    "`learning_rate` = 0.2 does almost as well as 0.1, so let's run that one.  Let's choose a slightly higher `n_estimators` since as we vary the other parameters, 131 will no longer be the optimal value:"
   ]
  },
  {
   "cell_type": "code",
   "execution_count": 6,
   "metadata": {
    "collapsed": false
   },
   "outputs": [
    {
     "data": {
      "text/plain": [
       "XGBClassifier(base_score=0.5, colsample_bylevel=1, colsample_bytree=1,\n",
       "       gamma=0, learning_rate=0.15, max_delta_step=0, max_depth=3,\n",
       "       min_child_weight=1, missing=None, n_estimators=200, nthread=-1,\n",
       "       objective='binary:logistic', reg_alpha=0, reg_lambda=1,\n",
       "       scale_pos_weight=1, seed=27, silent=True, subsample=1)"
      ]
     },
     "execution_count": 6,
     "metadata": {},
     "output_type": "execute_result"
    }
   ],
   "source": [
    "model.set_params(learning_rate=0.15, n_estimators=200)"
   ]
  },
  {
   "cell_type": "markdown",
   "metadata": {},
   "source": [
    "I next tried to optimize `max_depth` and `min_child_weight` simultaneously.  This is not what Kristen suggested, but I was playing around and seeing as this data set is so tiny, there's no computational bottleneck at all.  `max_depth` is the depth of the trees, and we only have about 20 features, so don't need to test values > 20.\n",
    "\n",
    "Here I set the ranges for the parameters"
   ]
  },
  {
   "cell_type": "code",
   "execution_count": 7,
   "metadata": {
    "collapsed": false
   },
   "outputs": [],
   "source": [
    "Nfolds = 5\n",
    "max_depth = [4, 8, 12, 18, 24]\n",
    "min_child_weight = np.logspace(-1,2,5)\n",
    "\n",
    "param_grid = dict(max_depth=max_depth, min_child_weight=min_child_weight)\n",
    "grid = GridSearchCV(estimator = model, param_grid = param_grid, scoring='roc_auc',iid=False, cv=Nfolds)\n",
    "grid.fit(df[features],df['Stable'])\n",
    "\n",
    "# get the names of the parameters\n",
    "param_names = param_grid.keys()\n",
    "param_vals = [[val for val in param_grid[param_name]] for param_name in param_names]\n",
    "param_val_names = {param_name:[\"{0}\".format(val) for val in param_grid[param_name]] for param_name in param_names}"
   ]
  },
  {
   "cell_type": "markdown",
   "metadata": {},
   "source": [
    "I wrote some functions to help visualize the results"
   ]
  },
  {
   "cell_type": "code",
   "execution_count": 8,
   "metadata": {
    "collapsed": false
   },
   "outputs": [],
   "source": [
    "%matplotlib inline\n",
    "from matplotlib.colors import Normalize\n",
    "class MidpointNormalize(Normalize):\n",
    "\n",
    "    def __init__(self, vmin=None, vmax=None, midpoint=None, clip=False):\n",
    "        self.midpoint = midpoint\n",
    "        Normalize.__init__(self, vmin, vmax, clip)\n",
    "\n",
    "    def __call__(self, value, clip=None):\n",
    "        x, y = [self.vmin, self.midpoint, self.vmax], [0, 0.5, 1]\n",
    "        return np.ma.masked_array(np.interp(value, x, y))\n",
    "\n",
    "def plotgrid(grid, vmin, vmax, midpoint):\n",
    "    param_grid = grid.param_grid\n",
    "    \n",
    "    # get the names of the parameters\n",
    "    param1 = param_grid.keys()[0]\n",
    "    param2 = param_grid.keys()[1]\n",
    "\n",
    "    # plot the scores of the grid\n",
    "    # grid_scores_ contains parameter settings and scores\n",
    "    # We extract just the scores\n",
    "    scores = np.fabs([x[1] for x in grid.grid_scores_])\n",
    "    scores = np.array(scores).reshape(len(param_grid[param1]), len(param_grid[param2]))\n",
    "\n",
    "    plt.figure(figsize=(12, 6))\n",
    "    plt.subplots_adjust(left=.2, right=0.95, bottom=0.15, top=0.95)\n",
    "    plt.imshow(scores, interpolation='nearest', cmap=plt.cm.hot, norm=MidpointNormalize(vmin=vmin, vmax=vmax, midpoint=midpoint))\n",
    "    plt.xlabel(param2)\n",
    "    plt.ylabel(param1)\n",
    "    plt.colorbar()\n",
    "    plt.xticks(np.arange(len(param_grid[param2])), np.round(param_grid[param2], decimals=2))\n",
    "    plt.yticks(np.arange(len(param_grid[param1])), np.round(param_grid[param1], decimals=2))\n",
    "    plt.title('CV Score')\n",
    "    plt.show()\n",
    "       \n",
    "def plot1dcut(grid, param_names, fixed_param_name, fixed_value_name):\n",
    "    fixed_value = float(fixed_value_name)\n",
    "    param_grid = grid.param_grid\n",
    "    \n",
    "    # Each entry x in grid.grid_scores_ has all the CV scores in x[2]\n",
    "    scores = np.fabs([np.mean(x[2]) for x in grid.grid_scores_])\n",
    "    stds = np.fabs([np.std(x[2]) for x in grid.grid_scores_])\n",
    "    scores = np.array(scores).reshape(len(param_grid[param_names[0]]), len(param_grid[param_names[1]]))\n",
    "    stds = np.array(stds).reshape(len(param_grid[param_names[0]]), len(param_grid[param_names[1]]))\n",
    "    \n",
    "    plt.figure(figsize=(8, 6))\n",
    "    fig, ax = plt.subplots()\n",
    "    \n",
    "    if fixed_param_name == param_names[0]:\n",
    "        xvals = param_grid[param_names[1]] # take all the values in param grid for the other parameter\n",
    "        mask = np.isclose(np.array(grid.param_grid[fixed_param_name]), fixed_value) # make masked array of passed parameter to pick out right index\n",
    "        yvals = scores[mask,:].flatten()\n",
    "        errs = stds[mask,:].flatten()/np.sqrt(Nfolds)\n",
    "        ax.set_xlabel(param_names[1])\n",
    "\n",
    "    elif fixed_param_name == param_names[1]:\n",
    "        xvals = param_grid[param_names[0]] # take all the values in param grid for the other parameter\n",
    "        mask = np.isclose(np.array(grid.param_grid[fixed_param_name]), fixed_value) # make masked array of passed parameter to pick out right index\n",
    "        yvals = scores[:,mask].flatten()\n",
    "        errs = stds[:,mask].flatten()/np.sqrt(Nfolds)\n",
    "        ax.set_xlabel(param_names[0])\n",
    "\n",
    "    ax.errorbar(xvals, yvals, errs)\n",
    "    ax.set_ylabel('CV score')\n",
    "    ax.set_title(\"{0} = {1}\".format(fixed_param_name, fixed_value))\n",
    "    plt.show()"
   ]
  },
  {
   "cell_type": "code",
   "execution_count": 9,
   "metadata": {
    "collapsed": false
   },
   "outputs": [
    {
     "data": {
      "image/png": "[encoded data removed]",
      "text/plain": [
       "<matplotlib.figure.Figure at 0x7ff08fa76190>"
      ]
     },
     "metadata": {},
     "output_type": "display_data"
    },
    {
     "data": {
      "text/plain": [
       "<function __main__.plotgrid>"
      ]
     },
     "execution_count": 9,
     "metadata": {},
     "output_type": "execute_result"
    }
   ],
   "source": [
    "# get the scores and values for the sliders\n",
    "scores = np.fabs([x[1] for x in grid.grid_scores_])\n",
    "vmin = np.min(scores)\n",
    "vmax = np.max(scores)\n",
    "mean = np.mean(scores)\n",
    "step = (vmax-vmin)/100.\n",
    "\n",
    "widgets.interact(plotgrid, grid=fixed(grid), vmin=FloatSlider(min=vmin, max=vmax, step=step, value=vmin), \n",
    "                 vmax=FloatSlider(min=vmin, max=vmax, step=step, value=vmax), \n",
    "                 midpoint=FloatSlider(min=vmin, max=vmax, step=step, value=mean))"
   ]
  },
  {
   "cell_type": "markdown",
   "metadata": {},
   "source": [
    "The sliders allow you to change the color scales so you're not swamped by terrible scores or have trouble discerning nearby CV scores.  Here the grid is very coarse, so don't need to use it.  \n",
    "\n",
    "Now we tighten the grid a bit:"
   ]
  },
  {
   "cell_type": "code",
   "execution_count": 10,
   "metadata": {
    "collapsed": true
   },
   "outputs": [],
   "source": [
    "max_depth = [8,9,10,11,12,13,14,15,16]\n",
    "min_child_weight = np.logspace(np.log10(0.3),np.log10(10), 10)\n",
    "\n",
    "param_grid = dict(max_depth=max_depth, min_child_weight=min_child_weight)\n",
    "grid = GridSearchCV(estimator = model, param_grid = param_grid, scoring='roc_auc',iid=False, cv=5)\n",
    "grid.fit(df[features],df['Stable'])\n",
    "\n",
    "# get the names of the parameters\n",
    "param_names = param_grid.keys()\n",
    "param_vals = [[val for val in param_grid[param_name]] for param_name in param_names]\n",
    "param_val_names = {param_name:[\"{0}\".format(val) for val in param_grid[param_name]] for param_name in param_names}"
   ]
  },
  {
   "cell_type": "code",
   "execution_count": 11,
   "metadata": {
    "collapsed": false
   },
   "outputs": [
    {
     "data": {
      "image/png": "[encoded data removed]",
      "text/plain": [
       "<matplotlib.figure.Figure at 0x7ff08ce106d0>"
      ]
     },
     "metadata": {},
     "output_type": "display_data"
    },
    {
     "data": {
      "text/plain": [
       "<function __main__.plotgrid>"
      ]
     },
     "execution_count": 11,
     "metadata": {},
     "output_type": "execute_result"
    }
   ],
   "source": [
    "# get the scores and values for the sliders\n",
    "scores = np.fabs([x[1] for x in grid.grid_scores_])\n",
    "vmin = np.min(scores)\n",
    "vmax = np.max(scores)\n",
    "mean = np.mean(scores)\n",
    "step = (vmax-vmin)/100.\n",
    "\n",
    "widgets.interact(plotgrid, grid=fixed(grid), vmin=FloatSlider(min=vmin, max=vmax, step=step, value=vmin), \n",
    "                 vmax=FloatSlider(min=vmin, max=vmax, step=step, value=vmax), \n",
    "                 midpoint=FloatSlider(min=vmin, max=vmax, step=step, value=mean))"
   ]
  },
  {
   "cell_type": "markdown",
   "metadata": {},
   "source": [
    "Here the sliders help a bit more.  Looks like `max_depth = 12`, `min_child_weight`=30 is a region with good scores.  The widgets below allow you to look at 1D cuts through the 2D plot above:"
   ]
  },
  {
   "cell_type": "code",
   "execution_count": 12,
   "metadata": {
    "collapsed": false
   },
   "outputs": [
    {
     "data": {
      "text/plain": [
       "<matplotlib.figure.Figure at 0x7ff08ce05810>"
      ]
     },
     "metadata": {},
     "output_type": "display_data"
    },
    {
     "data": {
      "image/png": "[encoded data removed]",
      "text/plain": [
       "<matplotlib.figure.Figure at 0x7ff08c7dc110>"
      ]
     },
     "metadata": {},
     "output_type": "display_data"
    },
    {
     "data": {
      "text/plain": [
       "<function __main__.plot1dcut>"
      ]
     },
     "execution_count": 12,
     "metadata": {},
     "output_type": "execute_result"
    }
   ],
   "source": [
    "fixed_param=param_names[0]\n",
    "widgets.interact(plot1dcut, grid=fixed(grid), param_names = fixed(param_names), fixed_param_name = fixed(fixed_param), fixed_value_name=SelectionSlider(description=fixed_param, options=param_val_names[fixed_param]))"
   ]
  },
  {
   "cell_type": "code",
   "execution_count": 13,
   "metadata": {
    "collapsed": false
   },
   "outputs": [
    {
     "data": {
      "text/plain": [
       "<matplotlib.figure.Figure at 0x7ff08c6e4f10>"
      ]
     },
     "metadata": {},
     "output_type": "display_data"
    },
    {
     "data": {
      "image/png": "[encoded data removed]",
      "text/plain": [
       "<matplotlib.figure.Figure at 0x7ff08c80f290>"
      ]
     },
     "metadata": {},
     "output_type": "display_data"
    },
    {
     "data": {
      "text/plain": [
       "<function __main__.plot1dcut>"
      ]
     },
     "execution_count": 13,
     "metadata": {},
     "output_type": "execute_result"
    }
   ],
   "source": [
    "fixed_param=param_names[1]\n",
    "widgets.interact(plot1dcut, grid=fixed(grid), param_names = fixed(param_names), fixed_param_name = fixed(fixed_param), fixed_value_name=SelectionSlider(description=fixed_param, options=param_val_names[fixed_param]))"
   ]
  },
  {
   "cell_type": "markdown",
   "metadata": {},
   "source": [
    "Lower values of max_depth and higher values of min_child_weight help avoid overfitting, but if you go too far the model will do badly.  So I think we want to go with more conservative values.  Here it seems like max_depth of 4 does well, which I think suggests we don't have many features that will help the algorithm!  So let's choose:"
   ]
  },
  {
   "cell_type": "code",
   "execution_count": 14,
   "metadata": {
    "collapsed": false
   },
   "outputs": [
    {
     "data": {
      "text/plain": [
       "XGBClassifier(base_score=0.5, colsample_bylevel=1, colsample_bytree=1,\n",
       "       gamma=0, learning_rate=0.15, max_delta_step=0, max_depth=12,\n",
       "       min_child_weight=2.0, missing=None, n_estimators=200, nthread=-1,\n",
       "       objective='binary:logistic', reg_alpha=0, reg_lambda=1,\n",
       "       scale_pos_weight=1, seed=27, silent=True, subsample=1)"
      ]
     },
     "execution_count": 14,
     "metadata": {},
     "output_type": "execute_result"
    }
   ],
   "source": [
    "model.set_params(max_depth=12, min_child_weight=2.)"
   ]
  },
  {
   "cell_type": "code",
   "execution_count": 15,
   "metadata": {
    "collapsed": true
   },
   "outputs": [],
   "source": [
    "subsample = np.linspace(0.2,1,10)\n",
    "colsample_bytree = np.linspace(0.8,1,6)\n",
    "\n",
    "param_grid = dict(subsample=subsample, colsample_bytree=colsample_bytree)\n",
    "grid = GridSearchCV(estimator = model, param_grid = param_grid, scoring='roc_auc',iid=False, cv=5)\n",
    "grid.fit(df[features],df['Stable'])\n",
    "\n",
    "# get the names of the parameters\n",
    "param_names = param_grid.keys()\n",
    "param_vals = [[val for val in param_grid[param_name]] for param_name in param_names]\n",
    "param_val_names = {param_name:[\"{0}\".format(val) for val in param_grid[param_name]] for param_name in param_names}"
   ]
  },
  {
   "cell_type": "code",
   "execution_count": 16,
   "metadata": {
    "collapsed": false
   },
   "outputs": [
    {
     "data": {
      "image/png": "[encoded data removed]",
      "text/plain": [
       "<matplotlib.figure.Figure at 0x7ff08c5e9090>"
      ]
     },
     "metadata": {},
     "output_type": "display_data"
    },
    {
     "data": {
      "text/plain": [
       "<function __main__.plotgrid>"
      ]
     },
     "execution_count": 16,
     "metadata": {},
     "output_type": "execute_result"
    }
   ],
   "source": [
    "# get the scores and values for the sliders\n",
    "scores = np.fabs([x[1] for x in grid.grid_scores_])\n",
    "vmin = np.min(scores)\n",
    "vmax = np.max(scores)\n",
    "mean = np.mean(scores)\n",
    "step = (vmax-vmin)/100.\n",
    "\n",
    "widgets.interact(plotgrid, grid=fixed(grid), vmin=FloatSlider(min=vmin, max=vmax, step=step, value=vmin), \n",
    "                 vmax=FloatSlider(min=vmin, max=vmax, step=step, value=vmax), \n",
    "                 midpoint=FloatSlider(min=vmin, max=vmax, step=step, value=mean))"
   ]
  },
  {
   "cell_type": "code",
   "execution_count": 17,
   "metadata": {
    "collapsed": false
   },
   "outputs": [
    {
     "data": {
      "text/plain": [
       "<matplotlib.figure.Figure at 0x7ff08c5e2550>"
      ]
     },
     "metadata": {},
     "output_type": "display_data"
    },
    {
     "data": {
      "image/png": "[encoded data removed]",
      "text/plain": [
       "<matplotlib.figure.Figure at 0x7ff08c5e2710>"
      ]
     },
     "metadata": {},
     "output_type": "display_data"
    },
    {
     "data": {
      "text/plain": [
       "<function __main__.plot1dcut>"
      ]
     },
     "execution_count": 17,
     "metadata": {},
     "output_type": "execute_result"
    }
   ],
   "source": [
    "fixed_param=param_names[0]\n",
    "widgets.interact(plot1dcut, grid=fixed(grid), param_names = fixed(param_names), fixed_param_name = fixed(fixed_param), fixed_value_name=SelectionSlider(description=fixed_param, options=param_val_names[fixed_param]))"
   ]
  },
  {
   "cell_type": "code",
   "execution_count": 18,
   "metadata": {
    "collapsed": false
   },
   "outputs": [
    {
     "data": {
      "text/plain": [
       "<matplotlib.figure.Figure at 0x7ff08c72e750>"
      ]
     },
     "metadata": {},
     "output_type": "display_data"
    },
    {
     "data": {
      "image/png": "[encoded data removed]",
      "text/plain": [
       "<matplotlib.figure.Figure at 0x7ff08c79bed0>"
      ]
     },
     "metadata": {},
     "output_type": "display_data"
    },
    {
     "data": {
      "text/plain": [
       "<function __main__.plot1dcut>"
      ]
     },
     "execution_count": 18,
     "metadata": {},
     "output_type": "execute_result"
    }
   ],
   "source": [
    "fixed_param=param_names[1]\n",
    "widgets.interact(plot1dcut, grid=fixed(grid), param_names = fixed(param_names), fixed_param_name = fixed(fixed_param), fixed_value_name=SelectionSlider(description=fixed_param, options=param_val_names[fixed_param]))"
   ]
  },
  {
   "cell_type": "markdown",
   "metadata": {},
   "source": [
    "We choose the approximate maximum:"
   ]
  },
  {
   "cell_type": "code",
   "execution_count": 19,
   "metadata": {
    "collapsed": false
   },
   "outputs": [
    {
     "data": {
      "text/plain": [
       "XGBClassifier(base_score=0.5, colsample_bylevel=1, colsample_bytree=0.9,\n",
       "       gamma=0, learning_rate=0.15, max_delta_step=0, max_depth=12,\n",
       "       min_child_weight=2.0, missing=None, n_estimators=200, nthread=-1,\n",
       "       objective='binary:logistic', reg_alpha=0, reg_lambda=1,\n",
       "       scale_pos_weight=1, seed=27, silent=True, subsample=0.8)"
      ]
     },
     "execution_count": 19,
     "metadata": {},
     "output_type": "execute_result"
    }
   ],
   "source": [
    "model.set_params(subsample=0.8, colsample_bytree=0.9)"
   ]
  },
  {
   "cell_type": "markdown",
   "metadata": {},
   "source": [
    "Now we lower the `learning_rate` (so we have to raise `n_estimators`) to get a slightly better model:"
   ]
  },
  {
   "cell_type": "code",
   "execution_count": 20,
   "metadata": {
    "collapsed": false
   },
   "outputs": [
    {
     "name": "stdout",
     "output_type": "stream",
     "text": [
      "Learning Rate: 0.001\n",
      "CV score: 0.9509496 +/ 0.00254258143783\n",
      "Optimal number of iterations (n_estimators) = 4562.\n",
      "Learning Rate: 0.00189573565241\n",
      "CV score: 0.9435696 +/ 0.00272037690918\n",
      "Optimal number of iterations (n_estimators) = 308.\n",
      "Learning Rate: 0.0035938136638\n",
      "CV score: 0.9515008 +/ 0.00247877291255\n",
      "Optimal number of iterations (n_estimators) = 1711.\n",
      "Learning Rate: 0.00681292069058\n",
      "CV score: 0.9516998 +/ 0.00253896187289\n",
      "Optimal number of iterations (n_estimators) = 1075.\n",
      "Learning Rate: 0.0129154966501\n",
      "CV score: 0.9512798 +/ 0.00270606266594\n",
      "Optimal number of iterations (n_estimators) = 552.\n",
      "Learning Rate: 0.0244843674682\n",
      "CV score: 0.9518686 +/ 0.00246085777891\n",
      "Optimal number of iterations (n_estimators) = 268.\n",
      "Learning Rate: 0.0464158883361\n",
      "CV score: 0.9512812 +/ 0.00270351749245\n",
      "Optimal number of iterations (n_estimators) = 269.\n",
      "Learning Rate: 0.0879922543569\n",
      "CV score: 0.9506638 +/ 0.00267208693571\n",
      "Optimal number of iterations (n_estimators) = 81.\n",
      "Learning Rate: 0.16681005372\n",
      "CV score: 0.9492106 +/ 0.00331185580121\n",
      "Optimal number of iterations (n_estimators) = 143.\n",
      "Learning Rate: 0.316227766017\n",
      "CV score: 0.9482992 +/ 0.00220423523971\n",
      "Optimal number of iterations (n_estimators) = 84.\n"
     ]
    }
   ],
   "source": [
    "model.set_params(n_estimators=10000)\n",
    "learning_rates = np.logspace(-3, -0.5, 10)\n",
    "for learning_rate in learning_rates:\n",
    "    model.set_params(learning_rate=learning_rate)\n",
    "    optimize_n_estimators(model, df, features)"
   ]
  },
  {
   "cell_type": "markdown",
   "metadata": {},
   "source": [
    "So this is probably close to our best model:"
   ]
  },
  {
   "cell_type": "code",
   "execution_count": 21,
   "metadata": {
    "collapsed": false
   },
   "outputs": [
    {
     "name": "stdout",
     "output_type": "stream",
     "text": [
      "Learning Rate: 0.01\n",
      "CV score: 0.9513144 +/ 0.00248764345677\n",
      "Optimal number of iterations (n_estimators) = 576.\n"
     ]
    }
   ],
   "source": [
    "model.set_params(learning_rate=0.01, n_estimators=10000)\n",
    "optimize_n_estimators(model, df, features)"
   ]
  },
  {
   "cell_type": "code",
   "execution_count": 22,
   "metadata": {
    "collapsed": false
   },
   "outputs": [
    {
     "name": "stdout",
     "output_type": "stream",
     "text": [
      "\n",
      "Model Report\n",
      "Accuracy : 0.8853\n",
      "AUC Score (Test): 0.945109\n"
     ]
    },
    {
     "data": {
      "text/plain": [
       "<matplotlib.text.Text at 0x7ff08c5f1b50>"
      ]
     },
     "execution_count": 22,
     "metadata": {},
     "output_type": "execute_result"
    },
    {
     "data": {
      "image/png": "[encoded data removed]",
      "text/plain": [
       "<matplotlib.figure.Figure at 0x7ff08c6a7f50>"
      ]
     },
     "metadata": {},
     "output_type": "display_data"
    }
   ],
   "source": [
    "model.fit(df[features], df['Stable'],eval_metric='auc')\n",
    "        \n",
    "#Predict training set:\n",
    "dtrain_predictions = model.predict(df[features])\n",
    "dtest_predictions = model.predict(dftest[features])\n",
    "dtrain_predprob = model.predict_proba(df[features])[:,1]\n",
    "dtest_predprob = model.predict_proba(dftest[features])[:,1]\n",
    "\n",
    "#Print model report:\n",
    "print \"\\nModel Report\"\n",
    "print \"Accuracy : %.4g\" % metrics.accuracy_score(dftest['Stable'].values, dtest_predictions)\n",
    "#print \"AUC Score (Train): %f\" % metrics.roc_auc_score(df['Stable'], dtrain_predprob)\n",
    "print \"AUC Score (Test): %f\" % metrics.roc_auc_score(dftest['Stable'], dtest_predprob)\n",
    "\n",
    "\n",
    "feat_imp = pd.Series(model.booster().get_fscore()).sort_values(ascending=False)\n",
    "feat_imp.plot(kind='bar', title='Feature Importances')\n",
    "plt.ylabel('Feature Importance Score')"
   ]
  },
  {
   "cell_type": "code",
   "execution_count": 38,
   "metadata": {
    "collapsed": false
   },
   "outputs": [
    {
     "data": {
      "text/plain": [
       "array([1648, 3471, 3849, ..., 1581, 3484, 1050])"
      ]
     },
     "execution_count": 38,
     "metadata": {},
     "output_type": "execute_result"
    }
   ],
   "source": [
    "dftest.index.values"
   ]
  },
  {
   "cell_type": "code",
   "execution_count": 47,
   "metadata": {
    "collapsed": false
   },
   "outputs": [
    {
     "data": {
      "text/html": [
       "<div>\n",
       "<table border=\"1\" class=\"dataframe\">\n",
       "  <thead>\n",
       "    <tr style=\"text-align: right;\">\n",
       "      <th></th>\n",
       "      <th>Stable</th>\n",
       "      <th>Norbits_instability</th>\n",
       "      <th>Norbits</th>\n",
       "      <th>Mplanet</th>\n",
       "      <th>RH/a</th>\n",
       "      <th>a1</th>\n",
       "      <th>P1</th>\n",
       "      <th>e1</th>\n",
       "      <th>pomega1</th>\n",
       "      <th>inc1</th>\n",
       "      <th>...</th>\n",
       "      <th>norm_std_window10_e3</th>\n",
       "      <th>norm_max_window10_e3</th>\n",
       "      <th>daOvera1</th>\n",
       "      <th>daOvera2</th>\n",
       "      <th>daOverRH1</th>\n",
       "      <th>daOverRH2</th>\n",
       "      <th>mindaOvera</th>\n",
       "      <th>maxdaOvera</th>\n",
       "      <th>mindaOverRH</th>\n",
       "      <th>maxdaOverRH</th>\n",
       "    </tr>\n",
       "    <tr>\n",
       "      <th>Sim_ID</th>\n",
       "      <th></th>\n",
       "      <th></th>\n",
       "      <th></th>\n",
       "      <th></th>\n",
       "      <th></th>\n",
       "      <th></th>\n",
       "      <th></th>\n",
       "      <th></th>\n",
       "      <th></th>\n",
       "      <th></th>\n",
       "      <th></th>\n",
       "      <th></th>\n",
       "      <th></th>\n",
       "      <th></th>\n",
       "      <th></th>\n",
       "      <th></th>\n",
       "      <th></th>\n",
       "      <th></th>\n",
       "      <th></th>\n",
       "      <th></th>\n",
       "      <th></th>\n",
       "    </tr>\n",
       "  </thead>\n",
       "  <tbody>\n",
       "    <tr>\n",
       "      <th>1648</th>\n",
       "      <td>True</td>\n",
       "      <td>1.000000e+07</td>\n",
       "      <td>10000000.0</td>\n",
       "      <td>0.000015</td>\n",
       "      <td>0.021544</td>\n",
       "      <td>0.040300</td>\n",
       "      <td>0.008090</td>\n",
       "      <td>0.012516</td>\n",
       "      <td>0.738353</td>\n",
       "      <td>0.010083</td>\n",
       "      <td>...</td>\n",
       "      <td>0.236713</td>\n",
       "      <td>0.336729</td>\n",
       "      <td>0.148209</td>\n",
       "      <td>0.153647</td>\n",
       "      <td>6.879240</td>\n",
       "      <td>7.131643</td>\n",
       "      <td>0.148209</td>\n",
       "      <td>0.153647</td>\n",
       "      <td>6.879240</td>\n",
       "      <td>7.131643</td>\n",
       "    </tr>\n",
       "    <tr>\n",
       "      <th>3471</th>\n",
       "      <td>False</td>\n",
       "      <td>8.233677e+05</td>\n",
       "      <td>10000000.0</td>\n",
       "      <td>0.000015</td>\n",
       "      <td>0.021544</td>\n",
       "      <td>0.046764</td>\n",
       "      <td>0.010113</td>\n",
       "      <td>0.015860</td>\n",
       "      <td>1.880579</td>\n",
       "      <td>0.012391</td>\n",
       "      <td>...</td>\n",
       "      <td>0.132747</td>\n",
       "      <td>0.201569</td>\n",
       "      <td>0.183061</td>\n",
       "      <td>0.115718</td>\n",
       "      <td>8.496936</td>\n",
       "      <td>5.371167</td>\n",
       "      <td>0.115718</td>\n",
       "      <td>0.183061</td>\n",
       "      <td>5.371167</td>\n",
       "      <td>8.496936</td>\n",
       "    </tr>\n",
       "    <tr>\n",
       "      <th>3849</th>\n",
       "      <td>False</td>\n",
       "      <td>7.204145e+03</td>\n",
       "      <td>10000000.0</td>\n",
       "      <td>0.000015</td>\n",
       "      <td>0.021544</td>\n",
       "      <td>0.042360</td>\n",
       "      <td>0.008718</td>\n",
       "      <td>0.014634</td>\n",
       "      <td>-0.601227</td>\n",
       "      <td>0.009680</td>\n",
       "      <td>...</td>\n",
       "      <td>0.442545</td>\n",
       "      <td>0.800100</td>\n",
       "      <td>0.146990</td>\n",
       "      <td>0.125499</td>\n",
       "      <td>6.822671</td>\n",
       "      <td>5.825163</td>\n",
       "      <td>0.125499</td>\n",
       "      <td>0.146990</td>\n",
       "      <td>5.825163</td>\n",
       "      <td>6.822671</td>\n",
       "    </tr>\n",
       "    <tr>\n",
       "      <th>3537</th>\n",
       "      <td>False</td>\n",
       "      <td>5.851915e+03</td>\n",
       "      <td>10000000.0</td>\n",
       "      <td>0.000015</td>\n",
       "      <td>0.021544</td>\n",
       "      <td>0.053215</td>\n",
       "      <td>0.012276</td>\n",
       "      <td>0.016287</td>\n",
       "      <td>-3.618376</td>\n",
       "      <td>0.012772</td>\n",
       "      <td>...</td>\n",
       "      <td>0.172514</td>\n",
       "      <td>0.314051</td>\n",
       "      <td>0.109718</td>\n",
       "      <td>0.131489</td>\n",
       "      <td>5.092680</td>\n",
       "      <td>6.103170</td>\n",
       "      <td>0.109718</td>\n",
       "      <td>0.131489</td>\n",
       "      <td>5.092680</td>\n",
       "      <td>6.103170</td>\n",
       "    </tr>\n",
       "    <tr>\n",
       "      <th>4214</th>\n",
       "      <td>False</td>\n",
       "      <td>6.435885e+06</td>\n",
       "      <td>10000000.0</td>\n",
       "      <td>0.000015</td>\n",
       "      <td>0.021544</td>\n",
       "      <td>0.054681</td>\n",
       "      <td>0.012787</td>\n",
       "      <td>0.012152</td>\n",
       "      <td>2.292604</td>\n",
       "      <td>0.009484</td>\n",
       "      <td>...</td>\n",
       "      <td>0.274968</td>\n",
       "      <td>0.328780</td>\n",
       "      <td>0.192353</td>\n",
       "      <td>0.111740</td>\n",
       "      <td>8.928228</td>\n",
       "      <td>5.186531</td>\n",
       "      <td>0.111740</td>\n",
       "      <td>0.192353</td>\n",
       "      <td>5.186531</td>\n",
       "      <td>8.928228</td>\n",
       "    </tr>\n",
       "  </tbody>\n",
       "</table>\n",
       "<p>5 rows × 102 columns</p>\n",
       "</div>"
      ],
      "text/plain": [
       "       Stable  Norbits_instability     Norbits   Mplanet      RH/a        a1  \\\n",
       "Sim_ID                                                                         \n",
       "1648     True         1.000000e+07  10000000.0  0.000015  0.021544  0.040300   \n",
       "3471    False         8.233677e+05  10000000.0  0.000015  0.021544  0.046764   \n",
       "3849    False         7.204145e+03  10000000.0  0.000015  0.021544  0.042360   \n",
       "3537    False         5.851915e+03  10000000.0  0.000015  0.021544  0.053215   \n",
       "4214    False         6.435885e+06  10000000.0  0.000015  0.021544  0.054681   \n",
       "\n",
       "              P1        e1   pomega1      inc1     ...       \\\n",
       "Sim_ID                                             ...        \n",
       "1648    0.008090  0.012516  0.738353  0.010083     ...        \n",
       "3471    0.010113  0.015860  1.880579  0.012391     ...        \n",
       "3849    0.008718  0.014634 -0.601227  0.009680     ...        \n",
       "3537    0.012276  0.016287 -3.618376  0.012772     ...        \n",
       "4214    0.012787  0.012152  2.292604  0.009484     ...        \n",
       "\n",
       "        norm_std_window10_e3  norm_max_window10_e3  daOvera1  daOvera2  \\\n",
       "Sim_ID                                                                   \n",
       "1648                0.236713              0.336729  0.148209  0.153647   \n",
       "3471                0.132747              0.201569  0.183061  0.115718   \n",
       "3849                0.442545              0.800100  0.146990  0.125499   \n",
       "3537                0.172514              0.314051  0.109718  0.131489   \n",
       "4214                0.274968              0.328780  0.192353  0.111740   \n",
       "\n",
       "        daOverRH1  daOverRH2  mindaOvera  maxdaOvera  mindaOverRH  maxdaOverRH  \n",
       "Sim_ID                                                                          \n",
       "1648     6.879240   7.131643    0.148209    0.153647     6.879240     7.131643  \n",
       "3471     8.496936   5.371167    0.115718    0.183061     5.371167     8.496936  \n",
       "3849     6.822671   5.825163    0.125499    0.146990     5.825163     6.822671  \n",
       "3537     5.092680   6.103170    0.109718    0.131489     5.092680     6.103170  \n",
       "4214     8.928228   5.186531    0.111740    0.192353     5.186531     8.928228  \n",
       "\n",
       "[5 rows x 102 columns]"
      ]
     },
     "execution_count": 47,
     "metadata": {},
     "output_type": "execute_result"
    }
   ],
   "source": [
    "dftest.head()"
   ]
  },
  {
   "cell_type": "code",
   "execution_count": 58,
   "metadata": {
    "collapsed": false
   },
   "outputs": [
    {
     "name": "stderr",
     "output_type": "stream",
     "text": [
      "/mnt/raid-cita/dtamayo/p2/lib/python2.7/site-packages/ipykernel/__main__.py:1: FutureWarning: in the future, boolean array-likes will be handled as a boolean array index\n",
      "  if __name__ == '__main__':\n"
     ]
    },
    {
     "data": {
      "text/plain": [
       "array([[ 0.34044391,  0.65955609],\n",
       "       [ 0.34044391,  0.65955609],\n",
       "       [ 0.34044391,  0.65955609],\n",
       "       ..., \n",
       "       [ 0.34044391,  0.65955609],\n",
       "       [ 0.34044391,  0.65955609],\n",
       "       [ 0.34044391,  0.65955609]], dtype=float32)"
      ]
     },
     "execution_count": 58,
     "metadata": {},
     "output_type": "execute_result"
    }
   ],
   "source": [
    "y_pred[(dftest['Stable'] == True) & (y_pred[:,1] < 0.02)]"
   ]
  },
  {
   "cell_type": "code",
   "execution_count": 59,
   "metadata": {
    "collapsed": false
   },
   "outputs": [
    {
     "data": {
      "text/html": [
       "<div>\n",
       "<table border=\"1\" class=\"dataframe\">\n",
       "  <thead>\n",
       "    <tr style=\"text-align: right;\">\n",
       "      <th></th>\n",
       "      <th>Stable</th>\n",
       "      <th>Norbits_instability</th>\n",
       "      <th>Norbits</th>\n",
       "      <th>Mplanet</th>\n",
       "      <th>RH/a</th>\n",
       "      <th>a1</th>\n",
       "      <th>P1</th>\n",
       "      <th>e1</th>\n",
       "      <th>pomega1</th>\n",
       "      <th>inc1</th>\n",
       "      <th>...</th>\n",
       "      <th>norm_max_window10_e3</th>\n",
       "      <th>daOvera1</th>\n",
       "      <th>daOvera2</th>\n",
       "      <th>daOverRH1</th>\n",
       "      <th>daOverRH2</th>\n",
       "      <th>mindaOvera</th>\n",
       "      <th>maxdaOvera</th>\n",
       "      <th>mindaOverRH</th>\n",
       "      <th>maxdaOverRH</th>\n",
       "      <th>y_pred</th>\n",
       "    </tr>\n",
       "    <tr>\n",
       "      <th>Sim_ID</th>\n",
       "      <th></th>\n",
       "      <th></th>\n",
       "      <th></th>\n",
       "      <th></th>\n",
       "      <th></th>\n",
       "      <th></th>\n",
       "      <th></th>\n",
       "      <th></th>\n",
       "      <th></th>\n",
       "      <th></th>\n",
       "      <th></th>\n",
       "      <th></th>\n",
       "      <th></th>\n",
       "      <th></th>\n",
       "      <th></th>\n",
       "      <th></th>\n",
       "      <th></th>\n",
       "      <th></th>\n",
       "      <th></th>\n",
       "      <th></th>\n",
       "      <th></th>\n",
       "    </tr>\n",
       "  </thead>\n",
       "  <tbody>\n",
       "    <tr>\n",
       "      <th>1648</th>\n",
       "      <td>True</td>\n",
       "      <td>1.000000e+07</td>\n",
       "      <td>10000000.0</td>\n",
       "      <td>0.000015</td>\n",
       "      <td>0.021544</td>\n",
       "      <td>0.040300</td>\n",
       "      <td>0.008090</td>\n",
       "      <td>0.012516</td>\n",
       "      <td>0.738353</td>\n",
       "      <td>0.010083</td>\n",
       "      <td>...</td>\n",
       "      <td>0.336729</td>\n",
       "      <td>0.148209</td>\n",
       "      <td>0.153647</td>\n",
       "      <td>6.879240</td>\n",
       "      <td>7.131643</td>\n",
       "      <td>0.148209</td>\n",
       "      <td>0.153647</td>\n",
       "      <td>6.879240</td>\n",
       "      <td>7.131643</td>\n",
       "      <td>0.659556</td>\n",
       "    </tr>\n",
       "    <tr>\n",
       "      <th>3471</th>\n",
       "      <td>False</td>\n",
       "      <td>8.233677e+05</td>\n",
       "      <td>10000000.0</td>\n",
       "      <td>0.000015</td>\n",
       "      <td>0.021544</td>\n",
       "      <td>0.046764</td>\n",
       "      <td>0.010113</td>\n",
       "      <td>0.015860</td>\n",
       "      <td>1.880579</td>\n",
       "      <td>0.012391</td>\n",
       "      <td>...</td>\n",
       "      <td>0.201569</td>\n",
       "      <td>0.183061</td>\n",
       "      <td>0.115718</td>\n",
       "      <td>8.496936</td>\n",
       "      <td>5.371167</td>\n",
       "      <td>0.115718</td>\n",
       "      <td>0.183061</td>\n",
       "      <td>5.371167</td>\n",
       "      <td>8.496936</td>\n",
       "      <td>0.000196</td>\n",
       "    </tr>\n",
       "    <tr>\n",
       "      <th>3849</th>\n",
       "      <td>False</td>\n",
       "      <td>7.204145e+03</td>\n",
       "      <td>10000000.0</td>\n",
       "      <td>0.000015</td>\n",
       "      <td>0.021544</td>\n",
       "      <td>0.042360</td>\n",
       "      <td>0.008718</td>\n",
       "      <td>0.014634</td>\n",
       "      <td>-0.601227</td>\n",
       "      <td>0.009680</td>\n",
       "      <td>...</td>\n",
       "      <td>0.800100</td>\n",
       "      <td>0.146990</td>\n",
       "      <td>0.125499</td>\n",
       "      <td>6.822671</td>\n",
       "      <td>5.825163</td>\n",
       "      <td>0.125499</td>\n",
       "      <td>0.146990</td>\n",
       "      <td>5.825163</td>\n",
       "      <td>6.822671</td>\n",
       "      <td>0.000020</td>\n",
       "    </tr>\n",
       "    <tr>\n",
       "      <th>3537</th>\n",
       "      <td>False</td>\n",
       "      <td>5.851915e+03</td>\n",
       "      <td>10000000.0</td>\n",
       "      <td>0.000015</td>\n",
       "      <td>0.021544</td>\n",
       "      <td>0.053215</td>\n",
       "      <td>0.012276</td>\n",
       "      <td>0.016287</td>\n",
       "      <td>-3.618376</td>\n",
       "      <td>0.012772</td>\n",
       "      <td>...</td>\n",
       "      <td>0.314051</td>\n",
       "      <td>0.109718</td>\n",
       "      <td>0.131489</td>\n",
       "      <td>5.092680</td>\n",
       "      <td>6.103170</td>\n",
       "      <td>0.109718</td>\n",
       "      <td>0.131489</td>\n",
       "      <td>5.092680</td>\n",
       "      <td>6.103170</td>\n",
       "      <td>0.000108</td>\n",
       "    </tr>\n",
       "    <tr>\n",
       "      <th>4214</th>\n",
       "      <td>False</td>\n",
       "      <td>6.435885e+06</td>\n",
       "      <td>10000000.0</td>\n",
       "      <td>0.000015</td>\n",
       "      <td>0.021544</td>\n",
       "      <td>0.054681</td>\n",
       "      <td>0.012787</td>\n",
       "      <td>0.012152</td>\n",
       "      <td>2.292604</td>\n",
       "      <td>0.009484</td>\n",
       "      <td>...</td>\n",
       "      <td>0.328780</td>\n",
       "      <td>0.192353</td>\n",
       "      <td>0.111740</td>\n",
       "      <td>8.928228</td>\n",
       "      <td>5.186531</td>\n",
       "      <td>0.111740</td>\n",
       "      <td>0.192353</td>\n",
       "      <td>5.186531</td>\n",
       "      <td>8.928228</td>\n",
       "      <td>0.004974</td>\n",
       "    </tr>\n",
       "  </tbody>\n",
       "</table>\n",
       "<p>5 rows × 103 columns</p>\n",
       "</div>"
      ],
      "text/plain": [
       "       Stable  Norbits_instability     Norbits   Mplanet      RH/a        a1  \\\n",
       "Sim_ID                                                                         \n",
       "1648     True         1.000000e+07  10000000.0  0.000015  0.021544  0.040300   \n",
       "3471    False         8.233677e+05  10000000.0  0.000015  0.021544  0.046764   \n",
       "3849    False         7.204145e+03  10000000.0  0.000015  0.021544  0.042360   \n",
       "3537    False         5.851915e+03  10000000.0  0.000015  0.021544  0.053215   \n",
       "4214    False         6.435885e+06  10000000.0  0.000015  0.021544  0.054681   \n",
       "\n",
       "              P1        e1   pomega1      inc1    ...     \\\n",
       "Sim_ID                                            ...      \n",
       "1648    0.008090  0.012516  0.738353  0.010083    ...      \n",
       "3471    0.010113  0.015860  1.880579  0.012391    ...      \n",
       "3849    0.008718  0.014634 -0.601227  0.009680    ...      \n",
       "3537    0.012276  0.016287 -3.618376  0.012772    ...      \n",
       "4214    0.012787  0.012152  2.292604  0.009484    ...      \n",
       "\n",
       "        norm_max_window10_e3  daOvera1  daOvera2  daOverRH1  daOverRH2  \\\n",
       "Sim_ID                                                                   \n",
       "1648                0.336729  0.148209  0.153647   6.879240   7.131643   \n",
       "3471                0.201569  0.183061  0.115718   8.496936   5.371167   \n",
       "3849                0.800100  0.146990  0.125499   6.822671   5.825163   \n",
       "3537                0.314051  0.109718  0.131489   5.092680   6.103170   \n",
       "4214                0.328780  0.192353  0.111740   8.928228   5.186531   \n",
       "\n",
       "        mindaOvera  maxdaOvera  mindaOverRH  maxdaOverRH    y_pred  \n",
       "Sim_ID                                                              \n",
       "1648      0.148209    0.153647     6.879240     7.131643  0.659556  \n",
       "3471      0.115718    0.183061     5.371167     8.496936  0.000196  \n",
       "3849      0.125499    0.146990     5.825163     6.822671  0.000020  \n",
       "3537      0.109718    0.131489     5.092680     6.103170  0.000108  \n",
       "4214      0.111740    0.192353     5.186531     8.928228  0.004974  \n",
       "\n",
       "[5 rows x 103 columns]"
      ]
     },
     "execution_count": 59,
     "metadata": {},
     "output_type": "execute_result"
    }
   ],
   "source": [
    "dftest[\"y_pred\"] = y_pred[:,1]\n",
    "dftest.head()"
   ]
  },
  {
   "cell_type": "code",
   "execution_count": 85,
   "metadata": {
    "collapsed": true
   },
   "outputs": [],
   "source": [
    "correct = dftest[(dftest['Stable'] == True) & (dftest[\"y_pred\"] > 0.98)]"
   ]
  },
  {
   "cell_type": "code",
   "execution_count": 86,
   "metadata": {
    "collapsed": false
   },
   "outputs": [
    {
     "data": {
      "text/html": [
       "<div>\n",
       "<table border=\"1\" class=\"dataframe\">\n",
       "  <thead>\n",
       "    <tr style=\"text-align: right;\">\n",
       "      <th></th>\n",
       "      <th>Stable</th>\n",
       "      <th>Norbits_instability</th>\n",
       "      <th>Norbits</th>\n",
       "      <th>Mplanet</th>\n",
       "      <th>RH/a</th>\n",
       "      <th>a1</th>\n",
       "      <th>P1</th>\n",
       "      <th>e1</th>\n",
       "      <th>pomega1</th>\n",
       "      <th>inc1</th>\n",
       "      <th>...</th>\n",
       "      <th>norm_max_window10_e3</th>\n",
       "      <th>daOvera1</th>\n",
       "      <th>daOvera2</th>\n",
       "      <th>daOverRH1</th>\n",
       "      <th>daOverRH2</th>\n",
       "      <th>mindaOvera</th>\n",
       "      <th>maxdaOvera</th>\n",
       "      <th>mindaOverRH</th>\n",
       "      <th>maxdaOverRH</th>\n",
       "      <th>y_pred</th>\n",
       "    </tr>\n",
       "    <tr>\n",
       "      <th>Sim_ID</th>\n",
       "      <th></th>\n",
       "      <th></th>\n",
       "      <th></th>\n",
       "      <th></th>\n",
       "      <th></th>\n",
       "      <th></th>\n",
       "      <th></th>\n",
       "      <th></th>\n",
       "      <th></th>\n",
       "      <th></th>\n",
       "      <th></th>\n",
       "      <th></th>\n",
       "      <th></th>\n",
       "      <th></th>\n",
       "      <th></th>\n",
       "      <th></th>\n",
       "      <th></th>\n",
       "      <th></th>\n",
       "      <th></th>\n",
       "      <th></th>\n",
       "      <th></th>\n",
       "    </tr>\n",
       "  </thead>\n",
       "  <tbody>\n",
       "    <tr>\n",
       "      <th>1229</th>\n",
       "      <td>True</td>\n",
       "      <td>10000000.0</td>\n",
       "      <td>10000000.0</td>\n",
       "      <td>0.000015</td>\n",
       "      <td>0.021544</td>\n",
       "      <td>0.042544</td>\n",
       "      <td>0.008775</td>\n",
       "      <td>0.002086</td>\n",
       "      <td>2.089051</td>\n",
       "      <td>0.003208</td>\n",
       "      <td>...</td>\n",
       "      <td>0.172417</td>\n",
       "      <td>0.155114</td>\n",
       "      <td>0.168592</td>\n",
       "      <td>7.199736</td>\n",
       "      <td>7.825329</td>\n",
       "      <td>0.155114</td>\n",
       "      <td>0.168592</td>\n",
       "      <td>7.199736</td>\n",
       "      <td>7.825329</td>\n",
       "      <td>0.999591</td>\n",
       "    </tr>\n",
       "    <tr>\n",
       "      <th>1644</th>\n",
       "      <td>True</td>\n",
       "      <td>10000000.0</td>\n",
       "      <td>10000000.0</td>\n",
       "      <td>0.000015</td>\n",
       "      <td>0.021544</td>\n",
       "      <td>0.049041</td>\n",
       "      <td>0.010860</td>\n",
       "      <td>0.000342</td>\n",
       "      <td>0.154817</td>\n",
       "      <td>0.011433</td>\n",
       "      <td>...</td>\n",
       "      <td>0.220667</td>\n",
       "      <td>0.178892</td>\n",
       "      <td>0.181204</td>\n",
       "      <td>8.303448</td>\n",
       "      <td>8.410750</td>\n",
       "      <td>0.178892</td>\n",
       "      <td>0.181204</td>\n",
       "      <td>8.303448</td>\n",
       "      <td>8.410750</td>\n",
       "      <td>0.999949</td>\n",
       "    </tr>\n",
       "    <tr>\n",
       "      <th>759</th>\n",
       "      <td>True</td>\n",
       "      <td>10000000.0</td>\n",
       "      <td>10000000.0</td>\n",
       "      <td>0.000015</td>\n",
       "      <td>0.021544</td>\n",
       "      <td>0.041181</td>\n",
       "      <td>0.008357</td>\n",
       "      <td>0.006286</td>\n",
       "      <td>-1.417579</td>\n",
       "      <td>0.007818</td>\n",
       "      <td>...</td>\n",
       "      <td>0.214817</td>\n",
       "      <td>0.154099</td>\n",
       "      <td>0.186978</td>\n",
       "      <td>7.152637</td>\n",
       "      <td>8.678742</td>\n",
       "      <td>0.154099</td>\n",
       "      <td>0.186978</td>\n",
       "      <td>7.152637</td>\n",
       "      <td>8.678742</td>\n",
       "      <td>0.999442</td>\n",
       "    </tr>\n",
       "    <tr>\n",
       "      <th>1515</th>\n",
       "      <td>True</td>\n",
       "      <td>10000000.0</td>\n",
       "      <td>10000000.0</td>\n",
       "      <td>0.000015</td>\n",
       "      <td>0.021544</td>\n",
       "      <td>0.056134</td>\n",
       "      <td>0.013299</td>\n",
       "      <td>0.010586</td>\n",
       "      <td>-0.401963</td>\n",
       "      <td>0.010905</td>\n",
       "      <td>...</td>\n",
       "      <td>0.548322</td>\n",
       "      <td>0.170625</td>\n",
       "      <td>0.134898</td>\n",
       "      <td>7.919690</td>\n",
       "      <td>6.261422</td>\n",
       "      <td>0.134898</td>\n",
       "      <td>0.170625</td>\n",
       "      <td>6.261422</td>\n",
       "      <td>7.919690</td>\n",
       "      <td>0.992231</td>\n",
       "    </tr>\n",
       "    <tr>\n",
       "      <th>4470</th>\n",
       "      <td>True</td>\n",
       "      <td>10000000.0</td>\n",
       "      <td>10000000.0</td>\n",
       "      <td>0.000015</td>\n",
       "      <td>0.021544</td>\n",
       "      <td>0.045170</td>\n",
       "      <td>0.009600</td>\n",
       "      <td>0.017861</td>\n",
       "      <td>0.765424</td>\n",
       "      <td>0.017440</td>\n",
       "      <td>...</td>\n",
       "      <td>0.137836</td>\n",
       "      <td>0.172645</td>\n",
       "      <td>0.168701</td>\n",
       "      <td>8.013453</td>\n",
       "      <td>7.830395</td>\n",
       "      <td>0.168701</td>\n",
       "      <td>0.172645</td>\n",
       "      <td>7.830395</td>\n",
       "      <td>8.013453</td>\n",
       "      <td>0.998643</td>\n",
       "    </tr>\n",
       "  </tbody>\n",
       "</table>\n",
       "<p>5 rows × 103 columns</p>\n",
       "</div>"
      ],
      "text/plain": [
       "       Stable  Norbits_instability     Norbits   Mplanet      RH/a        a1  \\\n",
       "Sim_ID                                                                         \n",
       "1229     True           10000000.0  10000000.0  0.000015  0.021544  0.042544   \n",
       "1644     True           10000000.0  10000000.0  0.000015  0.021544  0.049041   \n",
       "759      True           10000000.0  10000000.0  0.000015  0.021544  0.041181   \n",
       "1515     True           10000000.0  10000000.0  0.000015  0.021544  0.056134   \n",
       "4470     True           10000000.0  10000000.0  0.000015  0.021544  0.045170   \n",
       "\n",
       "              P1        e1   pomega1      inc1    ...     \\\n",
       "Sim_ID                                            ...      \n",
       "1229    0.008775  0.002086  2.089051  0.003208    ...      \n",
       "1644    0.010860  0.000342  0.154817  0.011433    ...      \n",
       "759     0.008357  0.006286 -1.417579  0.007818    ...      \n",
       "1515    0.013299  0.010586 -0.401963  0.010905    ...      \n",
       "4470    0.009600  0.017861  0.765424  0.017440    ...      \n",
       "\n",
       "        norm_max_window10_e3  daOvera1  daOvera2  daOverRH1  daOverRH2  \\\n",
       "Sim_ID                                                                   \n",
       "1229                0.172417  0.155114  0.168592   7.199736   7.825329   \n",
       "1644                0.220667  0.178892  0.181204   8.303448   8.410750   \n",
       "759                 0.214817  0.154099  0.186978   7.152637   8.678742   \n",
       "1515                0.548322  0.170625  0.134898   7.919690   6.261422   \n",
       "4470                0.137836  0.172645  0.168701   8.013453   7.830395   \n",
       "\n",
       "        mindaOvera  maxdaOvera  mindaOverRH  maxdaOverRH    y_pred  \n",
       "Sim_ID                                                              \n",
       "1229      0.155114    0.168592     7.199736     7.825329  0.999591  \n",
       "1644      0.178892    0.181204     8.303448     8.410750  0.999949  \n",
       "759       0.154099    0.186978     7.152637     8.678742  0.999442  \n",
       "1515      0.134898    0.170625     6.261422     7.919690  0.992231  \n",
       "4470      0.168701    0.172645     7.830395     8.013453  0.998643  \n",
       "\n",
       "[5 rows x 103 columns]"
      ]
     },
     "execution_count": 86,
     "metadata": {},
     "output_type": "execute_result"
    }
   ],
   "source": [
    "correct.head()"
   ]
  },
  {
   "cell_type": "code",
   "execution_count": 82,
   "metadata": {
    "collapsed": false
   },
   "outputs": [
    {
     "data": {
      "text/plain": [
       "(20, 103)"
      ]
     },
     "execution_count": 82,
     "metadata": {},
     "output_type": "execute_result"
    }
   ],
   "source": [
    "misclass = dftest[(dftest['Stable'] == False) & (dftest[\"y_pred\"] > 0.98)]\n",
    "misclass.shape"
   ]
  },
  {
   "cell_type": "code",
   "execution_count": 83,
   "metadata": {
    "collapsed": false
   },
   "outputs": [
    {
     "name": "stderr",
     "output_type": "stream",
     "text": [
      "/mnt/raid-cita/dtamayo/p2/lib/python2.7/site-packages/ipykernel/__main__.py:1: SettingWithCopyWarning: \n",
      "A value is trying to be set on a copy of a slice from a DataFrame.\n",
      "Try using .loc[row_indexer,col_indexer] = value instead\n",
      "\n",
      "See the caveats in the documentation: http://pandas.pydata.org/pandas-docs/stable/indexing.html#indexing-view-versus-copy\n",
      "  if __name__ == '__main__':\n",
      "/mnt/raid-cita/dtamayo/p2/lib/python2.7/site-packages/ipykernel/__main__.py:2: SettingWithCopyWarning: \n",
      "A value is trying to be set on a copy of a slice from a DataFrame.\n",
      "Try using .loc[row_indexer,col_indexer] = value instead\n",
      "\n",
      "See the caveats in the documentation: http://pandas.pydata.org/pandas-docs/stable/indexing.html#indexing-view-versus-copy\n",
      "  from ipykernel import kernelapp as app\n",
      "/mnt/raid-cita/dtamayo/p2/lib/python2.7/site-packages/ipykernel/__main__.py:3: SettingWithCopyWarning: \n",
      "A value is trying to be set on a copy of a slice from a DataFrame.\n",
      "Try using .loc[row_indexer,col_indexer] = value instead\n",
      "\n",
      "See the caveats in the documentation: http://pandas.pydata.org/pandas-docs/stable/indexing.html#indexing-view-versus-copy\n",
      "  app.launch_new_instance()\n"
     ]
    },
    {
     "data": {
      "text/html": [
       "<div>\n",
       "<table border=\"1\" class=\"dataframe\">\n",
       "  <thead>\n",
       "    <tr style=\"text-align: right;\">\n",
       "      <th></th>\n",
       "      <th>Stable</th>\n",
       "      <th>Norbits_instability</th>\n",
       "      <th>Norbits</th>\n",
       "      <th>Mplanet</th>\n",
       "      <th>RH/a</th>\n",
       "      <th>a1</th>\n",
       "      <th>P1</th>\n",
       "      <th>e1</th>\n",
       "      <th>pomega1</th>\n",
       "      <th>inc1</th>\n",
       "      <th>...</th>\n",
       "      <th>daOverRH1</th>\n",
       "      <th>daOverRH2</th>\n",
       "      <th>mindaOvera</th>\n",
       "      <th>maxdaOvera</th>\n",
       "      <th>mindaOverRH</th>\n",
       "      <th>maxdaOverRH</th>\n",
       "      <th>y_pred</th>\n",
       "      <th>P3/P2</th>\n",
       "      <th>P3/P1</th>\n",
       "      <th>P2/P1</th>\n",
       "    </tr>\n",
       "    <tr>\n",
       "      <th>Sim_ID</th>\n",
       "      <th></th>\n",
       "      <th></th>\n",
       "      <th></th>\n",
       "      <th></th>\n",
       "      <th></th>\n",
       "      <th></th>\n",
       "      <th></th>\n",
       "      <th></th>\n",
       "      <th></th>\n",
       "      <th></th>\n",
       "      <th></th>\n",
       "      <th></th>\n",
       "      <th></th>\n",
       "      <th></th>\n",
       "      <th></th>\n",
       "      <th></th>\n",
       "      <th></th>\n",
       "      <th></th>\n",
       "      <th></th>\n",
       "      <th></th>\n",
       "      <th></th>\n",
       "    </tr>\n",
       "  </thead>\n",
       "  <tbody>\n",
       "    <tr>\n",
       "      <th>4002</th>\n",
       "      <td>False</td>\n",
       "      <td>1.285084e+06</td>\n",
       "      <td>10000000.0</td>\n",
       "      <td>0.000015</td>\n",
       "      <td>0.021544</td>\n",
       "      <td>0.058205</td>\n",
       "      <td>0.014042</td>\n",
       "      <td>0.016157</td>\n",
       "      <td>0.160546</td>\n",
       "      <td>0.013167</td>\n",
       "      <td>...</td>\n",
       "      <td>7.773276</td>\n",
       "      <td>8.524302</td>\n",
       "      <td>0.167470</td>\n",
       "      <td>0.183651</td>\n",
       "      <td>7.773276</td>\n",
       "      <td>8.524302</td>\n",
       "      <td>0.991808</td>\n",
       "      <td>1.287751</td>\n",
       "      <td>1.624417</td>\n",
       "      <td>1.261437</td>\n",
       "    </tr>\n",
       "    <tr>\n",
       "      <th>1777</th>\n",
       "      <td>False</td>\n",
       "      <td>2.408925e+06</td>\n",
       "      <td>10000000.0</td>\n",
       "      <td>0.000015</td>\n",
       "      <td>0.021544</td>\n",
       "      <td>0.051765</td>\n",
       "      <td>0.011777</td>\n",
       "      <td>0.017399</td>\n",
       "      <td>0.148569</td>\n",
       "      <td>0.004282</td>\n",
       "      <td>...</td>\n",
       "      <td>8.014806</td>\n",
       "      <td>8.040536</td>\n",
       "      <td>0.172674</td>\n",
       "      <td>0.173228</td>\n",
       "      <td>8.014806</td>\n",
       "      <td>8.040536</td>\n",
       "      <td>0.986166</td>\n",
       "      <td>1.270780</td>\n",
       "      <td>1.613738</td>\n",
       "      <td>1.269880</td>\n",
       "    </tr>\n",
       "    <tr>\n",
       "      <th>4404</th>\n",
       "      <td>False</td>\n",
       "      <td>2.993244e+06</td>\n",
       "      <td>10000000.0</td>\n",
       "      <td>0.000015</td>\n",
       "      <td>0.021544</td>\n",
       "      <td>0.049501</td>\n",
       "      <td>0.011013</td>\n",
       "      <td>0.001038</td>\n",
       "      <td>-4.364727</td>\n",
       "      <td>0.013987</td>\n",
       "      <td>...</td>\n",
       "      <td>6.744445</td>\n",
       "      <td>8.777125</td>\n",
       "      <td>0.145305</td>\n",
       "      <td>0.189097</td>\n",
       "      <td>6.744445</td>\n",
       "      <td>8.777125</td>\n",
       "      <td>0.992742</td>\n",
       "      <td>1.296650</td>\n",
       "      <td>1.589283</td>\n",
       "      <td>1.225683</td>\n",
       "    </tr>\n",
       "    <tr>\n",
       "      <th>2487</th>\n",
       "      <td>False</td>\n",
       "      <td>3.973838e+06</td>\n",
       "      <td>10000000.0</td>\n",
       "      <td>0.000015</td>\n",
       "      <td>0.021544</td>\n",
       "      <td>0.059417</td>\n",
       "      <td>0.014483</td>\n",
       "      <td>0.003450</td>\n",
       "      <td>2.960035</td>\n",
       "      <td>0.011546</td>\n",
       "      <td>...</td>\n",
       "      <td>8.070393</td>\n",
       "      <td>6.993032</td>\n",
       "      <td>0.150660</td>\n",
       "      <td>0.173871</td>\n",
       "      <td>6.993032</td>\n",
       "      <td>8.070393</td>\n",
       "      <td>0.992345</td>\n",
       "      <td>1.234291</td>\n",
       "      <td>1.569802</td>\n",
       "      <td>1.271825</td>\n",
       "    </tr>\n",
       "    <tr>\n",
       "      <th>4680</th>\n",
       "      <td>False</td>\n",
       "      <td>9.281882e+06</td>\n",
       "      <td>10000000.0</td>\n",
       "      <td>0.000015</td>\n",
       "      <td>0.021544</td>\n",
       "      <td>0.058472</td>\n",
       "      <td>0.014139</td>\n",
       "      <td>0.003061</td>\n",
       "      <td>0.023009</td>\n",
       "      <td>0.004668</td>\n",
       "      <td>...</td>\n",
       "      <td>8.066147</td>\n",
       "      <td>6.269470</td>\n",
       "      <td>0.135072</td>\n",
       "      <td>0.173780</td>\n",
       "      <td>6.269470</td>\n",
       "      <td>8.066147</td>\n",
       "      <td>0.995856</td>\n",
       "      <td>1.209293</td>\n",
       "      <td>1.537830</td>\n",
       "      <td>1.271677</td>\n",
       "    </tr>\n",
       "  </tbody>\n",
       "</table>\n",
       "<p>5 rows × 106 columns</p>\n",
       "</div>"
      ],
      "text/plain": [
       "       Stable  Norbits_instability     Norbits   Mplanet      RH/a        a1  \\\n",
       "Sim_ID                                                                         \n",
       "4002    False         1.285084e+06  10000000.0  0.000015  0.021544  0.058205   \n",
       "1777    False         2.408925e+06  10000000.0  0.000015  0.021544  0.051765   \n",
       "4404    False         2.993244e+06  10000000.0  0.000015  0.021544  0.049501   \n",
       "2487    False         3.973838e+06  10000000.0  0.000015  0.021544  0.059417   \n",
       "4680    False         9.281882e+06  10000000.0  0.000015  0.021544  0.058472   \n",
       "\n",
       "              P1        e1   pomega1      inc1    ...     daOverRH1  \\\n",
       "Sim_ID                                            ...                 \n",
       "4002    0.014042  0.016157  0.160546  0.013167    ...      7.773276   \n",
       "1777    0.011777  0.017399  0.148569  0.004282    ...      8.014806   \n",
       "4404    0.011013  0.001038 -4.364727  0.013987    ...      6.744445   \n",
       "2487    0.014483  0.003450  2.960035  0.011546    ...      8.070393   \n",
       "4680    0.014139  0.003061  0.023009  0.004668    ...      8.066147   \n",
       "\n",
       "        daOverRH2  mindaOvera  maxdaOvera  mindaOverRH  maxdaOverRH    y_pred  \\\n",
       "Sim_ID                                                                          \n",
       "4002     8.524302    0.167470    0.183651     7.773276     8.524302  0.991808   \n",
       "1777     8.040536    0.172674    0.173228     8.014806     8.040536  0.986166   \n",
       "4404     8.777125    0.145305    0.189097     6.744445     8.777125  0.992742   \n",
       "2487     6.993032    0.150660    0.173871     6.993032     8.070393  0.992345   \n",
       "4680     6.269470    0.135072    0.173780     6.269470     8.066147  0.995856   \n",
       "\n",
       "           P3/P2     P3/P1     P2/P1  \n",
       "Sim_ID                                \n",
       "4002    1.287751  1.624417  1.261437  \n",
       "1777    1.270780  1.613738  1.269880  \n",
       "4404    1.296650  1.589283  1.225683  \n",
       "2487    1.234291  1.569802  1.271825  \n",
       "4680    1.209293  1.537830  1.271677  \n",
       "\n",
       "[5 rows x 106 columns]"
      ]
     },
     "execution_count": 83,
     "metadata": {},
     "output_type": "execute_result"
    }
   ],
   "source": [
    "misclass[\"P3/P2\"] = misclass[\"P3\"]/misclass[\"P2\"]\n",
    "misclass[\"P3/P1\"] = misclass[\"P3\"]/misclass[\"P1\"]\n",
    "misclass[\"P2/P1\"] = misclass[\"P2\"]/misclass[\"P1\"]\n",
    "misclass.head()"
   ]
  },
  {
   "cell_type": "code",
   "execution_count": 84,
   "metadata": {
    "collapsed": false
   },
   "outputs": [
    {
     "data": {
      "text/html": [
       "<div>\n",
       "<table border=\"1\" class=\"dataframe\">\n",
       "  <thead>\n",
       "    <tr style=\"text-align: right;\">\n",
       "      <th></th>\n",
       "      <th>Stable</th>\n",
       "      <th>Norbits_instability</th>\n",
       "      <th>Norbits</th>\n",
       "      <th>Mplanet</th>\n",
       "      <th>RH/a</th>\n",
       "      <th>a1</th>\n",
       "      <th>P1</th>\n",
       "      <th>e1</th>\n",
       "      <th>pomega1</th>\n",
       "      <th>inc1</th>\n",
       "      <th>...</th>\n",
       "      <th>daOverRH1</th>\n",
       "      <th>daOverRH2</th>\n",
       "      <th>mindaOvera</th>\n",
       "      <th>maxdaOvera</th>\n",
       "      <th>mindaOverRH</th>\n",
       "      <th>maxdaOverRH</th>\n",
       "      <th>y_pred</th>\n",
       "      <th>P3/P2</th>\n",
       "      <th>P3/P1</th>\n",
       "      <th>P2/P1</th>\n",
       "    </tr>\n",
       "    <tr>\n",
       "      <th>Sim_ID</th>\n",
       "      <th></th>\n",
       "      <th></th>\n",
       "      <th></th>\n",
       "      <th></th>\n",
       "      <th></th>\n",
       "      <th></th>\n",
       "      <th></th>\n",
       "      <th></th>\n",
       "      <th></th>\n",
       "      <th></th>\n",
       "      <th></th>\n",
       "      <th></th>\n",
       "      <th></th>\n",
       "      <th></th>\n",
       "      <th></th>\n",
       "      <th></th>\n",
       "      <th></th>\n",
       "      <th></th>\n",
       "      <th></th>\n",
       "      <th></th>\n",
       "      <th></th>\n",
       "    </tr>\n",
       "  </thead>\n",
       "  <tbody>\n",
       "    <tr>\n",
       "      <th>4002</th>\n",
       "      <td>False</td>\n",
       "      <td>1.285084e+06</td>\n",
       "      <td>10000000.0</td>\n",
       "      <td>0.000015</td>\n",
       "      <td>0.021544</td>\n",
       "      <td>0.058205</td>\n",
       "      <td>0.014042</td>\n",
       "      <td>0.016157</td>\n",
       "      <td>0.160546</td>\n",
       "      <td>0.013167</td>\n",
       "      <td>...</td>\n",
       "      <td>7.773276</td>\n",
       "      <td>8.524302</td>\n",
       "      <td>0.167470</td>\n",
       "      <td>0.183651</td>\n",
       "      <td>7.773276</td>\n",
       "      <td>8.524302</td>\n",
       "      <td>0.991808</td>\n",
       "      <td>1.287751</td>\n",
       "      <td>1.624417</td>\n",
       "      <td>1.261437</td>\n",
       "    </tr>\n",
       "    <tr>\n",
       "      <th>1777</th>\n",
       "      <td>False</td>\n",
       "      <td>2.408925e+06</td>\n",
       "      <td>10000000.0</td>\n",
       "      <td>0.000015</td>\n",
       "      <td>0.021544</td>\n",
       "      <td>0.051765</td>\n",
       "      <td>0.011777</td>\n",
       "      <td>0.017399</td>\n",
       "      <td>0.148569</td>\n",
       "      <td>0.004282</td>\n",
       "      <td>...</td>\n",
       "      <td>8.014806</td>\n",
       "      <td>8.040536</td>\n",
       "      <td>0.172674</td>\n",
       "      <td>0.173228</td>\n",
       "      <td>8.014806</td>\n",
       "      <td>8.040536</td>\n",
       "      <td>0.986166</td>\n",
       "      <td>1.270780</td>\n",
       "      <td>1.613738</td>\n",
       "      <td>1.269880</td>\n",
       "    </tr>\n",
       "    <tr>\n",
       "      <th>4404</th>\n",
       "      <td>False</td>\n",
       "      <td>2.993244e+06</td>\n",
       "      <td>10000000.0</td>\n",
       "      <td>0.000015</td>\n",
       "      <td>0.021544</td>\n",
       "      <td>0.049501</td>\n",
       "      <td>0.011013</td>\n",
       "      <td>0.001038</td>\n",
       "      <td>-4.364727</td>\n",
       "      <td>0.013987</td>\n",
       "      <td>...</td>\n",
       "      <td>6.744445</td>\n",
       "      <td>8.777125</td>\n",
       "      <td>0.145305</td>\n",
       "      <td>0.189097</td>\n",
       "      <td>6.744445</td>\n",
       "      <td>8.777125</td>\n",
       "      <td>0.992742</td>\n",
       "      <td>1.296650</td>\n",
       "      <td>1.589283</td>\n",
       "      <td>1.225683</td>\n",
       "    </tr>\n",
       "    <tr>\n",
       "      <th>2487</th>\n",
       "      <td>False</td>\n",
       "      <td>3.973838e+06</td>\n",
       "      <td>10000000.0</td>\n",
       "      <td>0.000015</td>\n",
       "      <td>0.021544</td>\n",
       "      <td>0.059417</td>\n",
       "      <td>0.014483</td>\n",
       "      <td>0.003450</td>\n",
       "      <td>2.960035</td>\n",
       "      <td>0.011546</td>\n",
       "      <td>...</td>\n",
       "      <td>8.070393</td>\n",
       "      <td>6.993032</td>\n",
       "      <td>0.150660</td>\n",
       "      <td>0.173871</td>\n",
       "      <td>6.993032</td>\n",
       "      <td>8.070393</td>\n",
       "      <td>0.992345</td>\n",
       "      <td>1.234291</td>\n",
       "      <td>1.569802</td>\n",
       "      <td>1.271825</td>\n",
       "    </tr>\n",
       "    <tr>\n",
       "      <th>4680</th>\n",
       "      <td>False</td>\n",
       "      <td>9.281882e+06</td>\n",
       "      <td>10000000.0</td>\n",
       "      <td>0.000015</td>\n",
       "      <td>0.021544</td>\n",
       "      <td>0.058472</td>\n",
       "      <td>0.014139</td>\n",
       "      <td>0.003061</td>\n",
       "      <td>0.023009</td>\n",
       "      <td>0.004668</td>\n",
       "      <td>...</td>\n",
       "      <td>8.066147</td>\n",
       "      <td>6.269470</td>\n",
       "      <td>0.135072</td>\n",
       "      <td>0.173780</td>\n",
       "      <td>6.269470</td>\n",
       "      <td>8.066147</td>\n",
       "      <td>0.995856</td>\n",
       "      <td>1.209293</td>\n",
       "      <td>1.537830</td>\n",
       "      <td>1.271677</td>\n",
       "    </tr>\n",
       "    <tr>\n",
       "      <th>313</th>\n",
       "      <td>False</td>\n",
       "      <td>8.667267e+06</td>\n",
       "      <td>10000000.0</td>\n",
       "      <td>0.000015</td>\n",
       "      <td>0.021544</td>\n",
       "      <td>0.051292</td>\n",
       "      <td>0.011616</td>\n",
       "      <td>0.017445</td>\n",
       "      <td>1.211552</td>\n",
       "      <td>0.002447</td>\n",
       "      <td>...</td>\n",
       "      <td>8.877333</td>\n",
       "      <td>6.706971</td>\n",
       "      <td>0.144497</td>\n",
       "      <td>0.191256</td>\n",
       "      <td>6.706971</td>\n",
       "      <td>8.877333</td>\n",
       "      <td>0.988916</td>\n",
       "      <td>1.224388</td>\n",
       "      <td>1.591928</td>\n",
       "      <td>1.300183</td>\n",
       "    </tr>\n",
       "    <tr>\n",
       "      <th>550</th>\n",
       "      <td>False</td>\n",
       "      <td>5.283317e+06</td>\n",
       "      <td>10000000.0</td>\n",
       "      <td>0.000015</td>\n",
       "      <td>0.021544</td>\n",
       "      <td>0.056796</td>\n",
       "      <td>0.013536</td>\n",
       "      <td>0.000781</td>\n",
       "      <td>-0.985885</td>\n",
       "      <td>0.007489</td>\n",
       "      <td>...</td>\n",
       "      <td>6.885316</td>\n",
       "      <td>7.821446</td>\n",
       "      <td>0.148340</td>\n",
       "      <td>0.168508</td>\n",
       "      <td>6.885316</td>\n",
       "      <td>7.821446</td>\n",
       "      <td>0.997525</td>\n",
       "      <td>1.263119</td>\n",
       "      <td>1.554342</td>\n",
       "      <td>1.230559</td>\n",
       "    </tr>\n",
       "    <tr>\n",
       "      <th>3778</th>\n",
       "      <td>False</td>\n",
       "      <td>5.157864e+06</td>\n",
       "      <td>10000000.0</td>\n",
       "      <td>0.000015</td>\n",
       "      <td>0.021544</td>\n",
       "      <td>0.048493</td>\n",
       "      <td>0.010679</td>\n",
       "      <td>0.004836</td>\n",
       "      <td>-0.509114</td>\n",
       "      <td>0.015055</td>\n",
       "      <td>...</td>\n",
       "      <td>8.255427</td>\n",
       "      <td>7.499789</td>\n",
       "      <td>0.161578</td>\n",
       "      <td>0.177858</td>\n",
       "      <td>7.499789</td>\n",
       "      <td>8.255427</td>\n",
       "      <td>0.994684</td>\n",
       "      <td>1.251899</td>\n",
       "      <td>1.600315</td>\n",
       "      <td>1.278310</td>\n",
       "    </tr>\n",
       "    <tr>\n",
       "      <th>2965</th>\n",
       "      <td>False</td>\n",
       "      <td>8.681913e+06</td>\n",
       "      <td>10000000.0</td>\n",
       "      <td>0.000015</td>\n",
       "      <td>0.021544</td>\n",
       "      <td>0.044157</td>\n",
       "      <td>0.009279</td>\n",
       "      <td>0.001631</td>\n",
       "      <td>4.489014</td>\n",
       "      <td>0.012428</td>\n",
       "      <td>...</td>\n",
       "      <td>8.406224</td>\n",
       "      <td>7.646402</td>\n",
       "      <td>0.164737</td>\n",
       "      <td>0.181107</td>\n",
       "      <td>7.646402</td>\n",
       "      <td>8.406224</td>\n",
       "      <td>0.995069</td>\n",
       "      <td>1.257009</td>\n",
       "      <td>1.613499</td>\n",
       "      <td>1.283602</td>\n",
       "    </tr>\n",
       "    <tr>\n",
       "      <th>374</th>\n",
       "      <td>False</td>\n",
       "      <td>3.498593e+06</td>\n",
       "      <td>10000000.0</td>\n",
       "      <td>0.000015</td>\n",
       "      <td>0.021544</td>\n",
       "      <td>0.046632</td>\n",
       "      <td>0.010070</td>\n",
       "      <td>0.002625</td>\n",
       "      <td>-0.798545</td>\n",
       "      <td>0.012964</td>\n",
       "      <td>...</td>\n",
       "      <td>7.873122</td>\n",
       "      <td>8.122414</td>\n",
       "      <td>0.169621</td>\n",
       "      <td>0.174992</td>\n",
       "      <td>7.873122</td>\n",
       "      <td>8.122414</td>\n",
       "      <td>0.998122</td>\n",
       "      <td>1.273647</td>\n",
       "      <td>1.611068</td>\n",
       "      <td>1.264925</td>\n",
       "    </tr>\n",
       "    <tr>\n",
       "      <th>2575</th>\n",
       "      <td>False</td>\n",
       "      <td>3.510083e+06</td>\n",
       "      <td>10000000.0</td>\n",
       "      <td>0.000015</td>\n",
       "      <td>0.021544</td>\n",
       "      <td>0.046148</td>\n",
       "      <td>0.009913</td>\n",
       "      <td>0.002078</td>\n",
       "      <td>-1.543707</td>\n",
       "      <td>0.016984</td>\n",
       "      <td>...</td>\n",
       "      <td>5.664769</td>\n",
       "      <td>8.880255</td>\n",
       "      <td>0.122044</td>\n",
       "      <td>0.191319</td>\n",
       "      <td>5.664769</td>\n",
       "      <td>8.880255</td>\n",
       "      <td>0.995071</td>\n",
       "      <td>1.300286</td>\n",
       "      <td>1.545434</td>\n",
       "      <td>1.188533</td>\n",
       "    </tr>\n",
       "    <tr>\n",
       "      <th>1215</th>\n",
       "      <td>False</td>\n",
       "      <td>8.188578e+06</td>\n",
       "      <td>10000000.0</td>\n",
       "      <td>0.000015</td>\n",
       "      <td>0.021544</td>\n",
       "      <td>0.048819</td>\n",
       "      <td>0.010787</td>\n",
       "      <td>0.006385</td>\n",
       "      <td>-1.829352</td>\n",
       "      <td>0.015426</td>\n",
       "      <td>...</td>\n",
       "      <td>8.235806</td>\n",
       "      <td>6.586132</td>\n",
       "      <td>0.141894</td>\n",
       "      <td>0.177435</td>\n",
       "      <td>6.586132</td>\n",
       "      <td>8.235806</td>\n",
       "      <td>0.997150</td>\n",
       "      <td>1.220212</td>\n",
       "      <td>1.558969</td>\n",
       "      <td>1.277621</td>\n",
       "    </tr>\n",
       "    <tr>\n",
       "      <th>461</th>\n",
       "      <td>False</td>\n",
       "      <td>5.523624e+05</td>\n",
       "      <td>10000000.0</td>\n",
       "      <td>0.000015</td>\n",
       "      <td>0.021544</td>\n",
       "      <td>0.054404</td>\n",
       "      <td>0.012689</td>\n",
       "      <td>0.010913</td>\n",
       "      <td>-0.337425</td>\n",
       "      <td>0.010911</td>\n",
       "      <td>...</td>\n",
       "      <td>8.039363</td>\n",
       "      <td>7.251892</td>\n",
       "      <td>0.156237</td>\n",
       "      <td>0.173203</td>\n",
       "      <td>7.251892</td>\n",
       "      <td>8.039363</td>\n",
       "      <td>0.997231</td>\n",
       "      <td>1.243275</td>\n",
       "      <td>1.579878</td>\n",
       "      <td>1.270739</td>\n",
       "    </tr>\n",
       "    <tr>\n",
       "      <th>346</th>\n",
       "      <td>False</td>\n",
       "      <td>7.446071e+06</td>\n",
       "      <td>10000000.0</td>\n",
       "      <td>0.000015</td>\n",
       "      <td>0.021544</td>\n",
       "      <td>0.051200</td>\n",
       "      <td>0.011585</td>\n",
       "      <td>0.002343</td>\n",
       "      <td>-1.112235</td>\n",
       "      <td>0.009255</td>\n",
       "      <td>...</td>\n",
       "      <td>7.431577</td>\n",
       "      <td>8.762096</td>\n",
       "      <td>0.160108</td>\n",
       "      <td>0.188774</td>\n",
       "      <td>7.431577</td>\n",
       "      <td>8.762096</td>\n",
       "      <td>0.997596</td>\n",
       "      <td>1.296121</td>\n",
       "      <td>1.619534</td>\n",
       "      <td>1.249524</td>\n",
       "    </tr>\n",
       "    <tr>\n",
       "      <th>1530</th>\n",
       "      <td>False</td>\n",
       "      <td>7.294614e+06</td>\n",
       "      <td>10000000.0</td>\n",
       "      <td>0.000015</td>\n",
       "      <td>0.021544</td>\n",
       "      <td>0.040719</td>\n",
       "      <td>0.008217</td>\n",
       "      <td>0.006778</td>\n",
       "      <td>1.117835</td>\n",
       "      <td>0.013047</td>\n",
       "      <td>...</td>\n",
       "      <td>6.079269</td>\n",
       "      <td>8.763549</td>\n",
       "      <td>0.130974</td>\n",
       "      <td>0.188805</td>\n",
       "      <td>6.079269</td>\n",
       "      <td>8.763549</td>\n",
       "      <td>0.981618</td>\n",
       "      <td>1.296172</td>\n",
       "      <td>1.558972</td>\n",
       "      <td>1.202751</td>\n",
       "    </tr>\n",
       "    <tr>\n",
       "      <th>2949</th>\n",
       "      <td>False</td>\n",
       "      <td>9.894519e+06</td>\n",
       "      <td>10000000.0</td>\n",
       "      <td>0.000015</td>\n",
       "      <td>0.021544</td>\n",
       "      <td>0.055370</td>\n",
       "      <td>0.013029</td>\n",
       "      <td>0.009544</td>\n",
       "      <td>3.529296</td>\n",
       "      <td>0.011073</td>\n",
       "      <td>...</td>\n",
       "      <td>6.453958</td>\n",
       "      <td>8.712900</td>\n",
       "      <td>0.139046</td>\n",
       "      <td>0.187714</td>\n",
       "      <td>6.453958</td>\n",
       "      <td>8.712900</td>\n",
       "      <td>0.983523</td>\n",
       "      <td>1.294388</td>\n",
       "      <td>1.573523</td>\n",
       "      <td>1.215651</td>\n",
       "    </tr>\n",
       "    <tr>\n",
       "      <th>822</th>\n",
       "      <td>False</td>\n",
       "      <td>9.538542e+05</td>\n",
       "      <td>10000000.0</td>\n",
       "      <td>0.000015</td>\n",
       "      <td>0.021544</td>\n",
       "      <td>0.058398</td>\n",
       "      <td>0.014112</td>\n",
       "      <td>0.003272</td>\n",
       "      <td>-3.464404</td>\n",
       "      <td>0.007450</td>\n",
       "      <td>...</td>\n",
       "      <td>8.873522</td>\n",
       "      <td>6.594403</td>\n",
       "      <td>0.142072</td>\n",
       "      <td>0.191174</td>\n",
       "      <td>6.594403</td>\n",
       "      <td>8.873522</td>\n",
       "      <td>0.984171</td>\n",
       "      <td>1.220498</td>\n",
       "      <td>1.586707</td>\n",
       "      <td>1.300049</td>\n",
       "    </tr>\n",
       "    <tr>\n",
       "      <th>2035</th>\n",
       "      <td>False</td>\n",
       "      <td>5.540015e+06</td>\n",
       "      <td>10000000.0</td>\n",
       "      <td>0.000015</td>\n",
       "      <td>0.021544</td>\n",
       "      <td>0.056276</td>\n",
       "      <td>0.013350</td>\n",
       "      <td>0.000675</td>\n",
       "      <td>-1.866645</td>\n",
       "      <td>0.012646</td>\n",
       "      <td>...</td>\n",
       "      <td>8.178283</td>\n",
       "      <td>8.770381</td>\n",
       "      <td>0.176196</td>\n",
       "      <td>0.188952</td>\n",
       "      <td>8.178283</td>\n",
       "      <td>8.770381</td>\n",
       "      <td>0.999798</td>\n",
       "      <td>1.296413</td>\n",
       "      <td>1.653710</td>\n",
       "      <td>1.275605</td>\n",
       "    </tr>\n",
       "    <tr>\n",
       "      <th>2750</th>\n",
       "      <td>False</td>\n",
       "      <td>5.909358e+06</td>\n",
       "      <td>10000000.0</td>\n",
       "      <td>0.000015</td>\n",
       "      <td>0.021544</td>\n",
       "      <td>0.042883</td>\n",
       "      <td>0.008880</td>\n",
       "      <td>0.002050</td>\n",
       "      <td>-2.706261</td>\n",
       "      <td>0.013815</td>\n",
       "      <td>...</td>\n",
       "      <td>7.106933</td>\n",
       "      <td>8.821342</td>\n",
       "      <td>0.153114</td>\n",
       "      <td>0.190050</td>\n",
       "      <td>7.106933</td>\n",
       "      <td>8.821342</td>\n",
       "      <td>0.997081</td>\n",
       "      <td>1.298209</td>\n",
       "      <td>1.607496</td>\n",
       "      <td>1.238241</td>\n",
       "    </tr>\n",
       "    <tr>\n",
       "      <th>2401</th>\n",
       "      <td>False</td>\n",
       "      <td>9.824920e+06</td>\n",
       "      <td>10000000.0</td>\n",
       "      <td>0.000015</td>\n",
       "      <td>0.021544</td>\n",
       "      <td>0.041007</td>\n",
       "      <td>0.008304</td>\n",
       "      <td>0.004307</td>\n",
       "      <td>2.615398</td>\n",
       "      <td>0.012646</td>\n",
       "      <td>...</td>\n",
       "      <td>8.496871</td>\n",
       "      <td>8.556019</td>\n",
       "      <td>0.183060</td>\n",
       "      <td>0.184334</td>\n",
       "      <td>8.496871</td>\n",
       "      <td>8.556019</td>\n",
       "      <td>0.999042</td>\n",
       "      <td>1.288867</td>\n",
       "      <td>1.658497</td>\n",
       "      <td>1.286787</td>\n",
       "    </tr>\n",
       "  </tbody>\n",
       "</table>\n",
       "<p>20 rows × 106 columns</p>\n",
       "</div>"
      ],
      "text/plain": [
       "       Stable  Norbits_instability     Norbits   Mplanet      RH/a        a1  \\\n",
       "Sim_ID                                                                         \n",
       "4002    False         1.285084e+06  10000000.0  0.000015  0.021544  0.058205   \n",
       "1777    False         2.408925e+06  10000000.0  0.000015  0.021544  0.051765   \n",
       "4404    False         2.993244e+06  10000000.0  0.000015  0.021544  0.049501   \n",
       "2487    False         3.973838e+06  10000000.0  0.000015  0.021544  0.059417   \n",
       "4680    False         9.281882e+06  10000000.0  0.000015  0.021544  0.058472   \n",
       "313     False         8.667267e+06  10000000.0  0.000015  0.021544  0.051292   \n",
       "550     False         5.283317e+06  10000000.0  0.000015  0.021544  0.056796   \n",
       "3778    False         5.157864e+06  10000000.0  0.000015  0.021544  0.048493   \n",
       "2965    False         8.681913e+06  10000000.0  0.000015  0.021544  0.044157   \n",
       "374     False         3.498593e+06  10000000.0  0.000015  0.021544  0.046632   \n",
       "2575    False         3.510083e+06  10000000.0  0.000015  0.021544  0.046148   \n",
       "1215    False         8.188578e+06  10000000.0  0.000015  0.021544  0.048819   \n",
       "461     False         5.523624e+05  10000000.0  0.000015  0.021544  0.054404   \n",
       "346     False         7.446071e+06  10000000.0  0.000015  0.021544  0.051200   \n",
       "1530    False         7.294614e+06  10000000.0  0.000015  0.021544  0.040719   \n",
       "2949    False         9.894519e+06  10000000.0  0.000015  0.021544  0.055370   \n",
       "822     False         9.538542e+05  10000000.0  0.000015  0.021544  0.058398   \n",
       "2035    False         5.540015e+06  10000000.0  0.000015  0.021544  0.056276   \n",
       "2750    False         5.909358e+06  10000000.0  0.000015  0.021544  0.042883   \n",
       "2401    False         9.824920e+06  10000000.0  0.000015  0.021544  0.041007   \n",
       "\n",
       "              P1        e1   pomega1      inc1    ...     daOverRH1  \\\n",
       "Sim_ID                                            ...                 \n",
       "4002    0.014042  0.016157  0.160546  0.013167    ...      7.773276   \n",
       "1777    0.011777  0.017399  0.148569  0.004282    ...      8.014806   \n",
       "4404    0.011013  0.001038 -4.364727  0.013987    ...      6.744445   \n",
       "2487    0.014483  0.003450  2.960035  0.011546    ...      8.070393   \n",
       "4680    0.014139  0.003061  0.023009  0.004668    ...      8.066147   \n",
       "313     0.011616  0.017445  1.211552  0.002447    ...      8.877333   \n",
       "550     0.013536  0.000781 -0.985885  0.007489    ...      6.885316   \n",
       "3778    0.010679  0.004836 -0.509114  0.015055    ...      8.255427   \n",
       "2965    0.009279  0.001631  4.489014  0.012428    ...      8.406224   \n",
       "374     0.010070  0.002625 -0.798545  0.012964    ...      7.873122   \n",
       "2575    0.009913  0.002078 -1.543707  0.016984    ...      5.664769   \n",
       "1215    0.010787  0.006385 -1.829352  0.015426    ...      8.235806   \n",
       "461     0.012689  0.010913 -0.337425  0.010911    ...      8.039363   \n",
       "346     0.011585  0.002343 -1.112235  0.009255    ...      7.431577   \n",
       "1530    0.008217  0.006778  1.117835  0.013047    ...      6.079269   \n",
       "2949    0.013029  0.009544  3.529296  0.011073    ...      6.453958   \n",
       "822     0.014112  0.003272 -3.464404  0.007450    ...      8.873522   \n",
       "2035    0.013350  0.000675 -1.866645  0.012646    ...      8.178283   \n",
       "2750    0.008880  0.002050 -2.706261  0.013815    ...      7.106933   \n",
       "2401    0.008304  0.004307  2.615398  0.012646    ...      8.496871   \n",
       "\n",
       "        daOverRH2  mindaOvera  maxdaOvera  mindaOverRH  maxdaOverRH    y_pred  \\\n",
       "Sim_ID                                                                          \n",
       "4002     8.524302    0.167470    0.183651     7.773276     8.524302  0.991808   \n",
       "1777     8.040536    0.172674    0.173228     8.014806     8.040536  0.986166   \n",
       "4404     8.777125    0.145305    0.189097     6.744445     8.777125  0.992742   \n",
       "2487     6.993032    0.150660    0.173871     6.993032     8.070393  0.992345   \n",
       "4680     6.269470    0.135072    0.173780     6.269470     8.066147  0.995856   \n",
       "313      6.706971    0.144497    0.191256     6.706971     8.877333  0.988916   \n",
       "550      7.821446    0.148340    0.168508     6.885316     7.821446  0.997525   \n",
       "3778     7.499789    0.161578    0.177858     7.499789     8.255427  0.994684   \n",
       "2965     7.646402    0.164737    0.181107     7.646402     8.406224  0.995069   \n",
       "374      8.122414    0.169621    0.174992     7.873122     8.122414  0.998122   \n",
       "2575     8.880255    0.122044    0.191319     5.664769     8.880255  0.995071   \n",
       "1215     6.586132    0.141894    0.177435     6.586132     8.235806  0.997150   \n",
       "461      7.251892    0.156237    0.173203     7.251892     8.039363  0.997231   \n",
       "346      8.762096    0.160108    0.188774     7.431577     8.762096  0.997596   \n",
       "1530     8.763549    0.130974    0.188805     6.079269     8.763549  0.981618   \n",
       "2949     8.712900    0.139046    0.187714     6.453958     8.712900  0.983523   \n",
       "822      6.594403    0.142072    0.191174     6.594403     8.873522  0.984171   \n",
       "2035     8.770381    0.176196    0.188952     8.178283     8.770381  0.999798   \n",
       "2750     8.821342    0.153114    0.190050     7.106933     8.821342  0.997081   \n",
       "2401     8.556019    0.183060    0.184334     8.496871     8.556019  0.999042   \n",
       "\n",
       "           P3/P2     P3/P1     P2/P1  \n",
       "Sim_ID                                \n",
       "4002    1.287751  1.624417  1.261437  \n",
       "1777    1.270780  1.613738  1.269880  \n",
       "4404    1.296650  1.589283  1.225683  \n",
       "2487    1.234291  1.569802  1.271825  \n",
       "4680    1.209293  1.537830  1.271677  \n",
       "313     1.224388  1.591928  1.300183  \n",
       "550     1.263119  1.554342  1.230559  \n",
       "3778    1.251899  1.600315  1.278310  \n",
       "2965    1.257009  1.613499  1.283602  \n",
       "374     1.273647  1.611068  1.264925  \n",
       "2575    1.300286  1.545434  1.188533  \n",
       "1215    1.220212  1.558969  1.277621  \n",
       "461     1.243275  1.579878  1.270739  \n",
       "346     1.296121  1.619534  1.249524  \n",
       "1530    1.296172  1.558972  1.202751  \n",
       "2949    1.294388  1.573523  1.215651  \n",
       "822     1.220498  1.586707  1.300049  \n",
       "2035    1.296413  1.653710  1.275605  \n",
       "2750    1.298209  1.607496  1.238241  \n",
       "2401    1.288867  1.658497  1.286787  \n",
       "\n",
       "[20 rows x 106 columns]"
      ]
     },
     "execution_count": 84,
     "metadata": {},
     "output_type": "execute_result"
    }
   ],
   "source": [
    "misclass"
   ]
  },
  {
   "cell_type": "code",
   "execution_count": 89,
   "metadata": {
    "collapsed": false
   },
   "outputs": [
    {
     "data": {
      "text/plain": [
       "(0, 250)"
      ]
     },
     "execution_count": 89,
     "metadata": {},
     "output_type": "execute_result"
    },
    {
     "data": {
      "image/png": "[encoded data removed]",
      "text/plain": [
       "<matplotlib.figure.Figure at 0x7ff08bed22d0>"
      ]
     },
     "metadata": {},
     "output_type": "display_data"
    }
   ],
   "source": [
    "# Histogram:\n",
    "\n",
    "bins = 50\n",
    "y_pred=model.predict_proba(dftest[features])\n",
    "Stable=y_pred[dftest['Stable'].values][:,1]\n",
    "Unstable=y_pred[~dftest['Stable'].values][:,1]\n",
    "\n",
    "\n",
    "#df['Predict'].loc[df['Truth']==1]\n",
    "\n",
    "fig, ax1 = plt.subplots()\n",
    "ax1.hist(Unstable, bins, alpha=0.5, label='No', color='blue')\n",
    "ax1.set_xlabel('Predicted Probability', fontsize=14)\n",
    "ax1.set_ylabel('Unstable',  fontsize=14, color='blue')\n",
    "for tl in ax1.get_yticklabels():\n",
    "    tl.set_color('blue')\n",
    "    \n",
    "\n",
    "\n",
    "ax2 = ax1.twinx()\n",
    "ax2.hist(Stable, bins, alpha=0.5, label='Yes',color='green')\n",
    "ax2.set_ylabel('Stable', fontsize=14, color='green')\n",
    "for tl in ax2.get_yticklabels():\n",
    "    tl.set_color('green')\n",
    " \n",
    "ax1.set_ylim([0,250])\n",
    "ax2.set_ylim([0,250])\n"
   ]
  },
  {
   "cell_type": "code",
   "execution_count": 24,
   "metadata": {
    "collapsed": false
   },
   "outputs": [
    {
     "data": {
      "text/plain": [
       "<matplotlib.text.Text at 0x7ff08c3a4050>"
      ]
     },
     "execution_count": 24,
     "metadata": {},
     "output_type": "execute_result"
    },
    {
     "data": {
      "image/png": "[encoded data removed]",
      "text/plain": [
       "<matplotlib.figure.Figure at 0x7ff08c629b90>"
      ]
     },
     "metadata": {},
     "output_type": "display_data"
    }
   ],
   "source": [
    "from sklearn.metrics import roc_curve\n",
    "fpr, tpr, thresholds = roc_curve(dftest['Stable'], y_pred[:,1])\n",
    "fig, ax = plt.subplots()\n",
    "ax.plot(fpr, tpr)\n",
    "ax.plot([0, 1], [0, 1], 'k--')\n",
    "ax.set_xlim([0.0, 1.0])\n",
    "ax.set_ylim([0.0, 1.0])\n",
    "ax.set_xlabel('False Positive Rate')\n",
    "ax.set_ylabel('True Positive Rate')\n",
    "ax.set_title('ROC curve (AUC = {0:.3f})'.format(metrics.roc_auc_score(dftest['Stable'], dtest_predprob)))"
   ]
  },
  {
   "cell_type": "code",
   "execution_count": 25,
   "metadata": {
    "collapsed": false
   },
   "outputs": [
    {
     "name": "stdout",
     "output_type": "stream",
     "text": [
      "Threshold 0.99999332428, FPR = 0.0, TPR = 0.00225225225225\n",
      "Threshold 0.99759632349, FPR = 0.00378787878788, TPR = 0.355855855856\n",
      "Threshold 0.995069146156, FPR = 0.0104166666667, TPR = 0.414414414414\n",
      "Threshold 0.988915801048, FPR = 0.0151515151515, TPR = 0.497747747748\n",
      "Threshold 0.96691018343, FPR = 0.0208333333333, TPR = 0.585585585586\n",
      "Threshold 0.938438296318, FPR = 0.030303030303, TPR = 0.628378378378\n",
      "Threshold 0.896133482456, FPR = 0.0369318181818, TPR = 0.671171171171\n",
      "Threshold 0.827121138573, FPR = 0.0426136363636, TPR = 0.711711711712\n",
      "Threshold 0.754525661469, FPR = 0.0492424242424, TPR = 0.740990990991\n",
      "Threshold 0.66250628233, FPR = 0.0596590909091, TPR = 0.759009009009\n",
      "Threshold 0.548221886158, FPR = 0.0681818181818, TPR = 0.777027027027\n",
      "Threshold 0.455694288015, FPR = 0.0757575757576, TPR = 0.792792792793\n",
      "Threshold 0.358302175999, FPR = 0.0833333333333, TPR = 0.810810810811\n",
      "Threshold 0.261702895164, FPR = 0.0956439393939, TPR = 0.835585585586\n",
      "Threshold 0.198213070631, FPR = 0.107007575758, TPR = 0.849099099099\n",
      "Threshold 0.128563717008, FPR = 0.122159090909, TPR = 0.864864864865\n",
      "Threshold 0.100149460137, FPR = 0.132575757576, TPR = 0.882882882883\n",
      "Threshold 0.0662037134171, FPR = 0.155303030303, TPR = 0.896396396396\n",
      "Threshold 0.0470127612352, FPR = 0.167613636364, TPR = 0.916666666667\n",
      "Threshold 0.0226292647421, FPR = 0.20928030303, TPR = 0.93018018018\n",
      "Threshold 0.014126596041, FPR = 0.245265151515, TPR = 0.943693693694\n",
      "Threshold 0.00366382161155, FPR = 0.338068181818, TPR = 0.957207207207\n",
      "Threshold 0.00199163192883, FPR = 0.412878787879, TPR = 0.970720720721\n",
      "Threshold 0.00110632949509, FPR = 0.485795454545, TPR = 0.981981981982\n",
      "Threshold 0.000396769784857, FPR = 0.600378787879, TPR = 0.995495495495\n",
      "Threshold 6.69063228997e-05, FPR = 0.821022727273, TPR = 1.0\n",
      "Threshold 1.8241124053e-05, FPR = 0.939393939394, TPR = 1.0\n"
     ]
    }
   ],
   "source": [
    "for i in range(0,len(fpr), 10):\n",
    "    print(\"Threshold {0}, FPR = {1}, TPR = {2}\".format(thresholds[i], fpr[i], tpr[i]))"
   ]
  },
  {
   "cell_type": "code",
   "execution_count": 26,
   "metadata": {
    "collapsed": false
   },
   "outputs": [
    {
     "data": {
      "text/plain": [
       "<matplotlib.text.Text at 0x7ff08c345f10>"
      ]
     },
     "execution_count": 26,
     "metadata": {},
     "output_type": "execute_result"
    },
    {
     "data": {
      "image/png": "[encoded data removed]",
      "text/plain": [
       "<matplotlib.figure.Figure at 0x7ff08c498e50>"
      ]
     },
     "metadata": {},
     "output_type": "display_data"
    }
   ],
   "source": [
    "from sklearn.metrics import precision_recall_curve\n",
    "precision, recall, thresholds = precision_recall_curve(dftest['Stable'], y_pred[:,1])\n",
    "fig, ax = plt.subplots()\n",
    "ax.plot(recall, precision)\n",
    "ax.set_xlim([0.0, 1.0])\n",
    "ax.set_ylim([0.0, 1.0])\n",
    "ax.set_xlabel('Recall')\n",
    "ax.set_ylabel('Precision')\n",
    "ax.set_title('Precision Recall curve')"
   ]
  },
  {
   "cell_type": "code",
   "execution_count": 27,
   "metadata": {
    "collapsed": false
   },
   "outputs": [
    {
     "name": "stdout",
     "output_type": "stream",
     "text": [
      "Threshold 0.000130913525936, Precision = 0.366336633663, Recall = 1.0\n",
      "Threshold 0.000185044453247, Precision = 0.378309137489, Recall = 0.997747747748\n",
      "Threshold 0.000250189128565, Precision = 0.39203539823, Recall = 0.997747747748\n",
      "Threshold 0.000344392901752, Precision = 0.406422018349, Recall = 0.997747747748\n",
      "Threshold 0.000481554452563, Precision = 0.420952380952, Recall = 0.995495495495\n",
      "Threshold 0.000643479521386, Precision = 0.433663366337, Recall = 0.986486486486\n",
      "Threshold 0.000913826632313, Precision = 0.450515463918, Recall = 0.984234234234\n",
      "Threshold 0.001280028373, Precision = 0.467741935484, Recall = 0.97972972973\n",
      "Threshold 0.00173550529871, Precision = 0.487640449438, Recall = 0.977477477477\n",
      "Threshold 0.00221712584607, Precision = 0.507058823529, Recall = 0.970720720721\n",
      "Threshold 0.00291426689364, Precision = 0.52962962963, Recall = 0.966216216216\n",
      "Threshold 0.00403758278117, Precision = 0.551948051948, Recall = 0.957207207207\n",
      "Threshold 0.00732172513381, Precision = 0.582191780822, Recall = 0.957207207207\n",
      "Threshold 0.0124493073672, Precision = 0.613043478261, Recall = 0.952702702703\n",
      "Threshold 0.0177404955029, Precision = 0.64, Recall = 0.936936936937\n",
      "Threshold 0.0328318327665, Precision = 0.673770491803, Recall = 0.925675675676\n",
      "Threshold 0.0589028224349, Precision = 0.701754385965, Recall = 0.900900900901\n",
      "Threshold 0.102667808533, Precision = 0.739622641509, Recall = 0.882882882883\n",
      "Threshold 0.198213070631, Precision = 0.769387755102, Recall = 0.849099099099\n",
      "Threshold 0.347512483597, Precision = 0.802222222222, Recall = 0.813063063063\n",
      "Threshold 0.613866388798, Precision = 0.834146341463, Recall = 0.77027027027\n",
      "Threshold 0.793890655041, Precision = 0.872972972973, Recall = 0.727477477477\n",
      "Threshold 0.904776096344, Precision = 0.890909090909, Recall = 0.662162162162\n",
      "Threshold 0.958557188511, Precision = 0.920689655172, Recall = 0.601351351351\n",
      "Threshold 0.986165523529, Precision = 0.932, Recall = 0.524774774775\n",
      "Threshold 0.993100166321, Precision = 0.942857142857, Recall = 0.445945945946\n",
      "Threshold 0.997207820415, Precision = 0.964705882353, Recall = 0.369369369369\n",
      "Threshold 0.998686373234, Precision = 0.984615384615, Recall = 0.288288288288\n",
      "Threshold 0.999518156052, Precision = 0.988888888889, Recall = 0.20045045045\n",
      "Threshold 0.999796569347, Precision = 0.98, Recall = 0.11036036036\n",
      "Threshold 0.999968886375, Precision = 1.0, Recall = 0.018018018018\n"
     ]
    }
   ],
   "source": [
    "for i in range(0,len(recall), 40):\n",
    "    print(\"Threshold {0}, Precision = {1}, Recall = {2}\".format(thresholds[i], precision[i], recall[i]))"
   ]
  },
  {
   "cell_type": "code",
   "execution_count": 28,
   "metadata": {
    "collapsed": false
   },
   "outputs": [],
   "source": [
    "quant = np.arange(0.01, 1.0, 0.01)*100\n",
    "prob_Stable = np.percentile(Stable,quant)\n",
    "\n",
    "quant_f = interp1d(prob_Stable, quant)\n",
    "prob_f=interp1d(quant, prob_Stable)"
   ]
  },
  {
   "cell_type": "code",
   "execution_count": 29,
   "metadata": {
    "collapsed": false
   },
   "outputs": [
    {
     "data": {
      "image/png": "[encoded data removed]",
      "text/plain": [
       "<matplotlib.figure.Figure at 0x7ff08c330590>"
      ]
     },
     "metadata": {},
     "output_type": "display_data"
    }
   ],
   "source": [
    "fig, ax = plt.subplots()\n",
    "plt.plot(quant, prob_Stable)\n",
    "ax.set_xlabel('Percentile', fontsize=14)\n",
    "ax.set_ylabel('Predicted Probability', fontsize=14)\n",
    "plt.show()"
   ]
  },
  {
   "cell_type": "code",
   "execution_count": 30,
   "metadata": {
    "collapsed": false
   },
   "outputs": [
    {
     "name": "stdout",
     "output_type": "stream",
     "text": [
      "(0.00063320830638986087, 43)\n",
      "(0.016874532029032711, 63)\n",
      "(0.090915353447198824, 72)\n",
      "(0.24368428945541376, 78)\n",
      "(0.49658925265073806, 81)\n",
      "(0.76442054152488714, 87)\n",
      "(0.86777651131153122, 88)\n",
      "(0.93038147449493414, 89)\n",
      "(0.96566321909427644, 92)\n",
      "(0.9825225198268891, 92)\n",
      "(0.9896728920936585, 93)\n",
      "(0.99346626043319697, 94)\n",
      "(0.99632866740226744, 95)\n",
      "(0.997864112854004, 98)\n",
      "(0.99866063714027409, 98)\n",
      "(0.99928550958633422, 99)\n",
      "(0.99953108429908744, 98)\n",
      "(0.99970030307769775, 98)\n",
      "(0.99983349442481995, 100)\n",
      "(0.99994824409484862, 100)\n"
     ]
    }
   ],
   "source": [
    "_tv = []\n",
    "_accv = []\n",
    "_accnormv = []\n",
    "for i, thresh in enumerate(prob_Stable):\n",
    "    _loc_yes = Stable >= thresh\n",
    "    _loc_no = Unstable >= thresh\n",
    "    _yes = Stable[_loc_yes].shape[0]\n",
    "    _no = Unstable[_loc_no].shape[0]\n",
    "    _total = _yes + _no\n",
    "    if i % 5 == 0:\n",
    "        print(thresh, _yes*100 / _total)\n",
    "    _tv.append(thresh)\n",
    "    _accv.append(_yes*100/_total)\n",
    "#    _accnormv.append(_yes / Stable.shape[0] / (_yes / Stable.shape[0] + _no / Unstable.shape[0]))\n",
    "_tv = np.asarray(_tv)\n",
    "_accv = np.asarray(_accv)\n",
    "#_accnormv = np.asarray(_accnormv)"
   ]
  },
  {
   "cell_type": "code",
   "execution_count": 31,
   "metadata": {
    "collapsed": false
   },
   "outputs": [
    {
     "name": "stdout",
     "output_type": "stream",
     "text": [
      "Pred prob for 90 percent accuracy: 0.943867\n",
      "Pred prob for 80 percent accuracy: 0.376499\n"
     ]
    },
    {
     "data": {
      "image/png": "[encoded data removed]",
      "text/plain": [
       "<matplotlib.figure.Figure at 0x7ff08c338610>"
      ]
     },
     "metadata": {},
     "output_type": "display_data"
    },
    {
     "name": "stdout",
     "output_type": "stream",
     "text": [
      "To obtain 90 percent accuracy need to go to 38 quantile\n",
      "To obtain 80 percent accuracy need to go to 19 quantile\n"
     ]
    },
    {
     "data": {
      "image/png": "[encoded data removed]",
      "text/plain": [
       "<matplotlib.figure.Figure at 0x7ff08c666610>"
      ]
     },
     "metadata": {},
     "output_type": "display_data"
    }
   ],
   "source": [
    "# Find 90% accuracy:\n",
    "# calculate fit\n",
    "thr_f = interp1d(_accv, _tv)\n",
    "\n",
    "# calculate new x's and y's\n",
    "thresh_fit = thr_f(_accv)\n",
    "thresh_90=thr_f(90)\n",
    "thresh_80=thr_f(80)\n",
    "\n",
    "print('Pred prob for 90 percent accuracy: %f' % thresh_90)\n",
    "print('Pred prob for 80 percent accuracy: %f' % thresh_80)\n",
    "\n",
    "fig, ax1 = plt.subplots()\n",
    "plt.plot(_tv, _accv , thresh_90, 90, 'o', thresh_80, 80, 'o')\n",
    "\n",
    "ax1.set_xlabel('Predicted Prob', fontsize=14)\n",
    "ax1.set_ylabel('Accuracy %', fontsize=14)\n",
    "plt.show()\n",
    "\n",
    "# calculate new x's and y's\n",
    "quant_fit = quant_f(prob_Stable)\n",
    "quant_acc90=quant_f(thresh_90)\n",
    "quant_acc80=quant_f(thresh_80)\n",
    "print('To obtain 90 percent accuracy need to go to %1.f quantile' % quant_acc90)\n",
    "print('To obtain 80 percent accuracy need to go to %1.f quantile' % quant_acc80)\n",
    "\n",
    "\n",
    "fig, ax1 = plt.subplots()\n",
    "#plt.plot(f(_tv),_accv *100., f(thresh_90),0.9*100., 'o', markersize=10, color=orangeWCN, LineWidth=3)\n",
    "ax1.plot(_tv,_accv, thresh_90, 90, 'o', markersize=10,  lw=3, zorder=60)\n",
    "ax1.set_xlabel('Predicted Probabiliy', fontsize=14)\n",
    "\n",
    "ax1.set_ylabel('Accuracy %', fontsize=14)\n",
    "ay2 = ax1.twiny()\n",
    "\n",
    "# setting grid:\n",
    "#plt.grid()\n",
    "xticks=prob_f(np.array([0.167, 0.333, 0.5, 0.667, 0.833])*100)\n",
    "xlabels=['17%', '33%', '50%', '67%','83%']\n",
    "\n",
    "\n",
    "ay2.xaxis.grid(True, which='major', zorder=50)\n",
    "\n",
    "ay2.set_xlabel('Percentile of Data Simulated ' , fontsize=14)\n",
    "ay2.set_xlim(ax1.get_xlim())\n",
    "ay2.set_xticks(xticks, minor=False)\n",
    "ay2.set_xticklabels(xlabels)\n",
    "\n",
    "\n",
    "\n",
    "ax1.axvspan(thresh_90, 1, alpha=0.5, zorder=20)\n",
    "legend = ax1.text((1-thresh_90)/2+thresh_90, 55, 'Top %.0f%% of Data \\nAbove 90%% \\nAccuracy ' %((1-quant_f(thresh_90))),\n",
    "                  fontsize=12, ha='center', zorder=40)\n",
    "\n"
   ]
  },
  {
   "cell_type": "code",
   "execution_count": null,
   "metadata": {
    "collapsed": true
   },
   "outputs": [],
   "source": []
  }
 ],
 "metadata": {
  "kernelspec": {
   "display_name": "Python 2",
   "language": "python",
   "name": "python2"
  },
  "language_info": {
   "codemirror_mode": {
    "name": "ipython",
    "version": 2
   },
   "file_extension": ".py",
   "mimetype": "text/x-python",
   "name": "python",
   "nbconvert_exporter": "python",
   "pygments_lexer": "ipython2",
   "version": "2.7.11"
  },
  "widgets": {
   "state": {
    "8800cadd0fdc45b08f915e824adaa5de": {
     "views": [
      {
       "cell_index": 19
      }
     ]
    },
    "9ccc6f89004444ae946a421873e554d0": {
     "views": [
      {
       "cell_index": 18
      }
     ]
    },
    "a5db64f29a054f279c08c7225057e16e": {
     "views": [
      {
       "cell_index": 25
      }
     ]
    },
    "aaa00a799c164061b7315065a2f766d5": {
     "views": [
      {
       "cell_index": 24
      }
     ]
    },
    "b5da2ff27b064bbb9485878168ddece8": {
     "views": [
      {
       "cell_index": 16
      }
     ]
    },
    "e861da66cb99433aa8b694466db61d27": {
     "views": [
      {
       "cell_index": 23
      }
     ]
    },
    "fbaaebcc65b14d7b9e7f70c69fa9bae3": {
     "views": [
      {
       "cell_index": 13
      }
     ]
    }
   },
   "version": "1.2.0"
  }
 },
 "nbformat": 4,
 "nbformat_minor": 0
}
