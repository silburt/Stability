{
 "cells": [
  {
   "cell_type": "code",
   "execution_count": 123,
   "metadata": {
    "collapsed": false
   },
   "outputs": [],
   "source": [
    "import pandas as pd\n",
    "import numpy as np"
   ]
  },
  {
   "cell_type": "markdown",
   "metadata": {},
   "source": [
    "## Get Data"
   ]
  },
  {
   "cell_type": "code",
   "execution_count": 2,
   "metadata": {
    "collapsed": false
   },
   "outputs": [
    {
     "data": {
      "text/html": [
       "<div>\n",
       "<table border=\"1\" class=\"dataframe\">\n",
       "  <thead>\n",
       "    <tr style=\"text-align: right;\">\n",
       "      <th></th>\n",
       "      <th>Stable</th>\n",
       "      <th>Norbits_instability</th>\n",
       "      <th>Norbits</th>\n",
       "      <th>Mplanet</th>\n",
       "      <th>RH/a</th>\n",
       "      <th>a1</th>\n",
       "      <th>P1</th>\n",
       "      <th>e1</th>\n",
       "      <th>pomega1</th>\n",
       "      <th>inc1</th>\n",
       "      <th>...</th>\n",
       "      <th>norm_min_e2</th>\n",
       "      <th>norm_min_window10_e2</th>\n",
       "      <th>norm_min_e3</th>\n",
       "      <th>norm_min_window10_e3</th>\n",
       "      <th>norm_min_inc1</th>\n",
       "      <th>norm_min_window10_inc1</th>\n",
       "      <th>norm_min_inc2</th>\n",
       "      <th>norm_min_window10_inc2</th>\n",
       "      <th>norm_min_inc3</th>\n",
       "      <th>norm_min_window10_inc3</th>\n",
       "    </tr>\n",
       "    <tr>\n",
       "      <th>Sim_ID</th>\n",
       "      <th></th>\n",
       "      <th></th>\n",
       "      <th></th>\n",
       "      <th></th>\n",
       "      <th></th>\n",
       "      <th></th>\n",
       "      <th></th>\n",
       "      <th></th>\n",
       "      <th></th>\n",
       "      <th></th>\n",
       "      <th></th>\n",
       "      <th></th>\n",
       "      <th></th>\n",
       "      <th></th>\n",
       "      <th></th>\n",
       "      <th></th>\n",
       "      <th></th>\n",
       "      <th></th>\n",
       "      <th></th>\n",
       "      <th></th>\n",
       "      <th></th>\n",
       "    </tr>\n",
       "  </thead>\n",
       "  <tbody>\n",
       "    <tr>\n",
       "      <th>2414</th>\n",
       "      <td>True</td>\n",
       "      <td>1.000000e+07</td>\n",
       "      <td>10000000.0</td>\n",
       "      <td>0.000015</td>\n",
       "      <td>0.021544</td>\n",
       "      <td>0.056553</td>\n",
       "      <td>0.013449</td>\n",
       "      <td>0.008127</td>\n",
       "      <td>-4.462116</td>\n",
       "      <td>0.003942</td>\n",
       "      <td>...</td>\n",
       "      <td>0.000304</td>\n",
       "      <td>0.013332</td>\n",
       "      <td>0.000026</td>\n",
       "      <td>0.035966</td>\n",
       "      <td>0.000702</td>\n",
       "      <td>0.000327</td>\n",
       "      <td>0.000850</td>\n",
       "      <td>0.001853</td>\n",
       "      <td>0.000268</td>\n",
       "      <td>0.000527</td>\n",
       "    </tr>\n",
       "    <tr>\n",
       "      <th>4056</th>\n",
       "      <td>False</td>\n",
       "      <td>2.980163e+04</td>\n",
       "      <td>10000000.0</td>\n",
       "      <td>0.000015</td>\n",
       "      <td>0.021544</td>\n",
       "      <td>0.050793</td>\n",
       "      <td>0.011447</td>\n",
       "      <td>0.005201</td>\n",
       "      <td>4.606446</td>\n",
       "      <td>0.009269</td>\n",
       "      <td>...</td>\n",
       "      <td>0.000536</td>\n",
       "      <td>0.085972</td>\n",
       "      <td>0.000398</td>\n",
       "      <td>0.009833</td>\n",
       "      <td>0.000102</td>\n",
       "      <td>0.000159</td>\n",
       "      <td>0.000238</td>\n",
       "      <td>0.007656</td>\n",
       "      <td>0.000095</td>\n",
       "      <td>0.000473</td>\n",
       "    </tr>\n",
       "    <tr>\n",
       "      <th>4855</th>\n",
       "      <td>True</td>\n",
       "      <td>1.000000e+07</td>\n",
       "      <td>10000000.0</td>\n",
       "      <td>0.000015</td>\n",
       "      <td>0.021544</td>\n",
       "      <td>0.053113</td>\n",
       "      <td>0.012241</td>\n",
       "      <td>0.004883</td>\n",
       "      <td>0.605644</td>\n",
       "      <td>0.000564</td>\n",
       "      <td>...</td>\n",
       "      <td>0.000176</td>\n",
       "      <td>0.048310</td>\n",
       "      <td>0.000261</td>\n",
       "      <td>0.006232</td>\n",
       "      <td>0.000552</td>\n",
       "      <td>0.025484</td>\n",
       "      <td>0.000111</td>\n",
       "      <td>0.000176</td>\n",
       "      <td>0.000191</td>\n",
       "      <td>0.000011</td>\n",
       "    </tr>\n",
       "    <tr>\n",
       "      <th>517</th>\n",
       "      <td>True</td>\n",
       "      <td>1.000000e+07</td>\n",
       "      <td>10000000.0</td>\n",
       "      <td>0.000015</td>\n",
       "      <td>0.021544</td>\n",
       "      <td>0.056243</td>\n",
       "      <td>0.013338</td>\n",
       "      <td>0.008056</td>\n",
       "      <td>1.245784</td>\n",
       "      <td>0.007544</td>\n",
       "      <td>...</td>\n",
       "      <td>0.000050</td>\n",
       "      <td>0.004476</td>\n",
       "      <td>0.000432</td>\n",
       "      <td>0.000578</td>\n",
       "      <td>0.000763</td>\n",
       "      <td>0.000076</td>\n",
       "      <td>0.000403</td>\n",
       "      <td>0.002325</td>\n",
       "      <td>0.000358</td>\n",
       "      <td>0.000026</td>\n",
       "    </tr>\n",
       "    <tr>\n",
       "      <th>1520</th>\n",
       "      <td>False</td>\n",
       "      <td>2.241913e+04</td>\n",
       "      <td>10000000.0</td>\n",
       "      <td>0.000015</td>\n",
       "      <td>0.021544</td>\n",
       "      <td>0.048262</td>\n",
       "      <td>0.010603</td>\n",
       "      <td>0.012062</td>\n",
       "      <td>-0.577740</td>\n",
       "      <td>0.005068</td>\n",
       "      <td>...</td>\n",
       "      <td>0.000107</td>\n",
       "      <td>0.004912</td>\n",
       "      <td>0.000071</td>\n",
       "      <td>0.025597</td>\n",
       "      <td>0.000004</td>\n",
       "      <td>0.008796</td>\n",
       "      <td>0.000984</td>\n",
       "      <td>0.001798</td>\n",
       "      <td>0.000431</td>\n",
       "      <td>0.027389</td>\n",
       "    </tr>\n",
       "  </tbody>\n",
       "</table>\n",
       "<p>5 rows × 170 columns</p>\n",
       "</div>"
      ],
      "text/plain": [
       "       Stable  Norbits_instability     Norbits   Mplanet      RH/a        a1  \\\n",
       "Sim_ID                                                                         \n",
       "2414     True         1.000000e+07  10000000.0  0.000015  0.021544  0.056553   \n",
       "4056    False         2.980163e+04  10000000.0  0.000015  0.021544  0.050793   \n",
       "4855     True         1.000000e+07  10000000.0  0.000015  0.021544  0.053113   \n",
       "517      True         1.000000e+07  10000000.0  0.000015  0.021544  0.056243   \n",
       "1520    False         2.241913e+04  10000000.0  0.000015  0.021544  0.048262   \n",
       "\n",
       "              P1        e1   pomega1      inc1           ...            \\\n",
       "Sim_ID                                                   ...             \n",
       "2414    0.013449  0.008127 -4.462116  0.003942           ...             \n",
       "4056    0.011447  0.005201  4.606446  0.009269           ...             \n",
       "4855    0.012241  0.004883  0.605644  0.000564           ...             \n",
       "517     0.013338  0.008056  1.245784  0.007544           ...             \n",
       "1520    0.010603  0.012062 -0.577740  0.005068           ...             \n",
       "\n",
       "        norm_min_e2  norm_min_window10_e2  norm_min_e3  norm_min_window10_e3  \\\n",
       "Sim_ID                                                                         \n",
       "2414       0.000304              0.013332     0.000026              0.035966   \n",
       "4056       0.000536              0.085972     0.000398              0.009833   \n",
       "4855       0.000176              0.048310     0.000261              0.006232   \n",
       "517        0.000050              0.004476     0.000432              0.000578   \n",
       "1520       0.000107              0.004912     0.000071              0.025597   \n",
       "\n",
       "        norm_min_inc1  norm_min_window10_inc1  norm_min_inc2  \\\n",
       "Sim_ID                                                         \n",
       "2414         0.000702                0.000327       0.000850   \n",
       "4056         0.000102                0.000159       0.000238   \n",
       "4855         0.000552                0.025484       0.000111   \n",
       "517          0.000763                0.000076       0.000403   \n",
       "1520         0.000004                0.008796       0.000984   \n",
       "\n",
       "        norm_min_window10_inc2  norm_min_inc3  norm_min_window10_inc3  \n",
       "Sim_ID                                                                 \n",
       "2414                  0.001853       0.000268                0.000527  \n",
       "4056                  0.007656       0.000095                0.000473  \n",
       "4855                  0.000176       0.000191                0.000011  \n",
       "517                   0.002325       0.000358                0.000026  \n",
       "1520                  0.001798       0.000431                0.027389  \n",
       "\n",
       "[5 rows x 170 columns]"
      ]
     },
     "execution_count": 2,
     "metadata": {},
     "output_type": "execute_result"
    }
   ],
   "source": [
    "dtrain = pd.read_csv('../data/1e7data_train.csv', index_col=0)\n",
    "dtest = pd.read_csv('../data/1e7data_holdout.csv', index_col=0)\n",
    "dtrain.head()"
   ]
  },
  {
   "cell_type": "code",
   "execution_count": 8,
   "metadata": {
    "collapsed": false
   },
   "outputs": [],
   "source": [
    "#indices of runs\n",
    "train_i = dtrain.index\n",
    "test_i = dtest.index"
   ]
  },
  {
   "cell_type": "code",
   "execution_count": 61,
   "metadata": {
    "collapsed": false
   },
   "outputs": [
    {
     "data": {
      "text/html": [
       "<div>\n",
       "<table border=\"1\" class=\"dataframe\">\n",
       "  <thead>\n",
       "    <tr style=\"text-align: right;\">\n",
       "      <th></th>\n",
       "      <th>Lyapunov Time</th>\n",
       "      <th>a1</th>\n",
       "      <th>P1</th>\n",
       "      <th>e1</th>\n",
       "      <th>pomega1</th>\n",
       "      <th>inc1</th>\n",
       "      <th>Omega1</th>\n",
       "      <th>f1</th>\n",
       "      <th>a2</th>\n",
       "      <th>P2</th>\n",
       "      <th>...</th>\n",
       "      <th>inc2</th>\n",
       "      <th>Omega2</th>\n",
       "      <th>f2</th>\n",
       "      <th>a3</th>\n",
       "      <th>P3</th>\n",
       "      <th>e3</th>\n",
       "      <th>pomega3</th>\n",
       "      <th>inc3</th>\n",
       "      <th>Omega3</th>\n",
       "      <th>f3</th>\n",
       "    </tr>\n",
       "  </thead>\n",
       "  <tbody>\n",
       "    <tr>\n",
       "      <th>0</th>\n",
       "      <td>0.000000</td>\n",
       "      <td>0.056549</td>\n",
       "      <td>0.013447</td>\n",
       "      <td>0.008142</td>\n",
       "      <td>-4.467394</td>\n",
       "      <td>0.003942</td>\n",
       "      <td>-3.134681</td>\n",
       "      <td>1.954992</td>\n",
       "      <td>0.067501</td>\n",
       "      <td>0.017537</td>\n",
       "      <td>...</td>\n",
       "      <td>0.002068</td>\n",
       "      <td>-1.855341</td>\n",
       "      <td>1.465630</td>\n",
       "      <td>0.077645</td>\n",
       "      <td>0.021635</td>\n",
       "      <td>0.006589</td>\n",
       "      <td>1.988693</td>\n",
       "      <td>0.010630</td>\n",
       "      <td>2.969191</td>\n",
       "      <td>-1.678443</td>\n",
       "    </tr>\n",
       "    <tr>\n",
       "      <th>1</th>\n",
       "      <td>-0.202318</td>\n",
       "      <td>0.056536</td>\n",
       "      <td>0.013443</td>\n",
       "      <td>0.009014</td>\n",
       "      <td>-4.352241</td>\n",
       "      <td>0.003939</td>\n",
       "      <td>-3.136235</td>\n",
       "      <td>1.866199</td>\n",
       "      <td>0.067516</td>\n",
       "      <td>0.017543</td>\n",
       "      <td>...</td>\n",
       "      <td>0.002129</td>\n",
       "      <td>-1.862288</td>\n",
       "      <td>0.504250</td>\n",
       "      <td>0.077643</td>\n",
       "      <td>0.021634</td>\n",
       "      <td>0.007906</td>\n",
       "      <td>2.099365</td>\n",
       "      <td>0.010612</td>\n",
       "      <td>2.964521</td>\n",
       "      <td>-1.099823</td>\n",
       "    </tr>\n",
       "    <tr>\n",
       "      <th>2</th>\n",
       "      <td>-0.604674</td>\n",
       "      <td>0.056535</td>\n",
       "      <td>0.013442</td>\n",
       "      <td>0.007947</td>\n",
       "      <td>-4.281563</td>\n",
       "      <td>0.003936</td>\n",
       "      <td>-3.135819</td>\n",
       "      <td>1.817454</td>\n",
       "      <td>0.067537</td>\n",
       "      <td>0.017551</td>\n",
       "      <td>...</td>\n",
       "      <td>0.002136</td>\n",
       "      <td>-1.864697</td>\n",
       "      <td>-0.518746</td>\n",
       "      <td>0.077622</td>\n",
       "      <td>0.021626</td>\n",
       "      <td>0.007963</td>\n",
       "      <td>2.100301</td>\n",
       "      <td>0.010611</td>\n",
       "      <td>2.963802</td>\n",
       "      <td>-0.403497</td>\n",
       "    </tr>\n",
       "    <tr>\n",
       "      <th>3</th>\n",
       "      <td>-1.235684</td>\n",
       "      <td>0.056535</td>\n",
       "      <td>0.013442</td>\n",
       "      <td>0.007617</td>\n",
       "      <td>-4.455353</td>\n",
       "      <td>0.003935</td>\n",
       "      <td>-3.137396</td>\n",
       "      <td>2.014344</td>\n",
       "      <td>0.067512</td>\n",
       "      <td>0.017542</td>\n",
       "      <td>...</td>\n",
       "      <td>0.002161</td>\n",
       "      <td>-1.863708</td>\n",
       "      <td>4.695949</td>\n",
       "      <td>0.077650</td>\n",
       "      <td>0.021637</td>\n",
       "      <td>0.007356</td>\n",
       "      <td>2.281041</td>\n",
       "      <td>0.010608</td>\n",
       "      <td>2.962154</td>\n",
       "      <td>0.113696</td>\n",
       "    </tr>\n",
       "    <tr>\n",
       "      <th>4</th>\n",
       "      <td>-2.164848</td>\n",
       "      <td>0.056537</td>\n",
       "      <td>0.013443</td>\n",
       "      <td>0.008831</td>\n",
       "      <td>-4.436246</td>\n",
       "      <td>0.003929</td>\n",
       "      <td>-3.137588</td>\n",
       "      <td>2.020701</td>\n",
       "      <td>0.067508</td>\n",
       "      <td>0.017540</td>\n",
       "      <td>...</td>\n",
       "      <td>0.002236</td>\n",
       "      <td>-1.863911</td>\n",
       "      <td>3.582446</td>\n",
       "      <td>0.077653</td>\n",
       "      <td>0.021638</td>\n",
       "      <td>0.005705</td>\n",
       "      <td>2.100080</td>\n",
       "      <td>0.010604</td>\n",
       "      <td>2.955748</td>\n",
       "      <td>0.990928</td>\n",
       "    </tr>\n",
       "  </tbody>\n",
       "</table>\n",
       "<p>5 rows × 22 columns</p>\n",
       "</div>"
      ],
      "text/plain": [
       "   Lyapunov Time        a1        P1        e1   pomega1      inc1    Omega1  \\\n",
       "0       0.000000  0.056549  0.013447  0.008142 -4.467394  0.003942 -3.134681   \n",
       "1      -0.202318  0.056536  0.013443  0.009014 -4.352241  0.003939 -3.136235   \n",
       "2      -0.604674  0.056535  0.013442  0.007947 -4.281563  0.003936 -3.135819   \n",
       "3      -1.235684  0.056535  0.013442  0.007617 -4.455353  0.003935 -3.137396   \n",
       "4      -2.164848  0.056537  0.013443  0.008831 -4.436246  0.003929 -3.137588   \n",
       "\n",
       "         f1        a2        P2    ...         inc2    Omega2        f2  \\\n",
       "0  1.954992  0.067501  0.017537    ...     0.002068 -1.855341  1.465630   \n",
       "1  1.866199  0.067516  0.017543    ...     0.002129 -1.862288  0.504250   \n",
       "2  1.817454  0.067537  0.017551    ...     0.002136 -1.864697 -0.518746   \n",
       "3  2.014344  0.067512  0.017542    ...     0.002161 -1.863708  4.695949   \n",
       "4  2.020701  0.067508  0.017540    ...     0.002236 -1.863911  3.582446   \n",
       "\n",
       "         a3        P3        e3   pomega3      inc3    Omega3        f3  \n",
       "0  0.077645  0.021635  0.006589  1.988693  0.010630  2.969191 -1.678443  \n",
       "1  0.077643  0.021634  0.007906  2.099365  0.010612  2.964521 -1.099823  \n",
       "2  0.077622  0.021626  0.007963  2.100301  0.010611  2.963802 -0.403497  \n",
       "3  0.077650  0.021637  0.007356  2.281041  0.010608  2.962154  0.113696  \n",
       "4  0.077653  0.021638  0.005705  2.100080  0.010604  2.955748  0.990928  \n",
       "\n",
       "[5 rows x 22 columns]"
      ]
     },
     "execution_count": 61,
     "metadata": {},
     "output_type": "execute_result"
    }
   ],
   "source": [
    "columns = ['Time', 'Lyapunov Time']\n",
    "for i in ['1', '2', '3']:\n",
    "    columns += ['a'+i, 'P'+i, 'e'+i, 'pomega'+i, 'inc'+i, 'Omega'+i, 'f'+i]\n",
    "\n",
    "sample = pd.read_csv(\"../data/featuresfromshortruns/output%d.csv\"%train_i[0], names=columns)\n",
    "del sample['Time']\n",
    "sample['Lyapunov Time'][0] = 0\n",
    "sample.head()"
   ]
  },
  {
   "cell_type": "code",
   "execution_count": 124,
   "metadata": {
    "collapsed": false
   },
   "outputs": [],
   "source": [
    "#Each 1D image has length 2000 with 22 channels (or 22 colours)\n",
    "X_train = []\n",
    "y_train = []\n",
    "for i in train_i[0:100]:\n",
    "    sample = pd.read_csv(\"../data/featuresfromshortruns/output%d.csv\"%i, names=columns)\n",
    "    if len(sample) == 2000:\n",
    "        del sample['Time']\n",
    "        sample['Lyapunov Time'][0] = 0\n",
    "        X_train.append(sample.values)\n",
    "        y_train.append(int(dtrain['Stable'].iloc[dtrain.index == i]))\n",
    "        \n",
    "X_train = np.asarray(X_train)\n",
    "y_train = np_utils.to_categorical(np.asarray(y_train))\n",
    "num_classes = y_train.shape[1]"
   ]
  },
  {
   "cell_type": "markdown",
   "metadata": {},
   "source": [
    "## Build Model"
   ]
  },
  {
   "cell_type": "code",
   "execution_count": 125,
   "metadata": {
    "collapsed": true
   },
   "outputs": [],
   "source": [
    "from keras.models import Model, Sequential\n",
    "from keras.layers import Dense, Activation, Dropout, Convolution1D, MaxPooling1D, Flatten\n",
    "from keras.constraints import maxnorm\n",
    "from keras.optimizers import SGD\n",
    "from keras.utils import np_utils"
   ]
  },
  {
   "cell_type": "code",
   "execution_count": 132,
   "metadata": {
    "collapsed": false
   },
   "outputs": [],
   "source": [
    "#create model\n",
    "model = Sequential()\n",
    "model.add(Convolution1D(32, 100, input_shape=(22, 2000), border_mode='same', activation='relu'))\n",
    "model.add(Dropout(0.2))\n",
    "model.add(MaxPooling1D(pool_length=2))   #half the image in each direction\n",
    "model.add(Convolution1D(32, 100,  activation='relu', border_mode='same', W_constraint=maxnorm(3)))\n",
    "model.add(MaxPooling1D(pool_length=2))   #half the image in each direction\n",
    "model.add(Flatten())\n",
    "model.add(Dense(512, activation='relu', W_constraint=maxnorm(3)))\n",
    "model.add(Dropout(0.5))\n",
    "model.add(Dense(num_classes, activation='softmax'))"
   ]
  },
  {
   "cell_type": "code",
   "execution_count": 133,
   "metadata": {
    "collapsed": false
   },
   "outputs": [
    {
     "name": "stdout",
     "output_type": "stream",
     "text": [
      "____________________________________________________________________________________________________\n",
      "Layer (type)                     Output Shape          Param #     Connected to                     \n",
      "====================================================================================================\n",
      "convolution1d_15 (Convolution1D) (None, 22, 32)        6400032     convolution1d_input_8[0][0]      \n",
      "____________________________________________________________________________________________________\n",
      "dropout_18 (Dropout)             (None, 22, 32)        0           convolution1d_15[0][0]           \n",
      "____________________________________________________________________________________________________\n",
      "maxpooling1d_12 (MaxPooling1D)   (None, 11, 32)        0           dropout_18[0][0]                 \n",
      "____________________________________________________________________________________________________\n",
      "convolution1d_16 (Convolution1D) (None, 11, 32)        102432      maxpooling1d_12[0][0]            \n",
      "____________________________________________________________________________________________________\n",
      "maxpooling1d_13 (MaxPooling1D)   (None, 5, 32)         0           convolution1d_16[0][0]           \n",
      "____________________________________________________________________________________________________\n",
      "flatten_8 (Flatten)              (None, 160)           0           maxpooling1d_13[0][0]            \n",
      "____________________________________________________________________________________________________\n",
      "dense_12 (Dense)                 (None, 512)           82432       flatten_8[0][0]                  \n",
      "____________________________________________________________________________________________________\n",
      "dropout_19 (Dropout)             (None, 512)           0           dense_12[0][0]                   \n",
      "____________________________________________________________________________________________________\n",
      "dense_13 (Dense)                 (None, 2)             1026        dropout_19[0][0]                 \n",
      "====================================================================================================\n",
      "Total params: 6,585,922\n",
      "Trainable params: 6,585,922\n",
      "Non-trainable params: 0\n",
      "____________________________________________________________________________________________________\n",
      "None\n"
     ]
    }
   ],
   "source": [
    "# Compile model\n",
    "epochs = 25\n",
    "lrate = 0.01\n",
    "decay = lrate/epochs\n",
    "sgd = SGD(lr=lrate, momentum=0.9, decay=decay, nesterov=False)\n",
    "model.compile(loss='categorical_crossentropy', optimizer=sgd, metrics=['accuracy'])\n",
    "print(model.summary())"
   ]
  },
  {
   "cell_type": "code",
   "execution_count": 134,
   "metadata": {
    "collapsed": false
   },
   "outputs": [
    {
     "ename": "ValueError",
     "evalue": "Error when checking model input: expected convolution1d_input_8 to have shape (None, 22, 2000) but got array with shape (95, 2000, 22)",
     "output_type": "error",
     "traceback": [
      "\u001b[0;31m---------------------------------------------------------------------------\u001b[0m",
      "\u001b[0;31mValueError\u001b[0m                                Traceback (most recent call last)",
      "\u001b[0;32m<ipython-input-134-c634be46bba4>\u001b[0m in \u001b[0;36m<module>\u001b[0;34m()\u001b[0m\n\u001b[0;32m----> 1\u001b[0;31m \u001b[0mmodel\u001b[0m\u001b[0;34m.\u001b[0m\u001b[0mfit\u001b[0m\u001b[0;34m(\u001b[0m\u001b[0mX_train\u001b[0m\u001b[0;34m,\u001b[0m \u001b[0my_train\u001b[0m\u001b[0;34m,\u001b[0m \u001b[0mvalidation_data\u001b[0m\u001b[0;34m=\u001b[0m\u001b[0;34m(\u001b[0m\u001b[0mX_test\u001b[0m\u001b[0;34m,\u001b[0m \u001b[0my_test\u001b[0m\u001b[0;34m)\u001b[0m\u001b[0;34m,\u001b[0m \u001b[0mnb_epoch\u001b[0m\u001b[0;34m=\u001b[0m\u001b[0mepochs\u001b[0m\u001b[0;34m,\u001b[0m \u001b[0mbatch_size\u001b[0m\u001b[0;34m=\u001b[0m\u001b[0;36m32\u001b[0m\u001b[0;34m)\u001b[0m\u001b[0;34m\u001b[0m\u001b[0m\n\u001b[0m",
      "\u001b[0;32m/Users/silburt/anaconda2/envs/ml/lib/python2.7/site-packages/keras/models.pyc\u001b[0m in \u001b[0;36mfit\u001b[0;34m(self, x, y, batch_size, nb_epoch, verbose, callbacks, validation_split, validation_data, shuffle, class_weight, sample_weight, initial_epoch, **kwargs)\u001b[0m\n\u001b[1;32m    670\u001b[0m                               \u001b[0mclass_weight\u001b[0m\u001b[0;34m=\u001b[0m\u001b[0mclass_weight\u001b[0m\u001b[0;34m,\u001b[0m\u001b[0;34m\u001b[0m\u001b[0m\n\u001b[1;32m    671\u001b[0m                               \u001b[0msample_weight\u001b[0m\u001b[0;34m=\u001b[0m\u001b[0msample_weight\u001b[0m\u001b[0;34m,\u001b[0m\u001b[0;34m\u001b[0m\u001b[0m\n\u001b[0;32m--> 672\u001b[0;31m                               initial_epoch=initial_epoch)\n\u001b[0m\u001b[1;32m    673\u001b[0m \u001b[0;34m\u001b[0m\u001b[0m\n\u001b[1;32m    674\u001b[0m     def evaluate(self, x, y, batch_size=32, verbose=1,\n",
      "\u001b[0;32m/Users/silburt/anaconda2/envs/ml/lib/python2.7/site-packages/keras/engine/training.pyc\u001b[0m in \u001b[0;36mfit\u001b[0;34m(self, x, y, batch_size, nb_epoch, verbose, callbacks, validation_split, validation_data, shuffle, class_weight, sample_weight, initial_epoch)\u001b[0m\n\u001b[1;32m   1115\u001b[0m             \u001b[0mclass_weight\u001b[0m\u001b[0;34m=\u001b[0m\u001b[0mclass_weight\u001b[0m\u001b[0;34m,\u001b[0m\u001b[0;34m\u001b[0m\u001b[0m\n\u001b[1;32m   1116\u001b[0m             \u001b[0mcheck_batch_axis\u001b[0m\u001b[0;34m=\u001b[0m\u001b[0mFalse\u001b[0m\u001b[0;34m,\u001b[0m\u001b[0;34m\u001b[0m\u001b[0m\n\u001b[0;32m-> 1117\u001b[0;31m             batch_size=batch_size)\n\u001b[0m\u001b[1;32m   1118\u001b[0m         \u001b[0;31m# prepare validation data\u001b[0m\u001b[0;34m\u001b[0m\u001b[0;34m\u001b[0m\u001b[0m\n\u001b[1;32m   1119\u001b[0m         \u001b[0;32mif\u001b[0m \u001b[0mvalidation_data\u001b[0m\u001b[0;34m:\u001b[0m\u001b[0;34m\u001b[0m\u001b[0m\n",
      "\u001b[0;32m/Users/silburt/anaconda2/envs/ml/lib/python2.7/site-packages/keras/engine/training.pyc\u001b[0m in \u001b[0;36m_standardize_user_data\u001b[0;34m(self, x, y, sample_weight, class_weight, check_batch_axis, batch_size)\u001b[0m\n\u001b[1;32m   1028\u001b[0m                                    \u001b[0mself\u001b[0m\u001b[0;34m.\u001b[0m\u001b[0minternal_input_shapes\u001b[0m\u001b[0;34m,\u001b[0m\u001b[0;34m\u001b[0m\u001b[0m\n\u001b[1;32m   1029\u001b[0m                                    \u001b[0mcheck_batch_axis\u001b[0m\u001b[0;34m=\u001b[0m\u001b[0mFalse\u001b[0m\u001b[0;34m,\u001b[0m\u001b[0;34m\u001b[0m\u001b[0m\n\u001b[0;32m-> 1030\u001b[0;31m                                    exception_prefix='model input')\n\u001b[0m\u001b[1;32m   1031\u001b[0m         y = standardize_input_data(y, self.output_names,\n\u001b[1;32m   1032\u001b[0m                                    \u001b[0moutput_shapes\u001b[0m\u001b[0;34m,\u001b[0m\u001b[0;34m\u001b[0m\u001b[0m\n",
      "\u001b[0;32m/Users/silburt/anaconda2/envs/ml/lib/python2.7/site-packages/keras/engine/training.pyc\u001b[0m in \u001b[0;36mstandardize_input_data\u001b[0;34m(data, names, shapes, check_batch_axis, exception_prefix)\u001b[0m\n\u001b[1;32m    122\u001b[0m                             \u001b[0;34m' to have shape '\u001b[0m \u001b[0;34m+\u001b[0m \u001b[0mstr\u001b[0m\u001b[0;34m(\u001b[0m\u001b[0mshapes\u001b[0m\u001b[0;34m[\u001b[0m\u001b[0mi\u001b[0m\u001b[0;34m]\u001b[0m\u001b[0;34m)\u001b[0m \u001b[0;34m+\u001b[0m\u001b[0;34m\u001b[0m\u001b[0m\n\u001b[1;32m    123\u001b[0m                             \u001b[0;34m' but got array with shape '\u001b[0m \u001b[0;34m+\u001b[0m\u001b[0;34m\u001b[0m\u001b[0m\n\u001b[0;32m--> 124\u001b[0;31m                             str(array.shape))\n\u001b[0m\u001b[1;32m    125\u001b[0m     \u001b[0;32mreturn\u001b[0m \u001b[0marrays\u001b[0m\u001b[0;34m\u001b[0m\u001b[0m\n\u001b[1;32m    126\u001b[0m \u001b[0;34m\u001b[0m\u001b[0m\n",
      "\u001b[0;31mValueError\u001b[0m: Error when checking model input: expected convolution1d_input_8 to have shape (None, 22, 2000) but got array with shape (95, 2000, 22)"
     ]
    }
   ],
   "source": [
    "model.fit(X_train, y_train, validation_data=(X_test, y_test), nb_epoch=epochs, batch_size=32)"
   ]
  },
  {
   "cell_type": "markdown",
   "metadata": {},
   "source": [
    "## Extra crap to be deleted later"
   ]
  },
  {
   "cell_type": "code",
   "execution_count": 22,
   "metadata": {
    "collapsed": false
   },
   "outputs": [
    {
     "name": "stdout",
     "output_type": "stream",
     "text": [
      "Downloading data from http://www.cs.toronto.edu/~kriz/cifar-10-python.tar.gz\n",
      "Untaring file...\n"
     ]
    }
   ],
   "source": [
    "from keras.datasets import cifar10\n",
    "(X_train, y_train), (X_test, y_test) = cifar10.load_data()"
   ]
  },
  {
   "cell_type": "code",
   "execution_count": 52,
   "metadata": {
    "collapsed": false
   },
   "outputs": [
    {
     "name": "stdout",
     "output_type": "stream",
     "text": [
      "(50000, 32, 32, 3)\n",
      "(10000, 1)\n"
     ]
    }
   ],
   "source": [
    "print X_train.shape\n",
    "print y_test.shape"
   ]
  },
  {
   "cell_type": "code",
   "execution_count": 53,
   "metadata": {
    "collapsed": false
   },
   "outputs": [
    {
     "name": "stdout",
     "output_type": "stream",
     "text": [
      "(50000, 10)\n",
      "[ 0.  0.  0.  0.  0.  0.  1.  0.  0.  0.]\n"
     ]
    }
   ],
   "source": [
    "#proper input to keras I think\n",
    "y_train2 = np_utils.to_categorical(y_train)\n",
    "print y_train2.shape\n",
    "print y_train2[0]"
   ]
  },
  {
   "cell_type": "code",
   "execution_count": null,
   "metadata": {
    "collapsed": true
   },
   "outputs": [],
   "source": []
  }
 ],
 "metadata": {
  "kernelspec": {
   "display_name": "Python 2",
   "language": "python",
   "name": "python2"
  },
  "language_info": {
   "codemirror_mode": {
    "name": "ipython",
    "version": 2
   },
   "file_extension": ".py",
   "mimetype": "text/x-python",
   "name": "python",
   "nbconvert_exporter": "python",
   "pygments_lexer": "ipython2",
   "version": "2.7.11"
  }
 },
 "nbformat": 4,
 "nbformat_minor": 2
}
